{
 "cells": [
  {
   "cell_type": "code",
   "execution_count": null,
   "metadata": {},
   "outputs": [],
   "source": [
    "#| hide\n",
    "from gh_pages_example.core import *\n",
    "from gh_pages_example.toolbox import *"
   ]
  },
  {
   "cell_type": "code",
   "execution_count": null,
   "metadata": {},
   "outputs": [],
   "source": [
    "#| hide\n",
    "from nbdev.showdoc import *"
   ]
  },
  {
   "cell_type": "markdown",
   "metadata": {},
   "source": [
    "# gh-pages-example\n",
    "\n",
    "> A quick project to test setting up gh-pages"
   ]
  },
  {
   "cell_type": "markdown",
   "metadata": {},
   "source": [
    "This file will become your README and also the index of your documentation."
   ]
  },
  {
   "cell_type": "markdown",
   "metadata": {},
   "source": [
    "## Install"
   ]
  },
  {
   "cell_type": "markdown",
   "metadata": {},
   "source": [
    "```sh\n",
    "pip install gh_pages_example\n",
    "```"
   ]
  },
  {
   "cell_type": "markdown",
   "metadata": {},
   "source": [
    "## How to use"
   ]
  },
  {
   "cell_type": "markdown",
   "metadata": {},
   "source": [
    "Here is the documentation for `fermi_learning`"
   ]
  },
  {
   "cell_type": "code",
   "execution_count": null,
   "metadata": {},
   "outputs": [
    {
     "data": {
      "text/markdown": [
       "---\n",
       "\n",
       "[source](https://github.com/PaoloBova/gh-pages-example/blob/main/gh_pages_example/toolbox.py#LNone){target=\"_blank\" style=\"float:right; font-size:smaller\"}\n",
       "\n",
       "### fermi_learning\n",
       "\n",
       ">      fermi_learning (β:nptyping.ndarray.NDArray,\n",
       ">                      fitnessA:nptyping.ndarray.NDArray,\n",
       ">                      fitnessB:nptyping.ndarray.NDArray)\n",
       "\n",
       "Compute the likelihood that a player with strategy B adopts strategy A using the fermi function.\n",
       "\n",
       "|    | **Type** | **Details** |\n",
       "| -- | -------- | ----------- |\n",
       "| β | NDArray | learning rate |\n",
       "| fitnessA | NDArray | fitness of strategy A |\n",
       "| fitnessB | NDArray | fitness of strategy B |\n",
       "| **Returns** | **NDArray** |  |"
      ],
      "text/plain": [
       "---\n",
       "\n",
       "[source](https://github.com/PaoloBova/gh-pages-example/blob/main/gh_pages_example/toolbox.py#LNone){target=\"_blank\" style=\"float:right; font-size:smaller\"}\n",
       "\n",
       "### fermi_learning\n",
       "\n",
       ">      fermi_learning (β:nptyping.ndarray.NDArray,\n",
       ">                      fitnessA:nptyping.ndarray.NDArray,\n",
       ">                      fitnessB:nptyping.ndarray.NDArray)\n",
       "\n",
       "Compute the likelihood that a player with strategy B adopts strategy A using the fermi function.\n",
       "\n",
       "|    | **Type** | **Details** |\n",
       "| -- | -------- | ----------- |\n",
       "| β | NDArray | learning rate |\n",
       "| fitnessA | NDArray | fitness of strategy A |\n",
       "| fitnessB | NDArray | fitness of strategy B |\n",
       "| **Returns** | **NDArray** |  |"
      ]
     },
     "execution_count": null,
     "metadata": {},
     "output_type": "execute_result"
    }
   ],
   "source": [
    "show_doc(fermi_learning)"
   ]
  },
  {
   "cell_type": "code",
   "execution_count": null,
   "metadata": {},
   "outputs": [
    {
     "data": {
      "text/plain": [
       "2"
      ]
     },
     "execution_count": null,
     "metadata": {},
     "output_type": "execute_result"
    }
   ],
   "source": [
    "1+1"
   ]
  },
  {
   "cell_type": "code",
   "execution_count": null,
   "metadata": {},
   "outputs": [],
   "source": []
  }
 ],
 "metadata": {
  "kernelspec": {
   "display_name": "Python 3 (ipykernel)",
   "language": "python",
   "name": "python3"
  }
 },
 "nbformat": 4,
 "nbformat_minor": 4
}
