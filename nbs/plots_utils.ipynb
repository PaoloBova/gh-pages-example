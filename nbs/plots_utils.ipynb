{
 "cells": [
  {
   "cell_type": "markdown",
   "id": "805dda51-5ed9-42de-b1ec-abbea459faaa",
   "metadata": {},
   "source": [
    "# Plot utilities\n",
    "\n",
    "> A set of convenience functions for plotting code"
   ]
  },
  {
   "cell_type": "code",
   "execution_count": null,
   "id": "a079e2fb-ff5c-4cca-9ace-5b50f013c0c7",
   "metadata": {},
   "outputs": [],
   "source": [
    "#| default_exp plot_utils"
   ]
  },
  {
   "cell_type": "code",
   "execution_count": null,
   "id": "7c3b18d6-611c-462a-83ef-486a2d09ea6f",
   "metadata": {},
   "outputs": [],
   "source": [
    "#| export\n",
    "import fastcore.test\n",
    "import matplotlib as mpl\n",
    "import matplotlib.pyplot as plt\n",
    "from nbdev.showdoc import *\n",
    "import nptyping\n",
    "import numpy as np\n",
    "import pandas"
   ]
  },
  {
   "cell_type": "code",
   "execution_count": null,
   "id": "566fa1f4-09b2-437b-8595-a786ea0b1be6",
   "metadata": {},
   "outputs": [],
   "source": [
    "#| export\n",
    "def plot_strategy_distribution(data, # The dataset containing data on parameters and the strategy distribution\n",
    "                               strategy_set, # The strategies to plot from the dataset\n",
    "                               x=\"pr\", # The parameter to place on the x-axis of the plot\n",
    "                               x_label='Risk of an AI disaster, pr', # the x-axis label\n",
    "                               title='Strategy distribution', # the plot title\n",
    "                               ) -> None:\n",
    "    \"\"\"Plot the strategy distribution as we vary `x`.\"\"\"\n",
    "\n",
    "    fig, ax = plt.subplots()\n",
    "    ax.stackplot(data[x],\n",
    "                 [data[strategy + \"_frequency\"] for strategy in strategy_set],\n",
    "                 labels=strategy_set,\n",
    "                 alpha=0.8)\n",
    "    ax.legend(loc='upper left')\n",
    "    ax.set_title(title)\n",
    "    ax.set_xlabel(x_label)\n",
    "    ax.set_ylabel('Proportion')\n",
    "\n",
    "    # Add threshold boundaries to convey dilemma region\n",
    "    plt.vlines([data['threshold_society_prefers_safety'].values[0],\n",
    "                data['threshold_risk_dominant_safety'].values[0]],\n",
    "               0,\n",
    "               0.995,\n",
    "               colors=['C2', 'C3'],\n",
    "               linewidth=3)"
   ]
  },
  {
   "cell_type": "code",
   "execution_count": null,
   "id": "d74dc40c-7b07-4be0-b002-344494b1be5a",
   "metadata": {},
   "outputs": [],
   "source": [
    "#| export\n",
    "def plot_heatmap(table, # A pivot table, created using `pandas.pivot` function\n",
    "                 xlabel=\"x\",\n",
    "                 ylabel=\"y\",\n",
    "                 zlabel=\"z\",\n",
    "                 cmap='inferno',\n",
    "                 zmin=0,\n",
    "                 zmax=1,\n",
    "                ):\n",
    "    \"\"\"Plot heatmap using the index, columns, and values from `table`.\"\"\"\n",
    "    heatmap, ax = plt.subplots()\n",
    "    im = ax.imshow(table.values,\n",
    "                   cmap=cmap,\n",
    "                   extent=[table.columns.min(),\n",
    "                           table.columns.max(),\n",
    "                           table.index.min(),\n",
    "                           table.index.max()],\n",
    "                   vmin=zmin,\n",
    "                   vmax=zmax,\n",
    "                   interpolation='nearest',\n",
    "                   origin='lower',\n",
    "                   aspect='auto')\n",
    "    ax.set(xlabel=xlabel,\n",
    "           ylabel=ylabel)\n",
    "\n",
    "    cbar = heatmap.colorbar(im)\n",
    "    cbar.ax.set_ylabel(zlabel)"
   ]
  },
  {
   "cell_type": "code",
   "execution_count": null,
   "id": "57aaa989-0ed7-4e57-a953-7db372e0febd",
   "metadata": {},
   "outputs": [],
   "source": [
    "#| hide\n",
    "import nbdev; nbdev.nbdev_export()"
   ]
  }
 ],
 "metadata": {
  "kernelspec": {
   "display_name": "Python 3 (ipykernel)",
   "language": "python",
   "name": "python3"
  }
 },
 "nbformat": 4,
 "nbformat_minor": 5
}
