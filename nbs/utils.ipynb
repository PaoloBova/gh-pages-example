{
 "cells": [
  {
   "cell_type": "markdown",
   "metadata": {},
   "source": [
    "# Utilities\n",
    "\n",
    "> A set of functions that I commonly use in notebooks"
   ]
  },
  {
   "cell_type": "code",
   "execution_count": null,
   "metadata": {},
   "outputs": [],
   "source": [
    "#| default_exp utils"
   ]
  },
  {
   "cell_type": "code",
   "execution_count": null,
   "metadata": {},
   "outputs": [],
   "source": [
    "#| export\n",
    "import fastcore\n",
    "import functools\n",
    "from nbdev.showdoc import *\n",
    "import nptyping\n",
    "import numpy as np"
   ]
  },
  {
   "cell_type": "code",
   "execution_count": null,
   "metadata": {},
   "outputs": [],
   "source": [
    "#| export\n",
    "def thread_macro(current_value, *funcs, identifier=\"self\"):\n",
    "    \"\"\"Pipes current_value through each function in funcs.\n",
    "\n",
    "    Each element in funcs is either a function or a list/tuple containing\n",
    "    a function followed by its other arguments.\n",
    "    This function imitates the Clojure as-if threading macro.\n",
    "\n",
    "    Notes: By default current_value is threaded as the first argument of the\n",
    "    function call. Yet, one can use the syntax [func, arg1, \"self\", arg2] (or\n",
    "    (func, arg1, \"self\", arg2)) so that current_value will instead be threaded\n",
    "    in whatever place \"self\" would be. If you need to, you can set this \"self\"\n",
    "    identifier to a different value.\n",
    "    \"\"\"\n",
    "\n",
    "    for func in funcs:\n",
    "        if isinstance(func, (list, tuple)):\n",
    "            place = 0\n",
    "            for i, el in enumerate(func[1:]):\n",
    "                if el == identifier:\n",
    "                    place = i\n",
    "                    func = [el for el in func if el != identifier]\n",
    "            func, args1, args2 = func[0], func[1:place + 1], func[place + 1:]\n",
    "            current_value = func(*args1, current_value, *args2)\n",
    "        else:\n",
    "            current_value = func(current_value)\n",
    "    return current_value"
   ]
  },
  {
   "cell_type": "code",
   "execution_count": null,
   "metadata": {},
   "outputs": [],
   "source": [
    "#| export\n",
    "def assoc(m:dict, *kargs):\n",
    "    \"Add every two elements in kargs as a new key-value item in dictionary `m`.\"\n",
    "    return {**m, **dict(zip(kargs[::2],\n",
    "                            kargs[1::2]))}"
   ]
  },
  {
   "cell_type": "code",
   "execution_count": null,
   "metadata": {},
   "outputs": [],
   "source": [
    "#| export\n",
    "def get(m:dict, k:str):\n",
    "    \"Get attribute k from dictionary m.\"\n",
    "    return m.get(k)"
   ]
  },
  {
   "cell_type": "code",
   "execution_count": null,
   "metadata": {},
   "outputs": [],
   "source": [
    "#| export\n",
    "def broadcast_concatenate_axes(ax1, ax2):\n",
    "    \"\"\"Broadcast both numpy axes and concatenate along last dimension\"\"\"\n",
    "    ax1new = ax1\n",
    "    for _ in range(np.ndim(ax2) - 1):\n",
    "        ax1new = ax1new[..., None, :]\n",
    "    ax2new = ax2\n",
    "    for _ in range(np.ndim(ax1) - 1):\n",
    "        ax2new = ax2new[None, ..., :]\n",
    "    ax1new = np.broadcast_to(ax1new,\n",
    "                             (*ax1.shape[:-1], *ax2.shape[:-1], ax1.shape[-1]))\n",
    "    ax2new = np.broadcast_to(ax2new,\n",
    "                             (*ax1.shape[:-1], *ax2.shape[:-1], ax2.shape[-1]))\n",
    "    ax = np.concatenate((ax1new, ax2new), axis=-1)\n",
    "    return ax"
   ]
  },
  {
   "cell_type": "code",
   "execution_count": null,
   "metadata": {},
   "outputs": [],
   "source": [
    "#| export\n",
    "def build_grid_from_axes(axes:list, # Each axis in axes gives an array of values that should be repeated for each value in the other axes. Primitive types and lists of primitive types are first promoted to numpy arrays.\n",
    "                         override:bool=False, # whether to build the grid if it is very large\n",
    "                        ) -> np.ndarray: # A 2D numpy array with all combinations of elements specified in axes\n",
    "    \"\"\"Build a numpy array with all combinations of elements specified in axes.\"\"\"\n",
    "\n",
    "    dtypes = (float, int, bool, str)\n",
    "    for i, axis in enumerate(axes):\n",
    "        condition = isinstance(axis, dtypes) or all(\n",
    "            isinstance(el, dtypes) for el in list(axis))\n",
    "        axes[i] = np.array([axis]).T if condition else axis\n",
    "    final_size = np.prod([axis.shape[0] for axis in axes])\n",
    "    if (final_size > 5*10**6) & (not override):\n",
    "        raise ValueError(f\"\"\"Your axes imply you want to create a grid with {final_size} > 5 million rows!\n",
    "        If you're confident you can do this without crashing your computer, pass override=True to this function.\"\"\")\n",
    "    tensor = functools.reduce(broadcast_concatenate_axes, axes)\n",
    "    return tensor.reshape((-1, tensor.shape[-1]))"
   ]
  },
  {
   "cell_type": "code",
   "execution_count": null,
   "metadata": {},
   "outputs": [
    {
     "data": {
      "text/markdown": [
       "---\n",
       "\n",
       "[source](https://github.com/PaoloBova/gh-pages-example/blob/main/gh_pages_example/utils.py#L70){target=\"_blank\" style=\"float:right; font-size:smaller\"}\n",
       "\n",
       "### build_grid_from_axes\n",
       "\n",
       ">      build_grid_from_axes (axes:list, override:bool=False)\n",
       "\n",
       "Build a numpy array with all combinations of elements specified in axes.\n",
       "\n",
       "|    | **Type** | **Default** | **Details** |\n",
       "| -- | -------- | ----------- | ----------- |\n",
       "| axes | list |  | Each axis in axes gives an array of values that should be repeated for each value in the other axes. Primitive types and lists of primitive types are first promoted to numpy arrays. |\n",
       "| override | bool | False | whether to build the grid if it is very large |\n",
       "| **Returns** | **ndarray** |  | **A 2D numpy array with all combinations of elements specified in axes** |"
      ],
      "text/plain": [
       "---\n",
       "\n",
       "[source](https://github.com/PaoloBova/gh-pages-example/blob/main/gh_pages_example/utils.py#L70){target=\"_blank\" style=\"float:right; font-size:smaller\"}\n",
       "\n",
       "### build_grid_from_axes\n",
       "\n",
       ">      build_grid_from_axes (axes:list, override:bool=False)\n",
       "\n",
       "Build a numpy array with all combinations of elements specified in axes.\n",
       "\n",
       "|    | **Type** | **Default** | **Details** |\n",
       "| -- | -------- | ----------- | ----------- |\n",
       "| axes | list |  | Each axis in axes gives an array of values that should be repeated for each value in the other axes. Primitive types and lists of primitive types are first promoted to numpy arrays. |\n",
       "| override | bool | False | whether to build the grid if it is very large |\n",
       "| **Returns** | **ndarray** |  | **A 2D numpy array with all combinations of elements specified in axes** |"
      ]
     },
     "execution_count": null,
     "metadata": {},
     "output_type": "execute_result"
    }
   ],
   "source": [
    "show_doc(build_grid_from_axes)"
   ]
  },
  {
   "cell_type": "markdown",
   "metadata": {},
   "source": [
    "We can build simple grids"
   ]
  },
  {
   "cell_type": "code",
   "execution_count": null,
   "metadata": {},
   "outputs": [
    {
     "data": {
      "text/plain": [
       "array([[0, 0],\n",
       "       [0, 1],\n",
       "       [0, 2],\n",
       "       [1, 0],\n",
       "       [1, 1],\n",
       "       [1, 2]])"
      ]
     },
     "execution_count": null,
     "metadata": {},
     "output_type": "execute_result"
    }
   ],
   "source": [
    "build_grid_from_axes([range(2), range(3)])"
   ]
  },
  {
   "cell_type": "markdown",
   "metadata": {},
   "source": [
    "Or build more arbitrary grids"
   ]
  },
  {
   "cell_type": "code",
   "execution_count": null,
   "metadata": {},
   "outputs": [
    {
     "data": {
      "text/plain": [
       "array([[0.1, 5. ],\n",
       "       [0.1, 4. ],\n",
       "       [0.7, 5. ],\n",
       "       [0.7, 4. ],\n",
       "       [0.8, 5. ],\n",
       "       [0.8, 4. ]])"
      ]
     },
     "execution_count": null,
     "metadata": {},
     "output_type": "execute_result"
    }
   ],
   "source": [
    "build_grid_from_axes([[0.1, 0.7, 0.8], [5, 4]])"
   ]
  },
  {
   "cell_type": "markdown",
   "metadata": {},
   "source": [
    "`build_grid_from_axes` throws an error if you try to build a grid which has > 5 million rows. This error should help you avoid accidentally crashing your computer with unreasonably large grids."
   ]
  },
  {
   "cell_type": "code",
   "execution_count": null,
   "metadata": {},
   "outputs": [],
   "source": [
    "with fastcore.test.ExceptionExpected(ex=ValueError):\n",
    "    build_grid_from_axes([range(500000), range(200000)], override=False)"
   ]
  },
  {
   "cell_type": "code",
   "execution_count": null,
   "metadata": {},
   "outputs": [],
   "source": [
    "#| export\n",
    "def model_builder(saved_args:dict, # a dictionary containing parameters we want to vary or hold fixed\n",
    "                  exclude_args:list[str]=[], # a list of arguments that should be returned as they are\n",
    "                  override:bool=False, # whether to build the grid if it is very large\n",
    "                  drop_args:list[str]=['override', 'exclude_args', 'drop_args'], # a list of arguments to drop from the final result\n",
    "                 ) -> dict: # A dictionary containing items for the desired models\n",
    "    \"\"\"Build models for all combinations of the valules in `saved_args`.\"\"\"\n",
    "    axes_args1 = {k: np.array(v)\n",
    "                  for k,v in saved_args.items()\n",
    "                  if (isinstance(v, np.ndarray)\n",
    "                      or (isinstance(v, list)\n",
    "                          and all(isinstance(el, float) for el in v)))}\n",
    "    axes_args2 = {k: np.arange(v[\"start\"], v[\"stop\"], v[\"step\"])\n",
    "                  for k,v in saved_args.items()\n",
    "                  if (isinstance(v, dict)\n",
    "                      and v.keys() == {\"start\", \"stop\", \"step\"})}\n",
    "    axes_args = {**axes_args1, **axes_args2}\n",
    "    grid = build_grid_from_axes(list(axes_args.values()),\n",
    "                                override=override)\n",
    "    models = {}\n",
    "    # add grid parameters first\n",
    "    for i, arg in enumerate(axes_args.keys()):\n",
    "        models[arg] = grid[:, i]\n",
    "    # add fixed parameters next\n",
    "    for arg, v in saved_args.items():\n",
    "        if arg not in (exclude_args\n",
    "                       + drop_args\n",
    "                       + list(axes_args.keys())):\n",
    "            models[arg] = np.array([v for _ in grid])\n",
    "    # add extra variables\n",
    "    for arg in exclude_args:\n",
    "        if (arg in saved_args.keys()\n",
    "            and arg not in drop_args):\n",
    "            models[arg] = saved_args[arg]\n",
    "    return models"
   ]
  },
  {
   "cell_type": "code",
   "execution_count": null,
   "metadata": {},
   "outputs": [
    {
     "data": {
      "text/markdown": [
       "---\n",
       "\n",
       "[source](https://github.com/PaoloBova/gh-pages-example/blob/main/gh_pages_example/utils.py#L88){target=\"_blank\" style=\"float:right; font-size:smaller\"}\n",
       "\n",
       "### model_builder\n",
       "\n",
       ">      model_builder (saved_args:dict, exclude_args:list[str]=[],\n",
       ">                     override:bool=False, drop_args:list[str]=['override',\n",
       ">                     'exclude_args', 'drop_args'])\n",
       "\n",
       "Build models for all combinations of the valules in `saved_args`.\n",
       "\n",
       "|    | **Type** | **Default** | **Details** |\n",
       "| -- | -------- | ----------- | ----------- |\n",
       "| saved_args | dict |  | a dictionary containing parameters we want to vary or hold fixed |\n",
       "| exclude_args | list | [] | a list of arguments that should be returned as they are |\n",
       "| override | bool | False | whether to build the grid if it is very large |\n",
       "| drop_args | list | ['override', 'exclude_args', 'drop_args'] | a list of arguments to drop from the final result |\n",
       "| **Returns** | **dict** |  | **A dictionary containing items for the desired models** |"
      ],
      "text/plain": [
       "---\n",
       "\n",
       "[source](https://github.com/PaoloBova/gh-pages-example/blob/main/gh_pages_example/utils.py#L88){target=\"_blank\" style=\"float:right; font-size:smaller\"}\n",
       "\n",
       "### model_builder\n",
       "\n",
       ">      model_builder (saved_args:dict, exclude_args:list[str]=[],\n",
       ">                     override:bool=False, drop_args:list[str]=['override',\n",
       ">                     'exclude_args', 'drop_args'])\n",
       "\n",
       "Build models for all combinations of the valules in `saved_args`.\n",
       "\n",
       "|    | **Type** | **Default** | **Details** |\n",
       "| -- | -------- | ----------- | ----------- |\n",
       "| saved_args | dict |  | a dictionary containing parameters we want to vary or hold fixed |\n",
       "| exclude_args | list | [] | a list of arguments that should be returned as they are |\n",
       "| override | bool | False | whether to build the grid if it is very large |\n",
       "| drop_args | list | ['override', 'exclude_args', 'drop_args'] | a list of arguments to drop from the final result |\n",
       "| **Returns** | **dict** |  | **A dictionary containing items for the desired models** |"
      ]
     },
     "execution_count": null,
     "metadata": {},
     "output_type": "execute_result"
    }
   ],
   "source": [
    "show_doc(model_builder)"
   ]
  },
  {
   "cell_type": "markdown",
   "metadata": {},
   "source": [
    "## Clojure multimethods in python"
   ]
  },
  {
   "cell_type": "markdown",
   "metadata": {},
   "source": [
    "**Disclaimer:** Unlike the code above, this code is not my invention. All credit goes to Adam Bard for coming up with this (and Guido for writing an earlier implementation). Adam Bard made this code freely available at https://adambard.com/blog/implementing-multimethods-in-python/."
   ]
  },
  {
   "cell_type": "markdown",
   "metadata": {},
   "source": [
    "Alternatively, this package exists but only works based on type hints: https://pypi.org/project/multimethod/#description.\n",
    "In my opinion, the clojure dispatch function approach is far more versatile. Big thanks to Adam Bard for implementing this."
   ]
  },
  {
   "cell_type": "code",
   "execution_count": null,
   "metadata": {},
   "outputs": [],
   "source": [
    "#| export\n",
    "def multi(dispatch_fn):\n",
    "    def _inner(*args, **kwargs):\n",
    "        return _inner.__multi__.get(\n",
    "            dispatch_fn(*args, **kwargs),\n",
    "            _inner.__multi_default__\n",
    "        )(*args, **kwargs)\n",
    "    \n",
    "    _inner.__dispatch_fn__ = dispatch_fn\n",
    "    _inner.__multi__ = {}\n",
    "    _inner.__multi_default__ = lambda *args, **kwargs: None  # Default default\n",
    "    return _inner"
   ]
  },
  {
   "cell_type": "code",
   "execution_count": null,
   "metadata": {},
   "outputs": [],
   "source": [
    "#| export\n",
    "def method(dispatch_fn, dispatch_key=None):\n",
    "    def apply_decorator(fn):\n",
    "        if dispatch_key is None:\n",
    "            # Default case\n",
    "            dispatch_fn.__multi_default__ = fn\n",
    "        else:\n",
    "            dispatch_fn.__multi__[dispatch_key] = fn\n",
    "        return dispatch_fn\n",
    "    return apply_decorator"
   ]
  },
  {
   "cell_type": "markdown",
   "metadata": {},
   "source": [
    "### Examples and tests"
   ]
  },
  {
   "cell_type": "code",
   "execution_count": null,
   "metadata": {},
   "outputs": [],
   "source": [
    "#| export\n",
    "@multi\n",
    "def area(shape):\n",
    "    return shape.get('type')\n",
    "\n",
    "@method(area, 'square')\n",
    "def area(square):\n",
    "    return square['width'] * square['height']\n",
    "\n",
    "@method(area, 'circle')\n",
    "def area(circle):\n",
    "    return circle['radius'] ** 2 * 3.14159\n",
    "\n",
    "@method(area)\n",
    "def area(unknown_shape):\n",
    "    raise Exception(\"Can't calculate the area of this shape\")"
   ]
  },
  {
   "cell_type": "code",
   "execution_count": null,
   "metadata": {},
   "outputs": [],
   "source": [
    "#| export\n",
    "fastcore.test.test_eq(area({'type': 'square', 'width': 1, 'height': 1}), 1)\n",
    "fastcore.test.test_close(area({'type': 'circle', 'radius': 0.5}), 0.7853975)\n",
    "with fastcore.test.ExceptionExpected():\n",
    "    area({'type': 'rhombus'})"
   ]
  },
  {
   "cell_type": "markdown",
   "metadata": {},
   "source": [
    "A method for creating all strategy profile codes for a set of models."
   ]
  },
  {
   "cell_type": "code",
   "execution_count": null,
   "metadata": {},
   "outputs": [],
   "source": [
    "#| export\n",
    "def create_all_profiles(models):\n",
    "    \"\"\"Create all strategy profiles for the set of models.\"\"\"\n",
    "    sector_strategies = models.get('sector_strategies', {})\n",
    "    allowed_sectors = models.get('allowed_sectors', {})\n",
    "    n_players = models.get('n_players', len(allowed_sectors))\n",
    "    n_strategies = models.get('n_strategies',\n",
    "                              [len(v) for v in sector_strategies.values()])\n",
    "    n_strategies_total = np.sum(n_strategies)\n",
    "    n_strategies_total += 1  # Add null sector.\n",
    "    n_profiles = n_strategies_total ** n_players\n",
    "    strategy_axis = np.arange(n_strategies_total)[:, None]\n",
    "    grid = build_grid_from_axes([strategy_axis for _ in range(n_players)])\n",
    "    profiles = []\n",
    "    for row in grid:\n",
    "        profile = \"-\".join(map(str, row))\n",
    "        profiles.append(profile)\n",
    "    fastcore.test.test_eq(len(profiles), n_profiles)\n",
    "    return {**models, \"profiles\": profiles}"
   ]
  },
  {
   "cell_type": "markdown",
   "metadata": {},
   "source": [
    "##### Tests for `create_all_profiles`"
   ]
  },
  {
   "cell_type": "code",
   "execution_count": null,
   "metadata": {},
   "outputs": [],
   "source": [
    "# | export\n",
    "result = create_all_profiles({\"n_players\": 2, \"n_strategies\": 2})\n",
    "fastcore.test.test_eq(result['profiles'],\n",
    "                      ['0-0', '0-1', '0-2',\n",
    "                       '1-0', '1-1', '1-2',\n",
    "                       '2-0', '2-1', '2-2'])\n",
    "\n",
    "result = create_all_profiles({\"n_players\": 2, \"n_strategies\": [2, 1]})\n",
    "fastcore.test.test_eq(result['profiles'],\n",
    "                      [\"0-0\", \"0-1\", \"0-2\", \"0-3\",\n",
    "                       \"1-0\", \"1-1\", \"1-2\", \"1-3\",\n",
    "                       \"2-0\", \"2-1\", \"2-2\", \"2-3\",\n",
    "                       \"3-0\", \"3-1\", \"3-2\", \"3-3\", ])\n",
    "\n",
    "fastcore.test.test_eq(create_all_profiles({\"n_players\": 2,\n",
    "                                           \"n_strategies\": [2, 2]})['profiles'],\n",
    "                      create_all_profiles({\"n_players\": 2,\n",
    "                                          \"n_strategies\": 4})['profiles'])\n",
    "\n",
    "models = {\"allowed_sectors\": {\"P1\": [\"S1\"],\n",
    "                              \"P2\": [\"S2\"]},\n",
    "          \"sector_strategies\": {\"S1\": [1, 2],\n",
    "                                \"S2\": [3, 4]}}\n",
    "fastcore.test.test_eq(create_all_profiles(models)['profiles'],\n",
    "                      create_all_profiles({\"n_players\": 2,\n",
    "                                          \"n_strategies\": 4})['profiles'])\n"
   ]
  },
  {
   "cell_type": "code",
   "execution_count": null,
   "metadata": {},
   "outputs": [],
   "source": [
    "#| hide\n",
    "import nbdev; nbdev.nbdev_export()"
   ]
  }
 ],
 "metadata": {
  "kernelspec": {
   "display_name": "Python 3.10.6 ('base')",
   "language": "python",
   "name": "python3"
  }
 },
 "nbformat": 4,
 "nbformat_minor": 4
}
