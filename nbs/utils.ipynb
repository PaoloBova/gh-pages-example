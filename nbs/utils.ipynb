{
 "cells": [
  {
   "cell_type": "markdown",
   "metadata": {},
   "source": [
    "# Utilities\n",
    "\n",
    "> A set of functions that I commonly use in notebooks"
   ]
  },
  {
   "cell_type": "code",
   "execution_count": null,
   "metadata": {},
   "outputs": [],
   "source": [
    "#| default_exp utils"
   ]
  },
  {
   "cell_type": "code",
   "execution_count": null,
   "metadata": {},
   "outputs": [],
   "source": [
    "#| export\n",
    "import fastcore\n",
    "import functools\n",
    "from nbdev.showdoc import *\n",
    "import nptyping\n",
    "import numpy as np"
   ]
  },
  {
   "cell_type": "code",
   "execution_count": null,
   "metadata": {},
   "outputs": [],
   "source": [
    "#| export\n",
    "def thread_macro(current_value, *funcs, identifier=\"self\"):\n",
    "    \"\"\"Pipes current_value through each function in funcs.\n",
    "\n",
    "    Each element in funcs is either a function or a list/tuple containing\n",
    "    a function followed by its other arguments.\n",
    "    This function imitates the Clojure as-if threading macro.\n",
    "\n",
    "    Notes: By default current_value is threaded as the first argument of the\n",
    "    function call. Yet, one can use the syntax [func, arg1, \"self\", arg2] (or\n",
    "    (func, arg1, \"self\", arg2)) so that current_value will instead be threaded\n",
    "    in whatever place \"self\" would be. If you need to, you can set this \"self\"\n",
    "    identifier to a different value.\n",
    "    \"\"\"\n",
    "\n",
    "    for func in funcs:\n",
    "        if isinstance(func, (list, tuple)):\n",
    "            place = 0\n",
    "            for i, el in enumerate(func[1:]):\n",
    "                if el == identifier:\n",
    "                    place = i\n",
    "                    func = [el for el in func if el != identifier]\n",
    "            func, args1, args2 = func[0], func[1:place + 1], func[place + 1:]\n",
    "            current_value = func(*args1, current_value, *args2)\n",
    "        else:\n",
    "            current_value = func(current_value)\n",
    "    return current_value"
   ]
  },
  {
   "cell_type": "code",
   "execution_count": null,
   "metadata": {},
   "outputs": [],
   "source": [
    "#| export\n",
    "def assoc(m:dict, *kargs):\n",
    "    \"Add every two elements in kargs as a new key-value item in dictionary `m`.\"\n",
    "    return {**m, **dict(zip(kargs[::2],\n",
    "                            kargs[1::2]))}"
   ]
  },
  {
   "cell_type": "code",
   "execution_count": null,
   "metadata": {},
   "outputs": [],
   "source": [
    "#| export\n",
    "def get(m:dict, k:str):\n",
    "    \"Get attribute k from dictionary m.\"\n",
    "    return m.get(k)"
   ]
  },
  {
   "cell_type": "code",
   "execution_count": null,
   "metadata": {},
   "outputs": [],
   "source": [
    "#| export\n",
    "def broadcast_concatenate_axes(ax1, ax2):\n",
    "    \"\"\"Broadcast both numpy axes and concatenate along last dimension\"\"\"\n",
    "    ax1new = ax1\n",
    "    for _ in range(np.ndim(ax2) - 1):\n",
    "        ax1new = ax1new[..., None, :]\n",
    "    ax2new = ax2\n",
    "    for _ in range(np.ndim(ax1) - 1):\n",
    "        ax2new = ax2new[None, ..., :]\n",
    "    ax1new = np.broadcast_to(ax1new,\n",
    "                             (*ax1.shape[:-1], *ax2.shape[:-1], ax1.shape[-1]))\n",
    "    ax2new = np.broadcast_to(ax2new,\n",
    "                             (*ax1.shape[:-1], *ax2.shape[:-1], ax2.shape[-1]))\n",
    "    ax = np.concatenate((ax1new, ax2new), axis=-1)\n",
    "    return ax"
   ]
  },
  {
   "cell_type": "code",
   "execution_count": null,
   "metadata": {},
   "outputs": [],
   "source": [
    "#| export\n",
    "def build_grid_from_axes(axes:list, # Each axis in axes gives an array of values that should be repeated for each value in the other axes. Primitive types and lists of primitive types are first promoted to numpy arrays.\n",
    "                         override:bool=False, # whether to build the grid if it is very large\n",
    "                        ) -> np.ndarray: # A 2D numpy array with all combinations of elements specified in axes\n",
    "    \"\"\"Build a numpy array with all combinations of elements specified in axes.\"\"\"\n",
    "\n",
    "    dtypes = (float, int, bool, str)\n",
    "    for i, axis in enumerate(axes):\n",
    "        condition = isinstance(axis, dtypes) or all(\n",
    "            isinstance(el, dtypes) for el in list(axis))\n",
    "        axes[i] = np.array([axis]).T if condition else axis\n",
    "    final_size = np.prod([axis.shape[0] for axis in axes])\n",
    "    if (final_size > 5*10**6) & (not override):\n",
    "        raise ValueError(f\"\"\"Your axes imply you want to create a grid with {final_size} > 5 million rows!\n",
    "        If you're confident you can do this without crashing your computer, pass override=True to this function.\"\"\")\n",
    "    tensor = functools.reduce(broadcast_concatenate_axes, axes)\n",
    "    return tensor.reshape((-1, tensor.shape[-1]))"
   ]
  },
  {
   "cell_type": "code",
   "execution_count": null,
   "metadata": {},
   "outputs": [
    {
     "ename": "ModuleNotFoundError",
     "evalue": "No module named 'gh_pages_example._modidx'",
     "output_type": "error",
     "traceback": [
      "\u001b[0;31m---------------------------------------------------------------------------\u001b[0m",
      "\u001b[0;31mModuleNotFoundError\u001b[0m                       Traceback (most recent call last)",
      "File \u001b[0;32m~/mambaforge/lib/python3.10/site-packages/IPython/core/formatters.py:707\u001b[0m, in \u001b[0;36mPlainTextFormatter.__call__\u001b[0;34m(self, obj)\u001b[0m\n\u001b[1;32m    700\u001b[0m stream \u001b[38;5;241m=\u001b[39m StringIO()\n\u001b[1;32m    701\u001b[0m printer \u001b[38;5;241m=\u001b[39m pretty\u001b[38;5;241m.\u001b[39mRepresentationPrinter(stream, \u001b[38;5;28mself\u001b[39m\u001b[38;5;241m.\u001b[39mverbose,\n\u001b[1;32m    702\u001b[0m     \u001b[38;5;28mself\u001b[39m\u001b[38;5;241m.\u001b[39mmax_width, \u001b[38;5;28mself\u001b[39m\u001b[38;5;241m.\u001b[39mnewline,\n\u001b[1;32m    703\u001b[0m     max_seq_length\u001b[38;5;241m=\u001b[39m\u001b[38;5;28mself\u001b[39m\u001b[38;5;241m.\u001b[39mmax_seq_length,\n\u001b[1;32m    704\u001b[0m     singleton_pprinters\u001b[38;5;241m=\u001b[39m\u001b[38;5;28mself\u001b[39m\u001b[38;5;241m.\u001b[39msingleton_printers,\n\u001b[1;32m    705\u001b[0m     type_pprinters\u001b[38;5;241m=\u001b[39m\u001b[38;5;28mself\u001b[39m\u001b[38;5;241m.\u001b[39mtype_printers,\n\u001b[1;32m    706\u001b[0m     deferred_pprinters\u001b[38;5;241m=\u001b[39m\u001b[38;5;28mself\u001b[39m\u001b[38;5;241m.\u001b[39mdeferred_printers)\n\u001b[0;32m--> 707\u001b[0m \u001b[43mprinter\u001b[49m\u001b[38;5;241;43m.\u001b[39;49m\u001b[43mpretty\u001b[49m\u001b[43m(\u001b[49m\u001b[43mobj\u001b[49m\u001b[43m)\u001b[49m\n\u001b[1;32m    708\u001b[0m printer\u001b[38;5;241m.\u001b[39mflush()\n\u001b[1;32m    709\u001b[0m \u001b[38;5;28;01mreturn\u001b[39;00m stream\u001b[38;5;241m.\u001b[39mgetvalue()\n",
      "File \u001b[0;32m~/mambaforge/lib/python3.10/site-packages/IPython/lib/pretty.py:410\u001b[0m, in \u001b[0;36mRepresentationPrinter.pretty\u001b[0;34m(self, obj)\u001b[0m\n\u001b[1;32m    407\u001b[0m                         \u001b[38;5;28;01mreturn\u001b[39;00m meth(obj, \u001b[38;5;28mself\u001b[39m, cycle)\n\u001b[1;32m    408\u001b[0m                 \u001b[38;5;28;01mif\u001b[39;00m \u001b[38;5;28mcls\u001b[39m \u001b[38;5;129;01mis\u001b[39;00m \u001b[38;5;129;01mnot\u001b[39;00m \u001b[38;5;28mobject\u001b[39m \\\n\u001b[1;32m    409\u001b[0m                         \u001b[38;5;129;01mand\u001b[39;00m callable(\u001b[38;5;28mcls\u001b[39m\u001b[38;5;241m.\u001b[39m\u001b[38;5;18m__dict__\u001b[39m\u001b[38;5;241m.\u001b[39mget(\u001b[38;5;124m'\u001b[39m\u001b[38;5;124m__repr__\u001b[39m\u001b[38;5;124m'\u001b[39m)):\n\u001b[0;32m--> 410\u001b[0m                     \u001b[38;5;28;01mreturn\u001b[39;00m \u001b[43m_repr_pprint\u001b[49m\u001b[43m(\u001b[49m\u001b[43mobj\u001b[49m\u001b[43m,\u001b[49m\u001b[43m \u001b[49m\u001b[38;5;28;43mself\u001b[39;49m\u001b[43m,\u001b[49m\u001b[43m \u001b[49m\u001b[43mcycle\u001b[49m\u001b[43m)\u001b[49m\n\u001b[1;32m    412\u001b[0m     \u001b[38;5;28;01mreturn\u001b[39;00m _default_pprint(obj, \u001b[38;5;28mself\u001b[39m, cycle)\n\u001b[1;32m    413\u001b[0m \u001b[38;5;28;01mfinally\u001b[39;00m:\n",
      "File \u001b[0;32m~/mambaforge/lib/python3.10/site-packages/IPython/lib/pretty.py:778\u001b[0m, in \u001b[0;36m_repr_pprint\u001b[0;34m(obj, p, cycle)\u001b[0m\n\u001b[1;32m    776\u001b[0m \u001b[38;5;124;03m\"\"\"A pprint that just redirects to the normal repr function.\"\"\"\u001b[39;00m\n\u001b[1;32m    777\u001b[0m \u001b[38;5;66;03m# Find newlines and replace them with p.break_()\u001b[39;00m\n\u001b[0;32m--> 778\u001b[0m output \u001b[38;5;241m=\u001b[39m \u001b[38;5;28;43mrepr\u001b[39;49m\u001b[43m(\u001b[49m\u001b[43mobj\u001b[49m\u001b[43m)\u001b[49m\n\u001b[1;32m    779\u001b[0m lines \u001b[38;5;241m=\u001b[39m output\u001b[38;5;241m.\u001b[39msplitlines()\n\u001b[1;32m    780\u001b[0m \u001b[38;5;28;01mwith\u001b[39;00m p\u001b[38;5;241m.\u001b[39mgroup():\n",
      "File \u001b[0;32m~/mambaforge/lib/python3.10/site-packages/nbdev/showdoc.py:168\u001b[0m, in \u001b[0;36mBasicMarkdownRenderer._repr_markdown_\u001b[0;34m(self)\u001b[0m\n\u001b[1;32m    166\u001b[0m \u001b[38;5;28;01mdef\u001b[39;00m \u001b[38;5;21m_repr_markdown_\u001b[39m(\u001b[38;5;28mself\u001b[39m):\n\u001b[1;32m    167\u001b[0m     doc \u001b[38;5;241m=\u001b[39m \u001b[38;5;124m'\u001b[39m\u001b[38;5;124m---\u001b[39m\u001b[38;5;130;01m\\n\u001b[39;00m\u001b[38;5;130;01m\\n\u001b[39;00m\u001b[38;5;124m'\u001b[39m\n\u001b[0;32m--> 168\u001b[0m     src \u001b[38;5;241m=\u001b[39m \u001b[43mNbdevLookup\u001b[49m\u001b[43m(\u001b[49m\u001b[43m)\u001b[49m\u001b[38;5;241m.\u001b[39mcode(\u001b[38;5;28mself\u001b[39m\u001b[38;5;241m.\u001b[39mfn)\n\u001b[1;32m    169\u001b[0m     \u001b[38;5;28;01mif\u001b[39;00m src: doc \u001b[38;5;241m+\u001b[39m\u001b[38;5;241m=\u001b[39m _ext_link(src, \u001b[38;5;124m'\u001b[39m\u001b[38;5;124msource\u001b[39m\u001b[38;5;124m'\u001b[39m, \u001b[38;5;124m'\u001b[39m\u001b[38;5;124mstyle=\u001b[39m\u001b[38;5;124m\"\u001b[39m\u001b[38;5;124mfloat:right; font-size:smaller\u001b[39m\u001b[38;5;124m\"\u001b[39m\u001b[38;5;124m'\u001b[39m) \u001b[38;5;241m+\u001b[39m \u001b[38;5;124m'\u001b[39m\u001b[38;5;130;01m\\n\u001b[39;00m\u001b[38;5;130;01m\\n\u001b[39;00m\u001b[38;5;124m'\u001b[39m\n\u001b[1;32m    170\u001b[0m     h \u001b[38;5;241m=\u001b[39m \u001b[38;5;124m'\u001b[39m\u001b[38;5;124m#\u001b[39m\u001b[38;5;124m'\u001b[39m\u001b[38;5;241m*\u001b[39m\u001b[38;5;28mself\u001b[39m\u001b[38;5;241m.\u001b[39mtitle_level\n",
      "File \u001b[0;32m~/mambaforge/lib/python3.10/site-packages/nbdev/doclinks.py:195\u001b[0m, in \u001b[0;36mNbdevLookup.__init__\u001b[0;34m(self, strip_libs, incl_libs, skip_mods)\u001b[0m\n\u001b[1;32m    193\u001b[0m \u001b[38;5;28;01mif\u001b[39;00m incl_libs \u001b[38;5;129;01mis\u001b[39;00m \u001b[38;5;129;01mnot\u001b[39;00m \u001b[38;5;28;01mNone\u001b[39;00m: incl_libs \u001b[38;5;241m=\u001b[39m (L(incl_libs)\u001b[38;5;241m+\u001b[39mstrip_libs)\u001b[38;5;241m.\u001b[39munique()\n\u001b[1;32m    194\u001b[0m \u001b[38;5;66;03m# Dict from lib name to _nbdev module for incl_libs (defaults to all)\u001b[39;00m\n\u001b[0;32m--> 195\u001b[0m \u001b[38;5;28mself\u001b[39m\u001b[38;5;241m.\u001b[39mentries \u001b[38;5;241m=\u001b[39m {o\u001b[38;5;241m.\u001b[39mname: _qual_syms(o\u001b[38;5;241m.\u001b[39mresolve()) \u001b[38;5;28;01mfor\u001b[39;00m o \u001b[38;5;129;01min\u001b[39;00m \u001b[38;5;28mlist\u001b[39m(pkg_resources\u001b[38;5;241m.\u001b[39miter_entry_points(group\u001b[38;5;241m=\u001b[39m\u001b[38;5;124m'\u001b[39m\u001b[38;5;124mnbdev\u001b[39m\u001b[38;5;124m'\u001b[39m))\n\u001b[1;32m    196\u001b[0m                \u001b[38;5;28;01mif\u001b[39;00m incl_libs \u001b[38;5;129;01mis\u001b[39;00m \u001b[38;5;28;01mNone\u001b[39;00m \u001b[38;5;129;01mor\u001b[39;00m o\u001b[38;5;241m.\u001b[39mdist\u001b[38;5;241m.\u001b[39mkey \u001b[38;5;129;01min\u001b[39;00m incl_libs}\n\u001b[1;32m    197\u001b[0m py_syms \u001b[38;5;241m=\u001b[39m merge(\u001b[38;5;241m*\u001b[39mL(o[\u001b[38;5;124m'\u001b[39m\u001b[38;5;124msyms\u001b[39m\u001b[38;5;124m'\u001b[39m]\u001b[38;5;241m.\u001b[39mvalues() \u001b[38;5;28;01mfor\u001b[39;00m o \u001b[38;5;129;01min\u001b[39;00m \u001b[38;5;28mself\u001b[39m\u001b[38;5;241m.\u001b[39mentries\u001b[38;5;241m.\u001b[39mvalues())\u001b[38;5;241m.\u001b[39mconcat())\n\u001b[1;32m    198\u001b[0m \u001b[38;5;28;01mfor\u001b[39;00m m \u001b[38;5;129;01min\u001b[39;00m strip_libs:\n",
      "File \u001b[0;32m~/mambaforge/lib/python3.10/site-packages/nbdev/doclinks.py:195\u001b[0m, in \u001b[0;36m<dictcomp>\u001b[0;34m(.0)\u001b[0m\n\u001b[1;32m    193\u001b[0m \u001b[38;5;28;01mif\u001b[39;00m incl_libs \u001b[38;5;129;01mis\u001b[39;00m \u001b[38;5;129;01mnot\u001b[39;00m \u001b[38;5;28;01mNone\u001b[39;00m: incl_libs \u001b[38;5;241m=\u001b[39m (L(incl_libs)\u001b[38;5;241m+\u001b[39mstrip_libs)\u001b[38;5;241m.\u001b[39munique()\n\u001b[1;32m    194\u001b[0m \u001b[38;5;66;03m# Dict from lib name to _nbdev module for incl_libs (defaults to all)\u001b[39;00m\n\u001b[0;32m--> 195\u001b[0m \u001b[38;5;28mself\u001b[39m\u001b[38;5;241m.\u001b[39mentries \u001b[38;5;241m=\u001b[39m {o\u001b[38;5;241m.\u001b[39mname: _qual_syms(\u001b[43mo\u001b[49m\u001b[38;5;241;43m.\u001b[39;49m\u001b[43mresolve\u001b[49m\u001b[43m(\u001b[49m\u001b[43m)\u001b[49m) \u001b[38;5;28;01mfor\u001b[39;00m o \u001b[38;5;129;01min\u001b[39;00m \u001b[38;5;28mlist\u001b[39m(pkg_resources\u001b[38;5;241m.\u001b[39miter_entry_points(group\u001b[38;5;241m=\u001b[39m\u001b[38;5;124m'\u001b[39m\u001b[38;5;124mnbdev\u001b[39m\u001b[38;5;124m'\u001b[39m))\n\u001b[1;32m    196\u001b[0m                \u001b[38;5;28;01mif\u001b[39;00m incl_libs \u001b[38;5;129;01mis\u001b[39;00m \u001b[38;5;28;01mNone\u001b[39;00m \u001b[38;5;129;01mor\u001b[39;00m o\u001b[38;5;241m.\u001b[39mdist\u001b[38;5;241m.\u001b[39mkey \u001b[38;5;129;01min\u001b[39;00m incl_libs}\n\u001b[1;32m    197\u001b[0m py_syms \u001b[38;5;241m=\u001b[39m merge(\u001b[38;5;241m*\u001b[39mL(o[\u001b[38;5;124m'\u001b[39m\u001b[38;5;124msyms\u001b[39m\u001b[38;5;124m'\u001b[39m]\u001b[38;5;241m.\u001b[39mvalues() \u001b[38;5;28;01mfor\u001b[39;00m o \u001b[38;5;129;01min\u001b[39;00m \u001b[38;5;28mself\u001b[39m\u001b[38;5;241m.\u001b[39mentries\u001b[38;5;241m.\u001b[39mvalues())\u001b[38;5;241m.\u001b[39mconcat())\n\u001b[1;32m    198\u001b[0m \u001b[38;5;28;01mfor\u001b[39;00m m \u001b[38;5;129;01min\u001b[39;00m strip_libs:\n",
      "File \u001b[0;32m~/mambaforge/lib/python3.10/site-packages/pkg_resources/__init__.py:2477\u001b[0m, in \u001b[0;36mEntryPoint.resolve\u001b[0;34m(self)\u001b[0m\n\u001b[1;32m   2473\u001b[0m \u001b[38;5;28;01mdef\u001b[39;00m \u001b[38;5;21mresolve\u001b[39m(\u001b[38;5;28mself\u001b[39m):\n\u001b[1;32m   2474\u001b[0m     \u001b[38;5;124;03m\"\"\"\u001b[39;00m\n\u001b[1;32m   2475\u001b[0m \u001b[38;5;124;03m    Resolve the entry point from its module and attrs.\u001b[39;00m\n\u001b[1;32m   2476\u001b[0m \u001b[38;5;124;03m    \"\"\"\u001b[39;00m\n\u001b[0;32m-> 2477\u001b[0m     module \u001b[38;5;241m=\u001b[39m \u001b[38;5;28;43m__import__\u001b[39;49m\u001b[43m(\u001b[49m\u001b[38;5;28;43mself\u001b[39;49m\u001b[38;5;241;43m.\u001b[39;49m\u001b[43mmodule_name\u001b[49m\u001b[43m,\u001b[49m\u001b[43m \u001b[49m\u001b[43mfromlist\u001b[49m\u001b[38;5;241;43m=\u001b[39;49m\u001b[43m[\u001b[49m\u001b[38;5;124;43m'\u001b[39;49m\u001b[38;5;124;43m__name__\u001b[39;49m\u001b[38;5;124;43m'\u001b[39;49m\u001b[43m]\u001b[49m\u001b[43m,\u001b[49m\u001b[43m \u001b[49m\u001b[43mlevel\u001b[49m\u001b[38;5;241;43m=\u001b[39;49m\u001b[38;5;241;43m0\u001b[39;49m\u001b[43m)\u001b[49m\n\u001b[1;32m   2478\u001b[0m     \u001b[38;5;28;01mtry\u001b[39;00m:\n\u001b[1;32m   2479\u001b[0m         \u001b[38;5;28;01mreturn\u001b[39;00m functools\u001b[38;5;241m.\u001b[39mreduce(\u001b[38;5;28mgetattr\u001b[39m, \u001b[38;5;28mself\u001b[39m\u001b[38;5;241m.\u001b[39mattrs, module)\n",
      "\u001b[0;31mModuleNotFoundError\u001b[0m: No module named 'gh_pages_example._modidx'"
     ]
    },
    {
     "ename": "ModuleNotFoundError",
     "evalue": "No module named 'gh_pages_example._modidx'",
     "output_type": "error",
     "traceback": [
      "\u001b[0;31m---------------------------------------------------------------------------\u001b[0m",
      "\u001b[0;31mModuleNotFoundError\u001b[0m                       Traceback (most recent call last)",
      "File \u001b[0;32m~/mambaforge/lib/python3.10/site-packages/IPython/core/formatters.py:343\u001b[0m, in \u001b[0;36mBaseFormatter.__call__\u001b[0;34m(self, obj)\u001b[0m\n\u001b[1;32m    341\u001b[0m     method \u001b[38;5;241m=\u001b[39m get_real_method(obj, \u001b[38;5;28mself\u001b[39m\u001b[38;5;241m.\u001b[39mprint_method)\n\u001b[1;32m    342\u001b[0m     \u001b[38;5;28;01mif\u001b[39;00m method \u001b[38;5;129;01mis\u001b[39;00m \u001b[38;5;129;01mnot\u001b[39;00m \u001b[38;5;28;01mNone\u001b[39;00m:\n\u001b[0;32m--> 343\u001b[0m         \u001b[38;5;28;01mreturn\u001b[39;00m \u001b[43mmethod\u001b[49m\u001b[43m(\u001b[49m\u001b[43m)\u001b[49m\n\u001b[1;32m    344\u001b[0m     \u001b[38;5;28;01mreturn\u001b[39;00m \u001b[38;5;28;01mNone\u001b[39;00m\n\u001b[1;32m    345\u001b[0m \u001b[38;5;28;01melse\u001b[39;00m:\n",
      "File \u001b[0;32m~/mambaforge/lib/python3.10/site-packages/nbdev/showdoc.py:168\u001b[0m, in \u001b[0;36mBasicMarkdownRenderer._repr_markdown_\u001b[0;34m(self)\u001b[0m\n\u001b[1;32m    166\u001b[0m \u001b[38;5;28;01mdef\u001b[39;00m \u001b[38;5;21m_repr_markdown_\u001b[39m(\u001b[38;5;28mself\u001b[39m):\n\u001b[1;32m    167\u001b[0m     doc \u001b[38;5;241m=\u001b[39m \u001b[38;5;124m'\u001b[39m\u001b[38;5;124m---\u001b[39m\u001b[38;5;130;01m\\n\u001b[39;00m\u001b[38;5;130;01m\\n\u001b[39;00m\u001b[38;5;124m'\u001b[39m\n\u001b[0;32m--> 168\u001b[0m     src \u001b[38;5;241m=\u001b[39m \u001b[43mNbdevLookup\u001b[49m\u001b[43m(\u001b[49m\u001b[43m)\u001b[49m\u001b[38;5;241m.\u001b[39mcode(\u001b[38;5;28mself\u001b[39m\u001b[38;5;241m.\u001b[39mfn)\n\u001b[1;32m    169\u001b[0m     \u001b[38;5;28;01mif\u001b[39;00m src: doc \u001b[38;5;241m+\u001b[39m\u001b[38;5;241m=\u001b[39m _ext_link(src, \u001b[38;5;124m'\u001b[39m\u001b[38;5;124msource\u001b[39m\u001b[38;5;124m'\u001b[39m, \u001b[38;5;124m'\u001b[39m\u001b[38;5;124mstyle=\u001b[39m\u001b[38;5;124m\"\u001b[39m\u001b[38;5;124mfloat:right; font-size:smaller\u001b[39m\u001b[38;5;124m\"\u001b[39m\u001b[38;5;124m'\u001b[39m) \u001b[38;5;241m+\u001b[39m \u001b[38;5;124m'\u001b[39m\u001b[38;5;130;01m\\n\u001b[39;00m\u001b[38;5;130;01m\\n\u001b[39;00m\u001b[38;5;124m'\u001b[39m\n\u001b[1;32m    170\u001b[0m     h \u001b[38;5;241m=\u001b[39m \u001b[38;5;124m'\u001b[39m\u001b[38;5;124m#\u001b[39m\u001b[38;5;124m'\u001b[39m\u001b[38;5;241m*\u001b[39m\u001b[38;5;28mself\u001b[39m\u001b[38;5;241m.\u001b[39mtitle_level\n",
      "File \u001b[0;32m~/mambaforge/lib/python3.10/site-packages/nbdev/doclinks.py:195\u001b[0m, in \u001b[0;36mNbdevLookup.__init__\u001b[0;34m(self, strip_libs, incl_libs, skip_mods)\u001b[0m\n\u001b[1;32m    193\u001b[0m \u001b[38;5;28;01mif\u001b[39;00m incl_libs \u001b[38;5;129;01mis\u001b[39;00m \u001b[38;5;129;01mnot\u001b[39;00m \u001b[38;5;28;01mNone\u001b[39;00m: incl_libs \u001b[38;5;241m=\u001b[39m (L(incl_libs)\u001b[38;5;241m+\u001b[39mstrip_libs)\u001b[38;5;241m.\u001b[39munique()\n\u001b[1;32m    194\u001b[0m \u001b[38;5;66;03m# Dict from lib name to _nbdev module for incl_libs (defaults to all)\u001b[39;00m\n\u001b[0;32m--> 195\u001b[0m \u001b[38;5;28mself\u001b[39m\u001b[38;5;241m.\u001b[39mentries \u001b[38;5;241m=\u001b[39m {o\u001b[38;5;241m.\u001b[39mname: _qual_syms(o\u001b[38;5;241m.\u001b[39mresolve()) \u001b[38;5;28;01mfor\u001b[39;00m o \u001b[38;5;129;01min\u001b[39;00m \u001b[38;5;28mlist\u001b[39m(pkg_resources\u001b[38;5;241m.\u001b[39miter_entry_points(group\u001b[38;5;241m=\u001b[39m\u001b[38;5;124m'\u001b[39m\u001b[38;5;124mnbdev\u001b[39m\u001b[38;5;124m'\u001b[39m))\n\u001b[1;32m    196\u001b[0m                \u001b[38;5;28;01mif\u001b[39;00m incl_libs \u001b[38;5;129;01mis\u001b[39;00m \u001b[38;5;28;01mNone\u001b[39;00m \u001b[38;5;129;01mor\u001b[39;00m o\u001b[38;5;241m.\u001b[39mdist\u001b[38;5;241m.\u001b[39mkey \u001b[38;5;129;01min\u001b[39;00m incl_libs}\n\u001b[1;32m    197\u001b[0m py_syms \u001b[38;5;241m=\u001b[39m merge(\u001b[38;5;241m*\u001b[39mL(o[\u001b[38;5;124m'\u001b[39m\u001b[38;5;124msyms\u001b[39m\u001b[38;5;124m'\u001b[39m]\u001b[38;5;241m.\u001b[39mvalues() \u001b[38;5;28;01mfor\u001b[39;00m o \u001b[38;5;129;01min\u001b[39;00m \u001b[38;5;28mself\u001b[39m\u001b[38;5;241m.\u001b[39mentries\u001b[38;5;241m.\u001b[39mvalues())\u001b[38;5;241m.\u001b[39mconcat())\n\u001b[1;32m    198\u001b[0m \u001b[38;5;28;01mfor\u001b[39;00m m \u001b[38;5;129;01min\u001b[39;00m strip_libs:\n",
      "File \u001b[0;32m~/mambaforge/lib/python3.10/site-packages/nbdev/doclinks.py:195\u001b[0m, in \u001b[0;36m<dictcomp>\u001b[0;34m(.0)\u001b[0m\n\u001b[1;32m    193\u001b[0m \u001b[38;5;28;01mif\u001b[39;00m incl_libs \u001b[38;5;129;01mis\u001b[39;00m \u001b[38;5;129;01mnot\u001b[39;00m \u001b[38;5;28;01mNone\u001b[39;00m: incl_libs \u001b[38;5;241m=\u001b[39m (L(incl_libs)\u001b[38;5;241m+\u001b[39mstrip_libs)\u001b[38;5;241m.\u001b[39munique()\n\u001b[1;32m    194\u001b[0m \u001b[38;5;66;03m# Dict from lib name to _nbdev module for incl_libs (defaults to all)\u001b[39;00m\n\u001b[0;32m--> 195\u001b[0m \u001b[38;5;28mself\u001b[39m\u001b[38;5;241m.\u001b[39mentries \u001b[38;5;241m=\u001b[39m {o\u001b[38;5;241m.\u001b[39mname: _qual_syms(\u001b[43mo\u001b[49m\u001b[38;5;241;43m.\u001b[39;49m\u001b[43mresolve\u001b[49m\u001b[43m(\u001b[49m\u001b[43m)\u001b[49m) \u001b[38;5;28;01mfor\u001b[39;00m o \u001b[38;5;129;01min\u001b[39;00m \u001b[38;5;28mlist\u001b[39m(pkg_resources\u001b[38;5;241m.\u001b[39miter_entry_points(group\u001b[38;5;241m=\u001b[39m\u001b[38;5;124m'\u001b[39m\u001b[38;5;124mnbdev\u001b[39m\u001b[38;5;124m'\u001b[39m))\n\u001b[1;32m    196\u001b[0m                \u001b[38;5;28;01mif\u001b[39;00m incl_libs \u001b[38;5;129;01mis\u001b[39;00m \u001b[38;5;28;01mNone\u001b[39;00m \u001b[38;5;129;01mor\u001b[39;00m o\u001b[38;5;241m.\u001b[39mdist\u001b[38;5;241m.\u001b[39mkey \u001b[38;5;129;01min\u001b[39;00m incl_libs}\n\u001b[1;32m    197\u001b[0m py_syms \u001b[38;5;241m=\u001b[39m merge(\u001b[38;5;241m*\u001b[39mL(o[\u001b[38;5;124m'\u001b[39m\u001b[38;5;124msyms\u001b[39m\u001b[38;5;124m'\u001b[39m]\u001b[38;5;241m.\u001b[39mvalues() \u001b[38;5;28;01mfor\u001b[39;00m o \u001b[38;5;129;01min\u001b[39;00m \u001b[38;5;28mself\u001b[39m\u001b[38;5;241m.\u001b[39mentries\u001b[38;5;241m.\u001b[39mvalues())\u001b[38;5;241m.\u001b[39mconcat())\n\u001b[1;32m    198\u001b[0m \u001b[38;5;28;01mfor\u001b[39;00m m \u001b[38;5;129;01min\u001b[39;00m strip_libs:\n",
      "File \u001b[0;32m~/mambaforge/lib/python3.10/site-packages/pkg_resources/__init__.py:2477\u001b[0m, in \u001b[0;36mEntryPoint.resolve\u001b[0;34m(self)\u001b[0m\n\u001b[1;32m   2473\u001b[0m \u001b[38;5;28;01mdef\u001b[39;00m \u001b[38;5;21mresolve\u001b[39m(\u001b[38;5;28mself\u001b[39m):\n\u001b[1;32m   2474\u001b[0m     \u001b[38;5;124;03m\"\"\"\u001b[39;00m\n\u001b[1;32m   2475\u001b[0m \u001b[38;5;124;03m    Resolve the entry point from its module and attrs.\u001b[39;00m\n\u001b[1;32m   2476\u001b[0m \u001b[38;5;124;03m    \"\"\"\u001b[39;00m\n\u001b[0;32m-> 2477\u001b[0m     module \u001b[38;5;241m=\u001b[39m \u001b[38;5;28;43m__import__\u001b[39;49m\u001b[43m(\u001b[49m\u001b[38;5;28;43mself\u001b[39;49m\u001b[38;5;241;43m.\u001b[39;49m\u001b[43mmodule_name\u001b[49m\u001b[43m,\u001b[49m\u001b[43m \u001b[49m\u001b[43mfromlist\u001b[49m\u001b[38;5;241;43m=\u001b[39;49m\u001b[43m[\u001b[49m\u001b[38;5;124;43m'\u001b[39;49m\u001b[38;5;124;43m__name__\u001b[39;49m\u001b[38;5;124;43m'\u001b[39;49m\u001b[43m]\u001b[49m\u001b[43m,\u001b[49m\u001b[43m \u001b[49m\u001b[43mlevel\u001b[49m\u001b[38;5;241;43m=\u001b[39;49m\u001b[38;5;241;43m0\u001b[39;49m\u001b[43m)\u001b[49m\n\u001b[1;32m   2478\u001b[0m     \u001b[38;5;28;01mtry\u001b[39;00m:\n\u001b[1;32m   2479\u001b[0m         \u001b[38;5;28;01mreturn\u001b[39;00m functools\u001b[38;5;241m.\u001b[39mreduce(\u001b[38;5;28mgetattr\u001b[39m, \u001b[38;5;28mself\u001b[39m\u001b[38;5;241m.\u001b[39mattrs, module)\n",
      "\u001b[0;31mModuleNotFoundError\u001b[0m: No module named 'gh_pages_example._modidx'"
     ]
    }
   ],
   "source": [
    "show_doc(build_grid_from_axes)"
   ]
  },
  {
   "cell_type": "markdown",
   "metadata": {},
   "source": [
    "We can build simple grids"
   ]
  },
  {
   "cell_type": "code",
   "execution_count": null,
   "metadata": {},
   "outputs": [
    {
     "data": {
      "text/plain": [
       "array([[0, 0],\n",
       "       [0, 1],\n",
       "       [0, 2],\n",
       "       [1, 0],\n",
       "       [1, 1],\n",
       "       [1, 2]])"
      ]
     },
     "execution_count": null,
     "metadata": {},
     "output_type": "execute_result"
    }
   ],
   "source": [
    "build_grid_from_axes([range(2), range(3)])"
   ]
  },
  {
   "cell_type": "markdown",
   "metadata": {},
   "source": [
    "Or build more arbitrary grids"
   ]
  },
  {
   "cell_type": "code",
   "execution_count": null,
   "metadata": {},
   "outputs": [
    {
     "data": {
      "text/plain": [
       "array([[0.1, 5. ],\n",
       "       [0.1, 4. ],\n",
       "       [0.7, 5. ],\n",
       "       [0.7, 4. ],\n",
       "       [0.8, 5. ],\n",
       "       [0.8, 4. ]])"
      ]
     },
     "execution_count": null,
     "metadata": {},
     "output_type": "execute_result"
    }
   ],
   "source": [
    "build_grid_from_axes([[0.1, 0.7, 0.8], [5, 4]])"
   ]
  },
  {
   "cell_type": "markdown",
   "metadata": {},
   "source": [
    "`build_grid_from_axes` throws an error if you try to build a grid which has > 5 million rows. This error should help you avoid accidentally crashing your computer with unreasonably large grids."
   ]
  },
  {
   "cell_type": "code",
   "execution_count": null,
   "metadata": {},
   "outputs": [],
   "source": [
    "with fastcore.test.ExceptionExpected(ex=ValueError):\n",
    "    build_grid_from_axes([range(500000), range(200000)], override=False)"
   ]
  },
  {
   "cell_type": "code",
   "execution_count": null,
   "metadata": {},
   "outputs": [],
   "source": [
    "#| export\n",
    "def model_builder(saved_args:dict, # a dictionary containing parameters we want to vary or hold fixed\n",
    "                  exclude_args:list[str]=[], # a list of arguments that should be returned as they are\n",
    "                  override:bool=False, # whether to build the grid if it is very large\n",
    "                  drop_args:list[str]=['override', 'exclude_args', 'drop_args'], # a list of arguments to drop from the final result\n",
    "                 ) -> dict: # A dictionary containing items for the desired models\n",
    "    \"\"\"Build models for all combinations of the valules in `saved_args`.\"\"\"\n",
    "    axes_args1 = {k: np.array(v)\n",
    "                  for k,v in saved_args.items()\n",
    "                  if (isinstance(v, np.ndarray)\n",
    "                      or (isinstance(v, list)\n",
    "                          and all(isinstance(el, float) for el in v)))}\n",
    "    axes_args2 = {k: np.arange(v[\"start\"], v[\"stop\"], v[\"step\"])\n",
    "                  for k,v in saved_args.items()\n",
    "                  if (isinstance(v, dict)\n",
    "                      and v.keys() == {\"start\", \"stop\", \"step\"})}\n",
    "    axes_args = {**axes_args1, **axes_args2}\n",
    "    grid = build_grid_from_axes(list(axes_args.values()),\n",
    "                                override=override)\n",
    "    models = {}\n",
    "    # add grid parameters first\n",
    "    for i, arg in enumerate(axes_args.keys()):\n",
    "        models[arg] = grid[:, i]\n",
    "    # add fixed parameters next\n",
    "    for arg, v in saved_args.items():\n",
    "        if arg not in (exclude_args\n",
    "                       + drop_args\n",
    "                       + list(axes_args.keys())):\n",
    "            models[arg] = np.array([v for _ in grid])\n",
    "    # add extra variables\n",
    "    for arg in exclude_args:\n",
    "        if (arg in saved_args.keys()\n",
    "            and arg not in drop_args):\n",
    "            models[arg] = saved_args[arg]\n",
    "    return models"
   ]
  },
  {
   "cell_type": "code",
   "execution_count": null,
   "metadata": {},
   "outputs": [
    {
     "ename": "ModuleNotFoundError",
     "evalue": "No module named 'gh_pages_example._modidx'",
     "output_type": "error",
     "traceback": [
      "\u001b[0;31m---------------------------------------------------------------------------\u001b[0m",
      "\u001b[0;31mModuleNotFoundError\u001b[0m                       Traceback (most recent call last)",
      "File \u001b[0;32m~/mambaforge/lib/python3.10/site-packages/IPython/core/formatters.py:707\u001b[0m, in \u001b[0;36mPlainTextFormatter.__call__\u001b[0;34m(self, obj)\u001b[0m\n\u001b[1;32m    700\u001b[0m stream \u001b[38;5;241m=\u001b[39m StringIO()\n\u001b[1;32m    701\u001b[0m printer \u001b[38;5;241m=\u001b[39m pretty\u001b[38;5;241m.\u001b[39mRepresentationPrinter(stream, \u001b[38;5;28mself\u001b[39m\u001b[38;5;241m.\u001b[39mverbose,\n\u001b[1;32m    702\u001b[0m     \u001b[38;5;28mself\u001b[39m\u001b[38;5;241m.\u001b[39mmax_width, \u001b[38;5;28mself\u001b[39m\u001b[38;5;241m.\u001b[39mnewline,\n\u001b[1;32m    703\u001b[0m     max_seq_length\u001b[38;5;241m=\u001b[39m\u001b[38;5;28mself\u001b[39m\u001b[38;5;241m.\u001b[39mmax_seq_length,\n\u001b[1;32m    704\u001b[0m     singleton_pprinters\u001b[38;5;241m=\u001b[39m\u001b[38;5;28mself\u001b[39m\u001b[38;5;241m.\u001b[39msingleton_printers,\n\u001b[1;32m    705\u001b[0m     type_pprinters\u001b[38;5;241m=\u001b[39m\u001b[38;5;28mself\u001b[39m\u001b[38;5;241m.\u001b[39mtype_printers,\n\u001b[1;32m    706\u001b[0m     deferred_pprinters\u001b[38;5;241m=\u001b[39m\u001b[38;5;28mself\u001b[39m\u001b[38;5;241m.\u001b[39mdeferred_printers)\n\u001b[0;32m--> 707\u001b[0m \u001b[43mprinter\u001b[49m\u001b[38;5;241;43m.\u001b[39;49m\u001b[43mpretty\u001b[49m\u001b[43m(\u001b[49m\u001b[43mobj\u001b[49m\u001b[43m)\u001b[49m\n\u001b[1;32m    708\u001b[0m printer\u001b[38;5;241m.\u001b[39mflush()\n\u001b[1;32m    709\u001b[0m \u001b[38;5;28;01mreturn\u001b[39;00m stream\u001b[38;5;241m.\u001b[39mgetvalue()\n",
      "File \u001b[0;32m~/mambaforge/lib/python3.10/site-packages/IPython/lib/pretty.py:410\u001b[0m, in \u001b[0;36mRepresentationPrinter.pretty\u001b[0;34m(self, obj)\u001b[0m\n\u001b[1;32m    407\u001b[0m                         \u001b[38;5;28;01mreturn\u001b[39;00m meth(obj, \u001b[38;5;28mself\u001b[39m, cycle)\n\u001b[1;32m    408\u001b[0m                 \u001b[38;5;28;01mif\u001b[39;00m \u001b[38;5;28mcls\u001b[39m \u001b[38;5;129;01mis\u001b[39;00m \u001b[38;5;129;01mnot\u001b[39;00m \u001b[38;5;28mobject\u001b[39m \\\n\u001b[1;32m    409\u001b[0m                         \u001b[38;5;129;01mand\u001b[39;00m callable(\u001b[38;5;28mcls\u001b[39m\u001b[38;5;241m.\u001b[39m\u001b[38;5;18m__dict__\u001b[39m\u001b[38;5;241m.\u001b[39mget(\u001b[38;5;124m'\u001b[39m\u001b[38;5;124m__repr__\u001b[39m\u001b[38;5;124m'\u001b[39m)):\n\u001b[0;32m--> 410\u001b[0m                     \u001b[38;5;28;01mreturn\u001b[39;00m \u001b[43m_repr_pprint\u001b[49m\u001b[43m(\u001b[49m\u001b[43mobj\u001b[49m\u001b[43m,\u001b[49m\u001b[43m \u001b[49m\u001b[38;5;28;43mself\u001b[39;49m\u001b[43m,\u001b[49m\u001b[43m \u001b[49m\u001b[43mcycle\u001b[49m\u001b[43m)\u001b[49m\n\u001b[1;32m    412\u001b[0m     \u001b[38;5;28;01mreturn\u001b[39;00m _default_pprint(obj, \u001b[38;5;28mself\u001b[39m, cycle)\n\u001b[1;32m    413\u001b[0m \u001b[38;5;28;01mfinally\u001b[39;00m:\n",
      "File \u001b[0;32m~/mambaforge/lib/python3.10/site-packages/IPython/lib/pretty.py:778\u001b[0m, in \u001b[0;36m_repr_pprint\u001b[0;34m(obj, p, cycle)\u001b[0m\n\u001b[1;32m    776\u001b[0m \u001b[38;5;124;03m\"\"\"A pprint that just redirects to the normal repr function.\"\"\"\u001b[39;00m\n\u001b[1;32m    777\u001b[0m \u001b[38;5;66;03m# Find newlines and replace them with p.break_()\u001b[39;00m\n\u001b[0;32m--> 778\u001b[0m output \u001b[38;5;241m=\u001b[39m \u001b[38;5;28;43mrepr\u001b[39;49m\u001b[43m(\u001b[49m\u001b[43mobj\u001b[49m\u001b[43m)\u001b[49m\n\u001b[1;32m    779\u001b[0m lines \u001b[38;5;241m=\u001b[39m output\u001b[38;5;241m.\u001b[39msplitlines()\n\u001b[1;32m    780\u001b[0m \u001b[38;5;28;01mwith\u001b[39;00m p\u001b[38;5;241m.\u001b[39mgroup():\n",
      "File \u001b[0;32m~/mambaforge/lib/python3.10/site-packages/nbdev/showdoc.py:168\u001b[0m, in \u001b[0;36mBasicMarkdownRenderer._repr_markdown_\u001b[0;34m(self)\u001b[0m\n\u001b[1;32m    166\u001b[0m \u001b[38;5;28;01mdef\u001b[39;00m \u001b[38;5;21m_repr_markdown_\u001b[39m(\u001b[38;5;28mself\u001b[39m):\n\u001b[1;32m    167\u001b[0m     doc \u001b[38;5;241m=\u001b[39m \u001b[38;5;124m'\u001b[39m\u001b[38;5;124m---\u001b[39m\u001b[38;5;130;01m\\n\u001b[39;00m\u001b[38;5;130;01m\\n\u001b[39;00m\u001b[38;5;124m'\u001b[39m\n\u001b[0;32m--> 168\u001b[0m     src \u001b[38;5;241m=\u001b[39m \u001b[43mNbdevLookup\u001b[49m\u001b[43m(\u001b[49m\u001b[43m)\u001b[49m\u001b[38;5;241m.\u001b[39mcode(\u001b[38;5;28mself\u001b[39m\u001b[38;5;241m.\u001b[39mfn)\n\u001b[1;32m    169\u001b[0m     \u001b[38;5;28;01mif\u001b[39;00m src: doc \u001b[38;5;241m+\u001b[39m\u001b[38;5;241m=\u001b[39m _ext_link(src, \u001b[38;5;124m'\u001b[39m\u001b[38;5;124msource\u001b[39m\u001b[38;5;124m'\u001b[39m, \u001b[38;5;124m'\u001b[39m\u001b[38;5;124mstyle=\u001b[39m\u001b[38;5;124m\"\u001b[39m\u001b[38;5;124mfloat:right; font-size:smaller\u001b[39m\u001b[38;5;124m\"\u001b[39m\u001b[38;5;124m'\u001b[39m) \u001b[38;5;241m+\u001b[39m \u001b[38;5;124m'\u001b[39m\u001b[38;5;130;01m\\n\u001b[39;00m\u001b[38;5;130;01m\\n\u001b[39;00m\u001b[38;5;124m'\u001b[39m\n\u001b[1;32m    170\u001b[0m     h \u001b[38;5;241m=\u001b[39m \u001b[38;5;124m'\u001b[39m\u001b[38;5;124m#\u001b[39m\u001b[38;5;124m'\u001b[39m\u001b[38;5;241m*\u001b[39m\u001b[38;5;28mself\u001b[39m\u001b[38;5;241m.\u001b[39mtitle_level\n",
      "File \u001b[0;32m~/mambaforge/lib/python3.10/site-packages/nbdev/doclinks.py:195\u001b[0m, in \u001b[0;36mNbdevLookup.__init__\u001b[0;34m(self, strip_libs, incl_libs, skip_mods)\u001b[0m\n\u001b[1;32m    193\u001b[0m \u001b[38;5;28;01mif\u001b[39;00m incl_libs \u001b[38;5;129;01mis\u001b[39;00m \u001b[38;5;129;01mnot\u001b[39;00m \u001b[38;5;28;01mNone\u001b[39;00m: incl_libs \u001b[38;5;241m=\u001b[39m (L(incl_libs)\u001b[38;5;241m+\u001b[39mstrip_libs)\u001b[38;5;241m.\u001b[39munique()\n\u001b[1;32m    194\u001b[0m \u001b[38;5;66;03m# Dict from lib name to _nbdev module for incl_libs (defaults to all)\u001b[39;00m\n\u001b[0;32m--> 195\u001b[0m \u001b[38;5;28mself\u001b[39m\u001b[38;5;241m.\u001b[39mentries \u001b[38;5;241m=\u001b[39m {o\u001b[38;5;241m.\u001b[39mname: _qual_syms(o\u001b[38;5;241m.\u001b[39mresolve()) \u001b[38;5;28;01mfor\u001b[39;00m o \u001b[38;5;129;01min\u001b[39;00m \u001b[38;5;28mlist\u001b[39m(pkg_resources\u001b[38;5;241m.\u001b[39miter_entry_points(group\u001b[38;5;241m=\u001b[39m\u001b[38;5;124m'\u001b[39m\u001b[38;5;124mnbdev\u001b[39m\u001b[38;5;124m'\u001b[39m))\n\u001b[1;32m    196\u001b[0m                \u001b[38;5;28;01mif\u001b[39;00m incl_libs \u001b[38;5;129;01mis\u001b[39;00m \u001b[38;5;28;01mNone\u001b[39;00m \u001b[38;5;129;01mor\u001b[39;00m o\u001b[38;5;241m.\u001b[39mdist\u001b[38;5;241m.\u001b[39mkey \u001b[38;5;129;01min\u001b[39;00m incl_libs}\n\u001b[1;32m    197\u001b[0m py_syms \u001b[38;5;241m=\u001b[39m merge(\u001b[38;5;241m*\u001b[39mL(o[\u001b[38;5;124m'\u001b[39m\u001b[38;5;124msyms\u001b[39m\u001b[38;5;124m'\u001b[39m]\u001b[38;5;241m.\u001b[39mvalues() \u001b[38;5;28;01mfor\u001b[39;00m o \u001b[38;5;129;01min\u001b[39;00m \u001b[38;5;28mself\u001b[39m\u001b[38;5;241m.\u001b[39mentries\u001b[38;5;241m.\u001b[39mvalues())\u001b[38;5;241m.\u001b[39mconcat())\n\u001b[1;32m    198\u001b[0m \u001b[38;5;28;01mfor\u001b[39;00m m \u001b[38;5;129;01min\u001b[39;00m strip_libs:\n",
      "File \u001b[0;32m~/mambaforge/lib/python3.10/site-packages/nbdev/doclinks.py:195\u001b[0m, in \u001b[0;36m<dictcomp>\u001b[0;34m(.0)\u001b[0m\n\u001b[1;32m    193\u001b[0m \u001b[38;5;28;01mif\u001b[39;00m incl_libs \u001b[38;5;129;01mis\u001b[39;00m \u001b[38;5;129;01mnot\u001b[39;00m \u001b[38;5;28;01mNone\u001b[39;00m: incl_libs \u001b[38;5;241m=\u001b[39m (L(incl_libs)\u001b[38;5;241m+\u001b[39mstrip_libs)\u001b[38;5;241m.\u001b[39munique()\n\u001b[1;32m    194\u001b[0m \u001b[38;5;66;03m# Dict from lib name to _nbdev module for incl_libs (defaults to all)\u001b[39;00m\n\u001b[0;32m--> 195\u001b[0m \u001b[38;5;28mself\u001b[39m\u001b[38;5;241m.\u001b[39mentries \u001b[38;5;241m=\u001b[39m {o\u001b[38;5;241m.\u001b[39mname: _qual_syms(\u001b[43mo\u001b[49m\u001b[38;5;241;43m.\u001b[39;49m\u001b[43mresolve\u001b[49m\u001b[43m(\u001b[49m\u001b[43m)\u001b[49m) \u001b[38;5;28;01mfor\u001b[39;00m o \u001b[38;5;129;01min\u001b[39;00m \u001b[38;5;28mlist\u001b[39m(pkg_resources\u001b[38;5;241m.\u001b[39miter_entry_points(group\u001b[38;5;241m=\u001b[39m\u001b[38;5;124m'\u001b[39m\u001b[38;5;124mnbdev\u001b[39m\u001b[38;5;124m'\u001b[39m))\n\u001b[1;32m    196\u001b[0m                \u001b[38;5;28;01mif\u001b[39;00m incl_libs \u001b[38;5;129;01mis\u001b[39;00m \u001b[38;5;28;01mNone\u001b[39;00m \u001b[38;5;129;01mor\u001b[39;00m o\u001b[38;5;241m.\u001b[39mdist\u001b[38;5;241m.\u001b[39mkey \u001b[38;5;129;01min\u001b[39;00m incl_libs}\n\u001b[1;32m    197\u001b[0m py_syms \u001b[38;5;241m=\u001b[39m merge(\u001b[38;5;241m*\u001b[39mL(o[\u001b[38;5;124m'\u001b[39m\u001b[38;5;124msyms\u001b[39m\u001b[38;5;124m'\u001b[39m]\u001b[38;5;241m.\u001b[39mvalues() \u001b[38;5;28;01mfor\u001b[39;00m o \u001b[38;5;129;01min\u001b[39;00m \u001b[38;5;28mself\u001b[39m\u001b[38;5;241m.\u001b[39mentries\u001b[38;5;241m.\u001b[39mvalues())\u001b[38;5;241m.\u001b[39mconcat())\n\u001b[1;32m    198\u001b[0m \u001b[38;5;28;01mfor\u001b[39;00m m \u001b[38;5;129;01min\u001b[39;00m strip_libs:\n",
      "File \u001b[0;32m~/mambaforge/lib/python3.10/site-packages/pkg_resources/__init__.py:2477\u001b[0m, in \u001b[0;36mEntryPoint.resolve\u001b[0;34m(self)\u001b[0m\n\u001b[1;32m   2473\u001b[0m \u001b[38;5;28;01mdef\u001b[39;00m \u001b[38;5;21mresolve\u001b[39m(\u001b[38;5;28mself\u001b[39m):\n\u001b[1;32m   2474\u001b[0m     \u001b[38;5;124;03m\"\"\"\u001b[39;00m\n\u001b[1;32m   2475\u001b[0m \u001b[38;5;124;03m    Resolve the entry point from its module and attrs.\u001b[39;00m\n\u001b[1;32m   2476\u001b[0m \u001b[38;5;124;03m    \"\"\"\u001b[39;00m\n\u001b[0;32m-> 2477\u001b[0m     module \u001b[38;5;241m=\u001b[39m \u001b[38;5;28;43m__import__\u001b[39;49m\u001b[43m(\u001b[49m\u001b[38;5;28;43mself\u001b[39;49m\u001b[38;5;241;43m.\u001b[39;49m\u001b[43mmodule_name\u001b[49m\u001b[43m,\u001b[49m\u001b[43m \u001b[49m\u001b[43mfromlist\u001b[49m\u001b[38;5;241;43m=\u001b[39;49m\u001b[43m[\u001b[49m\u001b[38;5;124;43m'\u001b[39;49m\u001b[38;5;124;43m__name__\u001b[39;49m\u001b[38;5;124;43m'\u001b[39;49m\u001b[43m]\u001b[49m\u001b[43m,\u001b[49m\u001b[43m \u001b[49m\u001b[43mlevel\u001b[49m\u001b[38;5;241;43m=\u001b[39;49m\u001b[38;5;241;43m0\u001b[39;49m\u001b[43m)\u001b[49m\n\u001b[1;32m   2478\u001b[0m     \u001b[38;5;28;01mtry\u001b[39;00m:\n\u001b[1;32m   2479\u001b[0m         \u001b[38;5;28;01mreturn\u001b[39;00m functools\u001b[38;5;241m.\u001b[39mreduce(\u001b[38;5;28mgetattr\u001b[39m, \u001b[38;5;28mself\u001b[39m\u001b[38;5;241m.\u001b[39mattrs, module)\n",
      "\u001b[0;31mModuleNotFoundError\u001b[0m: No module named 'gh_pages_example._modidx'"
     ]
    },
    {
     "ename": "ModuleNotFoundError",
     "evalue": "No module named 'gh_pages_example._modidx'",
     "output_type": "error",
     "traceback": [
      "\u001b[0;31m---------------------------------------------------------------------------\u001b[0m",
      "\u001b[0;31mModuleNotFoundError\u001b[0m                       Traceback (most recent call last)",
      "File \u001b[0;32m~/mambaforge/lib/python3.10/site-packages/IPython/core/formatters.py:343\u001b[0m, in \u001b[0;36mBaseFormatter.__call__\u001b[0;34m(self, obj)\u001b[0m\n\u001b[1;32m    341\u001b[0m     method \u001b[38;5;241m=\u001b[39m get_real_method(obj, \u001b[38;5;28mself\u001b[39m\u001b[38;5;241m.\u001b[39mprint_method)\n\u001b[1;32m    342\u001b[0m     \u001b[38;5;28;01mif\u001b[39;00m method \u001b[38;5;129;01mis\u001b[39;00m \u001b[38;5;129;01mnot\u001b[39;00m \u001b[38;5;28;01mNone\u001b[39;00m:\n\u001b[0;32m--> 343\u001b[0m         \u001b[38;5;28;01mreturn\u001b[39;00m \u001b[43mmethod\u001b[49m\u001b[43m(\u001b[49m\u001b[43m)\u001b[49m\n\u001b[1;32m    344\u001b[0m     \u001b[38;5;28;01mreturn\u001b[39;00m \u001b[38;5;28;01mNone\u001b[39;00m\n\u001b[1;32m    345\u001b[0m \u001b[38;5;28;01melse\u001b[39;00m:\n",
      "File \u001b[0;32m~/mambaforge/lib/python3.10/site-packages/nbdev/showdoc.py:168\u001b[0m, in \u001b[0;36mBasicMarkdownRenderer._repr_markdown_\u001b[0;34m(self)\u001b[0m\n\u001b[1;32m    166\u001b[0m \u001b[38;5;28;01mdef\u001b[39;00m \u001b[38;5;21m_repr_markdown_\u001b[39m(\u001b[38;5;28mself\u001b[39m):\n\u001b[1;32m    167\u001b[0m     doc \u001b[38;5;241m=\u001b[39m \u001b[38;5;124m'\u001b[39m\u001b[38;5;124m---\u001b[39m\u001b[38;5;130;01m\\n\u001b[39;00m\u001b[38;5;130;01m\\n\u001b[39;00m\u001b[38;5;124m'\u001b[39m\n\u001b[0;32m--> 168\u001b[0m     src \u001b[38;5;241m=\u001b[39m \u001b[43mNbdevLookup\u001b[49m\u001b[43m(\u001b[49m\u001b[43m)\u001b[49m\u001b[38;5;241m.\u001b[39mcode(\u001b[38;5;28mself\u001b[39m\u001b[38;5;241m.\u001b[39mfn)\n\u001b[1;32m    169\u001b[0m     \u001b[38;5;28;01mif\u001b[39;00m src: doc \u001b[38;5;241m+\u001b[39m\u001b[38;5;241m=\u001b[39m _ext_link(src, \u001b[38;5;124m'\u001b[39m\u001b[38;5;124msource\u001b[39m\u001b[38;5;124m'\u001b[39m, \u001b[38;5;124m'\u001b[39m\u001b[38;5;124mstyle=\u001b[39m\u001b[38;5;124m\"\u001b[39m\u001b[38;5;124mfloat:right; font-size:smaller\u001b[39m\u001b[38;5;124m\"\u001b[39m\u001b[38;5;124m'\u001b[39m) \u001b[38;5;241m+\u001b[39m \u001b[38;5;124m'\u001b[39m\u001b[38;5;130;01m\\n\u001b[39;00m\u001b[38;5;130;01m\\n\u001b[39;00m\u001b[38;5;124m'\u001b[39m\n\u001b[1;32m    170\u001b[0m     h \u001b[38;5;241m=\u001b[39m \u001b[38;5;124m'\u001b[39m\u001b[38;5;124m#\u001b[39m\u001b[38;5;124m'\u001b[39m\u001b[38;5;241m*\u001b[39m\u001b[38;5;28mself\u001b[39m\u001b[38;5;241m.\u001b[39mtitle_level\n",
      "File \u001b[0;32m~/mambaforge/lib/python3.10/site-packages/nbdev/doclinks.py:195\u001b[0m, in \u001b[0;36mNbdevLookup.__init__\u001b[0;34m(self, strip_libs, incl_libs, skip_mods)\u001b[0m\n\u001b[1;32m    193\u001b[0m \u001b[38;5;28;01mif\u001b[39;00m incl_libs \u001b[38;5;129;01mis\u001b[39;00m \u001b[38;5;129;01mnot\u001b[39;00m \u001b[38;5;28;01mNone\u001b[39;00m: incl_libs \u001b[38;5;241m=\u001b[39m (L(incl_libs)\u001b[38;5;241m+\u001b[39mstrip_libs)\u001b[38;5;241m.\u001b[39munique()\n\u001b[1;32m    194\u001b[0m \u001b[38;5;66;03m# Dict from lib name to _nbdev module for incl_libs (defaults to all)\u001b[39;00m\n\u001b[0;32m--> 195\u001b[0m \u001b[38;5;28mself\u001b[39m\u001b[38;5;241m.\u001b[39mentries \u001b[38;5;241m=\u001b[39m {o\u001b[38;5;241m.\u001b[39mname: _qual_syms(o\u001b[38;5;241m.\u001b[39mresolve()) \u001b[38;5;28;01mfor\u001b[39;00m o \u001b[38;5;129;01min\u001b[39;00m \u001b[38;5;28mlist\u001b[39m(pkg_resources\u001b[38;5;241m.\u001b[39miter_entry_points(group\u001b[38;5;241m=\u001b[39m\u001b[38;5;124m'\u001b[39m\u001b[38;5;124mnbdev\u001b[39m\u001b[38;5;124m'\u001b[39m))\n\u001b[1;32m    196\u001b[0m                \u001b[38;5;28;01mif\u001b[39;00m incl_libs \u001b[38;5;129;01mis\u001b[39;00m \u001b[38;5;28;01mNone\u001b[39;00m \u001b[38;5;129;01mor\u001b[39;00m o\u001b[38;5;241m.\u001b[39mdist\u001b[38;5;241m.\u001b[39mkey \u001b[38;5;129;01min\u001b[39;00m incl_libs}\n\u001b[1;32m    197\u001b[0m py_syms \u001b[38;5;241m=\u001b[39m merge(\u001b[38;5;241m*\u001b[39mL(o[\u001b[38;5;124m'\u001b[39m\u001b[38;5;124msyms\u001b[39m\u001b[38;5;124m'\u001b[39m]\u001b[38;5;241m.\u001b[39mvalues() \u001b[38;5;28;01mfor\u001b[39;00m o \u001b[38;5;129;01min\u001b[39;00m \u001b[38;5;28mself\u001b[39m\u001b[38;5;241m.\u001b[39mentries\u001b[38;5;241m.\u001b[39mvalues())\u001b[38;5;241m.\u001b[39mconcat())\n\u001b[1;32m    198\u001b[0m \u001b[38;5;28;01mfor\u001b[39;00m m \u001b[38;5;129;01min\u001b[39;00m strip_libs:\n",
      "File \u001b[0;32m~/mambaforge/lib/python3.10/site-packages/nbdev/doclinks.py:195\u001b[0m, in \u001b[0;36m<dictcomp>\u001b[0;34m(.0)\u001b[0m\n\u001b[1;32m    193\u001b[0m \u001b[38;5;28;01mif\u001b[39;00m incl_libs \u001b[38;5;129;01mis\u001b[39;00m \u001b[38;5;129;01mnot\u001b[39;00m \u001b[38;5;28;01mNone\u001b[39;00m: incl_libs \u001b[38;5;241m=\u001b[39m (L(incl_libs)\u001b[38;5;241m+\u001b[39mstrip_libs)\u001b[38;5;241m.\u001b[39munique()\n\u001b[1;32m    194\u001b[0m \u001b[38;5;66;03m# Dict from lib name to _nbdev module for incl_libs (defaults to all)\u001b[39;00m\n\u001b[0;32m--> 195\u001b[0m \u001b[38;5;28mself\u001b[39m\u001b[38;5;241m.\u001b[39mentries \u001b[38;5;241m=\u001b[39m {o\u001b[38;5;241m.\u001b[39mname: _qual_syms(\u001b[43mo\u001b[49m\u001b[38;5;241;43m.\u001b[39;49m\u001b[43mresolve\u001b[49m\u001b[43m(\u001b[49m\u001b[43m)\u001b[49m) \u001b[38;5;28;01mfor\u001b[39;00m o \u001b[38;5;129;01min\u001b[39;00m \u001b[38;5;28mlist\u001b[39m(pkg_resources\u001b[38;5;241m.\u001b[39miter_entry_points(group\u001b[38;5;241m=\u001b[39m\u001b[38;5;124m'\u001b[39m\u001b[38;5;124mnbdev\u001b[39m\u001b[38;5;124m'\u001b[39m))\n\u001b[1;32m    196\u001b[0m                \u001b[38;5;28;01mif\u001b[39;00m incl_libs \u001b[38;5;129;01mis\u001b[39;00m \u001b[38;5;28;01mNone\u001b[39;00m \u001b[38;5;129;01mor\u001b[39;00m o\u001b[38;5;241m.\u001b[39mdist\u001b[38;5;241m.\u001b[39mkey \u001b[38;5;129;01min\u001b[39;00m incl_libs}\n\u001b[1;32m    197\u001b[0m py_syms \u001b[38;5;241m=\u001b[39m merge(\u001b[38;5;241m*\u001b[39mL(o[\u001b[38;5;124m'\u001b[39m\u001b[38;5;124msyms\u001b[39m\u001b[38;5;124m'\u001b[39m]\u001b[38;5;241m.\u001b[39mvalues() \u001b[38;5;28;01mfor\u001b[39;00m o \u001b[38;5;129;01min\u001b[39;00m \u001b[38;5;28mself\u001b[39m\u001b[38;5;241m.\u001b[39mentries\u001b[38;5;241m.\u001b[39mvalues())\u001b[38;5;241m.\u001b[39mconcat())\n\u001b[1;32m    198\u001b[0m \u001b[38;5;28;01mfor\u001b[39;00m m \u001b[38;5;129;01min\u001b[39;00m strip_libs:\n",
      "File \u001b[0;32m~/mambaforge/lib/python3.10/site-packages/pkg_resources/__init__.py:2477\u001b[0m, in \u001b[0;36mEntryPoint.resolve\u001b[0;34m(self)\u001b[0m\n\u001b[1;32m   2473\u001b[0m \u001b[38;5;28;01mdef\u001b[39;00m \u001b[38;5;21mresolve\u001b[39m(\u001b[38;5;28mself\u001b[39m):\n\u001b[1;32m   2474\u001b[0m     \u001b[38;5;124;03m\"\"\"\u001b[39;00m\n\u001b[1;32m   2475\u001b[0m \u001b[38;5;124;03m    Resolve the entry point from its module and attrs.\u001b[39;00m\n\u001b[1;32m   2476\u001b[0m \u001b[38;5;124;03m    \"\"\"\u001b[39;00m\n\u001b[0;32m-> 2477\u001b[0m     module \u001b[38;5;241m=\u001b[39m \u001b[38;5;28;43m__import__\u001b[39;49m\u001b[43m(\u001b[49m\u001b[38;5;28;43mself\u001b[39;49m\u001b[38;5;241;43m.\u001b[39;49m\u001b[43mmodule_name\u001b[49m\u001b[43m,\u001b[49m\u001b[43m \u001b[49m\u001b[43mfromlist\u001b[49m\u001b[38;5;241;43m=\u001b[39;49m\u001b[43m[\u001b[49m\u001b[38;5;124;43m'\u001b[39;49m\u001b[38;5;124;43m__name__\u001b[39;49m\u001b[38;5;124;43m'\u001b[39;49m\u001b[43m]\u001b[49m\u001b[43m,\u001b[49m\u001b[43m \u001b[49m\u001b[43mlevel\u001b[49m\u001b[38;5;241;43m=\u001b[39;49m\u001b[38;5;241;43m0\u001b[39;49m\u001b[43m)\u001b[49m\n\u001b[1;32m   2478\u001b[0m     \u001b[38;5;28;01mtry\u001b[39;00m:\n\u001b[1;32m   2479\u001b[0m         \u001b[38;5;28;01mreturn\u001b[39;00m functools\u001b[38;5;241m.\u001b[39mreduce(\u001b[38;5;28mgetattr\u001b[39m, \u001b[38;5;28mself\u001b[39m\u001b[38;5;241m.\u001b[39mattrs, module)\n",
      "\u001b[0;31mModuleNotFoundError\u001b[0m: No module named 'gh_pages_example._modidx'"
     ]
    }
   ],
   "source": [
    "show_doc(model_builder)"
   ]
  },
  {
   "cell_type": "markdown",
   "metadata": {},
   "source": [
    "## Clojure multimethods in python"
   ]
  },
  {
   "cell_type": "markdown",
   "metadata": {},
   "source": [
    "**Disclaimer:** Unlike the code above, this code is not my invention. All credit goes to Adam Bard for coming up with this (and Guido for writing an earlier implementation). Adam Bard made this code freely available at https://adambard.com/blog/implementing-multimethods-in-python/."
   ]
  },
  {
   "cell_type": "markdown",
   "metadata": {},
   "source": [
    "Alternatively, this package exists but only works based on type hints: https://pypi.org/project/multimethod/#description.\n",
    "In my opinion, the clojure dispatch function approach is far more versatile. Big thanks to Adam Bard for implementing this."
   ]
  },
  {
   "cell_type": "code",
   "execution_count": null,
   "metadata": {},
   "outputs": [],
   "source": [
    "#| export\n",
    "def multi(dispatch_fn):\n",
    "    def _inner(*args, **kwargs):\n",
    "        return _inner.__multi__.get(\n",
    "            dispatch_fn(*args, **kwargs),\n",
    "            _inner.__multi_default__\n",
    "        )(*args, **kwargs)\n",
    "    \n",
    "    _inner.__dispatch_fn__ = dispatch_fn\n",
    "    _inner.__multi__ = {}\n",
    "    _inner.__multi_default__ = lambda *args, **kwargs: None  # Default default\n",
    "    return _inner"
   ]
  },
  {
   "cell_type": "code",
   "execution_count": null,
   "metadata": {},
   "outputs": [],
   "source": [
    "#| export\n",
    "def method(dispatch_fn, dispatch_key=None):\n",
    "    def apply_decorator(fn):\n",
    "        if dispatch_key is None:\n",
    "            # Default case\n",
    "            dispatch_fn.__multi_default__ = fn\n",
    "        else:\n",
    "            dispatch_fn.__multi__[dispatch_key] = fn\n",
    "        return dispatch_fn\n",
    "    return apply_decorator"
   ]
  },
  {
   "cell_type": "markdown",
   "metadata": {},
   "source": [
    "### Examples and tests"
   ]
  },
  {
   "cell_type": "code",
   "execution_count": null,
   "metadata": {},
   "outputs": [],
   "source": [
    "#| export\n",
    "@multi\n",
    "def area(shape):\n",
    "    return shape.get('type')\n",
    "\n",
    "@method(area, 'square')\n",
    "def area(square):\n",
    "    return square['width'] * square['height']\n",
    "\n",
    "@method(area, 'circle')\n",
    "def area(circle):\n",
    "    return circle['radius'] ** 2 * 3.14159\n",
    "\n",
    "@method(area)\n",
    "def area(unknown_shape):\n",
    "    raise Exception(\"Can't calculate the area of this shape\")"
   ]
  },
  {
   "cell_type": "code",
   "execution_count": null,
   "metadata": {},
   "outputs": [],
   "source": [
    "#| export\n",
    "fastcore.test.test_eq(area({'type': 'square', 'width': 1, 'height': 1}), 1)\n",
    "fastcore.test.test_close(area({'type': 'circle', 'radius': 0.5}), 0.7853975)\n",
    "with fastcore.test.ExceptionExpected():\n",
    "    area({'type': 'rhombus'})"
   ]
  },
  {
   "cell_type": "code",
   "execution_count": null,
   "metadata": {},
   "outputs": [
    {
     "ename": "SyntaxError",
     "evalue": "invalid syntax. Perhaps you forgot a comma? (<unknown>, line 32)",
     "output_type": "error",
     "traceback": [
      "Traceback \u001b[0;36m(most recent call last)\u001b[0m:\n",
      "\u001b[0m  File \u001b[1;32m~/mambaforge/lib/python3.10/site-packages/IPython/core/interactiveshell.py:3378\u001b[0m in \u001b[1;35mrun_code\u001b[0m\n    exec(code_obj, self.user_global_ns, self.user_ns)\u001b[0m\n",
      "\u001b[0m  Cell \u001b[1;32mIn [18], line 2\u001b[0m\n    import nbdev; nbdev.nbdev_export()\u001b[0m\n",
      "\u001b[0m  File \u001b[1;32m~/mambaforge/lib/python3.10/site-packages/fastcore/script.py:110\u001b[0m in \u001b[1;35m_f\u001b[0m\n    if not mod: return func(*args, **kwargs)\u001b[0m\n",
      "\u001b[0m  File \u001b[1;32m~/mambaforge/lib/python3.10/site-packages/nbdev/doclinks.py:135\u001b[0m in \u001b[1;35mnbdev_export\u001b[0m\n    _build_modidx()\u001b[0m\n",
      "\u001b[0m  File \u001b[1;32m~/mambaforge/lib/python3.10/site-packages/nbdev/doclinks.py:97\u001b[0m in \u001b[1;35m_build_modidx\u001b[0m\n    res['syms'].update(_get_modidx((dest.parent/file).resolve(), code_root, nbs_path=nbs_path))\u001b[0m\n",
      "\u001b[0m  File \u001b[1;32m~/mambaforge/lib/python3.10/site-packages/nbdev/doclinks.py:75\u001b[0m in \u001b[1;35m_get_modidx\u001b[0m\n    for tree in ast.parse(cell.code).body:\u001b[0m\n",
      "\u001b[0;36m  File \u001b[0;32m~/mambaforge/lib/python3.10/ast.py:50\u001b[0;36m in \u001b[0;35mparse\u001b[0;36m\n\u001b[0;31m    return compile(source, filename, mode, flags,\u001b[0;36m\n",
      "\u001b[0;36m  File \u001b[0;32m<unknown>:32\u001b[0;36m\u001b[0m\n\u001b[0;31m    n_mutations = sum(valid_transition(current_state, possible state)\u001b[0m\n\u001b[0m                                                      ^\u001b[0m\n\u001b[0;31mSyntaxError\u001b[0m\u001b[0;31m:\u001b[0m invalid syntax. Perhaps you forgot a comma?\n"
     ]
    }
   ],
   "source": [
    "#| hide\n",
    "import nbdev; nbdev.nbdev_export()"
   ]
  }
 ],
 "metadata": {
  "kernelspec": {
   "display_name": "Python 3 (ipykernel)",
   "language": "python",
   "name": "python3"
  }
 },
 "nbformat": 4,
 "nbformat_minor": 4
}
