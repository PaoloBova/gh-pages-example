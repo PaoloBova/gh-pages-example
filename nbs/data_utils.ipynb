{
 "cells": [
  {
   "cell_type": "markdown",
   "id": "6e49edbf-6f5b-4db0-b4bc-0cd3e457eb43",
   "metadata": {},
   "source": [
    "# Data utilities\n",
    "> A set of convenience functions for handling data"
   ]
  },
  {
   "cell_type": "code",
   "execution_count": 1,
   "id": "59d091d3-0a24-4ec5-a055-572ad452c4d3",
   "metadata": {},
   "outputs": [],
   "source": [
    "#| default_exp data_utils"
   ]
  },
  {
   "cell_type": "code",
   "execution_count": 2,
   "id": "8f43b012-4b5a-41a3-806a-020e95d1e5dd",
   "metadata": {},
   "outputs": [],
   "source": [
    "#| export\n",
    "import fastcore.test\n",
    "from nbdev.showdoc import *\n",
    "import nptyping\n",
    "import numpy as np\n",
    "import pandas\n",
    "import os\n",
    "import uuid\n",
    "import tqdm\n",
    "import matplotlib.pyplot as plt"
   ]
  },
  {
   "cell_type": "code",
   "execution_count": 3,
   "id": "715cf84e-fd3b-4e43-8965-f11521e8a223",
   "metadata": {},
   "outputs": [],
   "source": [
    "#| export\n",
    "dropped_items_warning=f\"\"\"Several items in `results` are not suitable for conversion to\n",
    "a dataframe. This may be because they are not numpy arrays or because they\n",
    "are not the same size as the other items. \n",
    "\n",
    "The following items were dropped: \"\"\"\n",
    "def results_to_dataframe_egt(results:dict, # A dictionary containing items from `ModelTypeEGT`.\n",
    "                             suppress:bool=True, # Supress the dropped items warning\n",
    "                            ):\n",
    "    \"\"\"Convert results to a dataframe, keeping only items which are valid for\n",
    "    a dataframe to have.\"\"\"\n",
    "    flat_results = {k:v\n",
    "                    for k,v in results.items()\n",
    "                    if (isinstance(v, np.ndarray)\n",
    "                        and not v.ndim > 1)}\n",
    "    for i, strategy in enumerate(results.get('recurrent_states', \n",
    "                                             results.get('strategy_set', []))):\n",
    "        if \"ergodic\" in list(results.keys()):\n",
    "            flat_results[strategy + \"_frequency\"] = results['ergodic'][:,i]\n",
    "    dropped_items = [k for k in results.keys() if k not in flat_results]\n",
    "    if (len(dropped_items)>0 and not suppress):\n",
    "        print(f\"{dropped_items_warning} {dropped_items}\")\n",
    "    return pandas.DataFrame(flat_results)    "
   ]
  },
  {
   "cell_type": "code",
   "execution_count": 4,
   "id": "54928f57-ea76-4968-9d23-85ae6609029e",
   "metadata": {},
   "outputs": [],
   "source": [
    "#| export\n",
    "def process_dsair_data(data):\n",
    "    \"\"\"Process DSAIR model results dataframe.\"\"\"\n",
    "    data['pr'] = np.round(1 - data['p'].values, 2)\n",
    "    data['s'] = np.round(data['s'].values, 2)\n",
    "    return data"
   ]
  },
  {
   "cell_type": "code",
   "execution_count": 5,
   "id": "7feb1b21",
   "metadata": {},
   "outputs": [],
   "source": [
    "#| export\n",
    "\n",
    "def run_all_simulations(param_list: list,\n",
    "                        simulation_fn:callable=None,\n",
    "                        plotting_fn:callable=None,\n",
    "                        simulation_dir:str=\"\",\n",
    "                        plot_dir:str=\"\",):\n",
    "    \"\"\"\n",
    "    Iterate over each parameter dictionary, run the simulation, and save the results.\n",
    "\n",
    "    Parameters:\n",
    "    - param_list: A list of dictionaries, each containing a set of parameter values.\n",
    "    \"\"\"\n",
    "    \n",
    "    # Check if the output directory exists. If not, create it.\n",
    "    if simulation_dir and not os.path.exists(simulation_dir):\n",
    "        os.makedirs(simulation_dir)\n",
    "    if plot_dir and not os.path.exists(plot_dir):\n",
    "        os.makedirs(plot_dir)\n",
    "        \n",
    "    figs = []\n",
    "    simulation_results = []\n",
    "    # Construct a unique filename\n",
    "    simulation_id = uuid.uuid4()\n",
    "    for idx, parameters in tqdm(enumerate(param_list)):\n",
    "        if simulation_fn is not None:\n",
    "            df = simulation_fn(parameters)\n",
    "            df[\"simulation_id\"] = simulation_id\n",
    "            df[\"model_id\"] = idx\n",
    "            # Save the dataframe to CSV\n",
    "            filename = f\"dataframe_{simulation_id}_{idx}.csv\"\n",
    "            filepath = os.path.join(simulation_dir, filename)\n",
    "            df.to_csv(filepath, index=False)\n",
    "            print(f\"Saved file: {filepath}\")\n",
    "            simulation_results.append(df)\n",
    "        if plotting_fn is not None:\n",
    "            fig = plotting_fn(parameters)\n",
    "            # Save the figure\n",
    "            filename = f\"plot_{simulation_id}_{idx}.png\"\n",
    "            filepath = os.path.join(plot_dir, filename)\n",
    "            fig.savefig(filepath)\n",
    "            print(f\"Saved file: {filepath}\")\n",
    "            plt.close(fig)  # Close the figure to free up memory\n",
    "            figs.append(fig)\n",
    "        \n",
    "    return figs, simulation_results"
   ]
  },
  {
   "cell_type": "code",
   "execution_count": 6,
   "id": "83aad95a-3edb-470d-9e05-9bb3b6e244dc",
   "metadata": {},
   "outputs": [],
   "source": [
    "#| hide\n",
    "import nbdev; nbdev.nbdev_export()"
   ]
  }
 ],
 "metadata": {
  "kernelspec": {
   "display_name": "base",
   "language": "python",
   "name": "python3"
  },
  "language_info": {
   "codemirror_mode": {
    "name": "ipython",
    "version": 3
   },
   "file_extension": ".py",
   "mimetype": "text/x-python",
   "name": "python",
   "nbconvert_exporter": "python",
   "pygments_lexer": "ipython3",
   "version": "3.10.8"
  },
  "vscode": {
   "interpreter": {
    "hash": "5844494aa8caf4c1a0a05d85746d5381f91a25fadc32ae63a73a248c881db361"
   }
  }
 },
 "nbformat": 4,
 "nbformat_minor": 5
}
