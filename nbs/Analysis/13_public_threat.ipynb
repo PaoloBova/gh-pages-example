{
 "cells": [
  {
   "attachments": {},
   "cell_type": "markdown",
   "metadata": {},
   "source": [
    "# Analysis of the Public Threat model\n",
    "\n",
    "> Initial results for my Public Threat model"
   ]
  },
  {
   "cell_type": "code",
   "execution_count": 1,
   "metadata": {},
   "outputs": [],
   "source": [
    "#| default_exp analysis_public_threat"
   ]
  },
  {
   "cell_type": "code",
   "execution_count": null,
   "metadata": {},
   "outputs": [],
   "source": [
    "#| hide\n",
    "#| export\n",
    "from gh_pages_example.conditions import *\n",
    "from gh_pages_example.data_utils import *\n",
    "from gh_pages_example.methods import *\n",
    "from gh_pages_example.models import *\n",
    "from gh_pages_example.model_utils import *\n",
    "from gh_pages_example.payoffs import *\n",
    "from gh_pages_example.plot_utils import *\n",
    "from gh_pages_example.types import *\n",
    "from gh_pages_example.utils import *\n",
    "\n",
    "import copy\n",
    "import typing\n",
    "import warnings\n",
    "\n",
    "import chaospy\n",
    "import fastcore.test\n",
    "import ipywidgets\n",
    "from ipywidgets import interact\n",
    "import matplotlib as mpl\n",
    "import matplotlib.pyplot as plt\n",
    "from nbdev.showdoc import *\n",
    "import nptyping\n",
    "import numpy as np\n",
    "import pandas\n",
    "import scipy\n",
    "import seaborn as sns"
   ]
  },
  {
   "cell_type": "code",
   "execution_count": null,
   "metadata": {},
   "outputs": [],
   "source": [
    "Z = {\"S2\": 50, \"S1\": 50}\n",
    "β = 1\n",
    "sector_strategies = {\"S2\": [4, 5],\n",
    "                     \"S1\": [1, 2, 3], }\n",
    "allowed_sectors = {\"P3\": [\"S2\"],\n",
    "                   \"P2\": [\"S1\"],\n",
    "                   \"P1\": [\"S1\"], }\n",
    "models = {\"dispatch-type\": 'multiple-populations',\n",
    "          \"payoffs_key\": \"public_threat_level_v1\",\n",
    "          \"β\": β,\n",
    "          \"Z\": Z,\n",
    "          \"allowed_sectors\": allowed_sectors,\n",
    "          \"sector_strategies\": sector_strategies,\n",
    "          \"compute_success_rule\": \"functional\",\n",
    "          \"payoffs_function\": evaluate_payoffs,\n",
    "          }\n",
    "models['pfo'] = 0 # We need this parameter to calculate some analytical boundaries."
   ]
  },
  {
   "cell_type": "code",
   "execution_count": null,
   "metadata": {},
   "outputs": [],
   "source": [
    "models_baseline = {**models,\n",
    "                   **build_reg_market(pfo_h=0.8,\n",
    "                                      g=1.4,\n",
    "                                      incentive_mix=1,\n",
    "                                      phi_h=1,\n",
    "                                      phi2_h=1,\n",
    "                                      β = 0.02 # np.arange(0.01, 0.1, 0.01)\n",
    "                                      )\n",
    "                   }\n",
    "models_baseline['β'] = {\"S1\": models_baseline['β'],\n",
    "                        \"S2\": models_baseline['β']*10}\n",
    "# Optionally, we can choose to scale the regulator's impact by the speed advantage.\n",
    "models_baseline['phi_h'] = models_baseline['phi_h']  / models_baseline['s']\n",
    "models_baseline['phi2_h'] = models_baseline['phi2_h'] / models_baseline['s']\n",
    "results_baseline = thread_macro({**models_baseline,\n",
    "                                 \"sd-method\": \"quantecon\",\n",
    "                                 },\n",
    "                                risk_dominance,\n",
    "                                payoffs_sr_pfo_extension,\n",
    "                                threshold_risk_dominant_safety_dsair,\n",
    "                                threshold_society_prefers_safety_dsair,\n",
    "                                create_profiles,\n",
    "                                apply_profile_filters,\n",
    "                                build_payoffs,\n",
    "                                build_transition_matrix,\n",
    "                                find_ergodic_distribution,\n",
    "                                calculate_sd_helper,\n",
    "                                )\n",
    "df_baseline = thread_macro(results_baseline,\n",
    "                           results_to_dataframe_egt,\n",
    "                           process_dsair_data)"
   ]
  },
  {
   "cell_type": "markdown",
   "metadata": {},
   "source": []
  }
 ],
 "metadata": {
  "kernelspec": {
   "display_name": "base",
   "language": "python",
   "name": "python3"
  },
  "language_info": {
   "name": "python",
   "version": "3.10.8"
  },
  "orig_nbformat": 4,
  "vscode": {
   "interpreter": {
    "hash": "b43365c91fa606555fcc696a7d6bcbc24abaca9a551987b870a6a0f0620f14e2"
   }
  }
 },
 "nbformat": 4,
 "nbformat_minor": 2
}
