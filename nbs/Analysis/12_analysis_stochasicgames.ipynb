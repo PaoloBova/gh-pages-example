{
 "cells": [
  {
   "cell_type": "markdown",
   "id": "8663e504-288d-4d04-bea2-ec3d8e6aceb6",
   "metadata": {},
   "source": [
    "# Analysis of the Regulatory Market model\n",
    "\n",
    "> Initial results for my Regulatory Markets model"
   ]
  },
  {
   "cell_type": "code",
   "execution_count": 1,
   "id": "e4ca64e1-4ca6-4b66-80d6-2361849047c5",
   "metadata": {},
   "outputs": [],
   "source": [
    "#| default_exp analysis_stochasticgames"
   ]
  },
  {
   "cell_type": "code",
   "execution_count": 2,
   "id": "039a6fa5-e85d-468c-a3d0-8f314547c6fd",
   "metadata": {},
   "outputs": [
    {
     "name": "stderr",
     "output_type": "stream",
     "text": [
      "/mnt/d/Paolo-Work/git/gh-pages-example/gh_pages_example/model_utils.py:299: FutureWarning: elementwise comparison failed; returning scalar instead, but in the future will perform elementwise comparison\n",
      "  if (ind not in allowed_inds) and (str(ind) not in allowed_inds):\n",
      "/mnt/d/Paolo-Work/git/gh-pages-example/gh_pages_example/methods.py:260: ComplexWarning: Casting complex values to real discards the imaginary part\n",
      "  ergodic = np.array(V.transpose(0, 2, 1)[y], dtype=float)\n"
     ]
    }
   ],
   "source": [
    "#| export\n",
    "from gh_pages_example.conditions import *\n",
    "from gh_pages_example.data_utils import *\n",
    "from gh_pages_example.methods import *\n",
    "from gh_pages_example.models import *\n",
    "from gh_pages_example.model_utils import *\n",
    "from gh_pages_example.payoffs import *\n",
    "from gh_pages_example.plot_utils import *\n",
    "from gh_pages_example.types import *\n",
    "from gh_pages_example.utils import *\n",
    "\n",
    "import copy\n",
    "import typing\n",
    "import warnings\n",
    "\n",
    "import chaospy\n",
    "import fastcore.test\n",
    "import ipywidgets\n",
    "from ipywidgets import interact\n",
    "import matplotlib as mpl\n",
    "import matplotlib.pyplot as plt\n",
    "from nbdev.showdoc import *\n",
    "import nptyping\n",
    "import numpy as np\n",
    "import pandas\n",
    "import scipy\n",
    "import seaborn as sns"
   ]
  },
  {
   "cell_type": "code",
   "execution_count": 3,
   "id": "dd3bc6c9",
   "metadata": {},
   "outputs": [],
   "source": [
    "#| hide\n",
    "sns.set_theme(style='darkgrid',palette='deep' ,font='sans-serif', font_scale=1.4)\n",
    "plt.rcParams[\"axes.grid\"] = False"
   ]
  },
  {
   "cell_type": "markdown",
   "id": "75c6ee2a",
   "metadata": {},
   "source": [
    "## Fast prototyping (before placing in main body of notebook)"
   ]
  },
  {
   "cell_type": "markdown",
   "id": "fd786d17",
   "metadata": {},
   "source": [
    "#### Flow Payoffs"
   ]
  },
  {
   "cell_type": "code",
   "execution_count": 4,
   "id": "ea3e5f2e",
   "metadata": {},
   "outputs": [],
   "source": [
    "#| export payoffs\n",
    "@method(build_payoffs, 'vasconcelos_2014_flow')\n",
    "def build_payoffs(models: dict):\n",
    "    names = ['payoffs_state', 'c', 'T', 'b_r', 'b_p', 'r', 'g']\n",
    "    payoffs_state, c, T, b_r, b_p, r, g = [models[k] for k in names]\n",
    "    strategy_counts = payoffs_state['strategy_counts']\n",
    "    state = payoffs_state['state']\n",
    "    reward_bonus = g if state=='1' else 1\n",
    "    n_r = strategy_counts.get(\"2\", 0)\n",
    "    n_p = strategy_counts.get(\"4\", 0)\n",
    "    risk = r * (n_r * c * b_r + n_p * c * b_p < T)\n",
    "    payoffs = {\"1\": (1 - risk) * b_r * reward_bonus,  # rich_free_rider\n",
    "               \"2\": (1 - risk) * c * b_r * reward_bonus,  # rich_contributor\n",
    "               \"3\": (1 - risk) * b_p * reward_bonus,  # poor_free_rider\n",
    "               \"4\": (1 - risk) * c * b_p * reward_bonus}  # poor_contributor\n",
    "    return {**models, \"flow_payoffs\": payoffs}"
   ]
  },
  {
   "cell_type": "markdown",
   "id": "42455378",
   "metadata": {},
   "source": [
    "#### Dynamics"
   ]
  },
  {
   "cell_type": "code",
   "execution_count": 5,
   "id": "6af82f24",
   "metadata": {},
   "outputs": [],
   "source": [
    "@method(state_transition, 'ex1')\n",
    "def state_transition(models):\n",
    "    \"\"\"Compute transition likelihood for a model with 2 states and an arbitrary\n",
    "    number of players. To stay in the good state, 0, all players need to choose\n",
    "    to cooperate, i.e. action 1.\"\"\"\n",
    "    state_action, next_state = [models[k] for k in ['state_action',\n",
    "                                                    'next_state']]\n",
    "    current_state, action_profile = state_action.split(\":\")\n",
    "    action_tuple = string_to_tuple(action_profile)\n",
    "    action_count = dict(zip(*np.unique(action_tuple, return_counts=True)))\n",
    "    n_players = len(action_tuple)\n",
    "    n_cooperators = action_count.get(1, 0) + action_count.get(3, 0)\n",
    "    if (current_state == '0'\n",
    "        and next_state == '1'\n",
    "        and n_cooperators != n_players):\n",
    "        transition_likelihood = 1\n",
    "    elif (current_state == '1'\n",
    "          and next_state == '0'\n",
    "          and n_cooperators == n_players):\n",
    "        transition_likelihood = 1\n",
    "    elif (current_state == '0'\n",
    "          and next_state == '0'\n",
    "          and n_cooperators == n_players):\n",
    "        transition_likelihood = 1\n",
    "    elif (current_state == '1'\n",
    "          and next_state == '1'\n",
    "          and n_cooperators != n_players):\n",
    "        transition_likelihood = 1\n",
    "    else:\n",
    "        transition_likelihood = 0\n",
    "    return transition_likelihood"
   ]
  },
  {
   "cell_type": "markdown",
   "id": "a8eb0c03",
   "metadata": {},
   "source": [
    "#### Strategies"
   ]
  },
  {
   "cell_type": "code",
   "execution_count": 6,
   "id": "98d4635f",
   "metadata": {},
   "outputs": [],
   "source": [
    "@method(build_strategy, 'ex1_rich_cooperator')\n",
    "def build_strategy(models):\n",
    "    \"\"\"A rich player who cooperates with 95% probability if everyone currently\n",
    "    cooperates, otherwise defects with 95% probability.\"\"\"\n",
    "    state_action = models['state_action']\n",
    "    current_state, action_profile = state_action.split(\":\")\n",
    "    action_tuple = string_to_tuple(action_profile)\n",
    "    action_count = dict(zip(*np.unique(action_tuple, return_counts=True)))\n",
    "    n_players = len(action_tuple)\n",
    "    n_cooperators = action_count.get(1, 0) + action_count.get(3, 0)\n",
    "    if (current_state == '0'\n",
    "        and n_cooperators == n_players):\n",
    "        strategy = {\"A1\": 0.95, \"A2\": 0.05}\n",
    "    elif (current_state == '0'\n",
    "          and n_cooperators != n_players):\n",
    "        strategy = {\"A1\": 0.05, \"A2\": 0.95}\n",
    "    elif (current_state == '1'\n",
    "          and n_cooperators == n_players):\n",
    "        strategy = {\"A1\": 0.95, \"A2\": 0.05}\n",
    "    elif (current_state == '1'\n",
    "          and n_cooperators != n_players):\n",
    "        strategy = {\"A1\": 0.05, \"A2\": 0.95}\n",
    "    return strategy\n",
    "\n",
    "@method(build_strategy, 'ex1_rich_defector')\n",
    "def build_strategy(models):\n",
    "    \"\"\"A rich player who defects with 95% probability no matter what others\n",
    "    do, nor what state they are in.\"\"\"\n",
    "    state_action = models['state_action']\n",
    "    current_state, action_profile = state_action.split(\":\")\n",
    "    action_tuple = string_to_tuple(action_profile)\n",
    "    action_count = dict(zip(*np.unique(action_tuple, return_counts=True)))\n",
    "    n_players = len(action_tuple)\n",
    "    n_cooperators = action_count.get(1, 0) + action_count.get(3, 0)\n",
    "    if (current_state == '0'\n",
    "        and n_cooperators == n_players):\n",
    "        strategy = {\"A1\": 0.05, \"A2\": 0.95}\n",
    "    elif (current_state == '0'\n",
    "          and n_cooperators != n_players):\n",
    "        strategy = {\"A1\": 0.05, \"A2\": 0.95}\n",
    "    elif (current_state == '1'\n",
    "          and n_cooperators == n_players):\n",
    "        strategy = {\"A1\": 0.05, \"A2\": 0.95}\n",
    "    elif (current_state == '1'\n",
    "          and n_cooperators != n_players):\n",
    "        strategy = {\"A1\": 0.05, \"A2\": 0.95}\n",
    "    return strategy\n",
    "\n",
    "@method(build_strategy, 'ex1_poor_cooperator')\n",
    "def build_strategy(models):\n",
    "    \"\"\"A poor player who cooperates with 95% probability if everyone currently\n",
    "    cooperates, otherwise defects with 95% probability.\"\"\"\n",
    "    state_action = models['state_action']\n",
    "    current_state, action_profile = state_action.split(\":\")\n",
    "    action_tuple = string_to_tuple(action_profile)\n",
    "    action_count = dict(zip(*np.unique(action_tuple, return_counts=True)))\n",
    "    n_players = len(action_tuple)\n",
    "    n_cooperators = action_count.get(1, 0) + action_count.get(3, 0)\n",
    "    if (current_state == '0'\n",
    "        and n_cooperators == n_players):\n",
    "        strategy = {\"A3\": 0.95, \"A4\": 0.05}\n",
    "    elif (current_state == '0'\n",
    "          and n_cooperators != n_players):\n",
    "        strategy = {\"A3\": 0.05, \"A4\": 0.95}\n",
    "    elif (current_state == '1'\n",
    "          and n_cooperators == n_players):\n",
    "        strategy = {\"A3\": 0.95, \"A4\": 0.05}\n",
    "    elif (current_state == '1'\n",
    "          and n_cooperators != n_players):\n",
    "        strategy = {\"A3\": 0.05, \"A4\": 0.95}\n",
    "    return strategy\n",
    "\n",
    "@method(build_strategy, 'ex1_poor_defector')\n",
    "def build_strategy(models):\n",
    "    \"\"\"A poor player who defects with 95% probability no matter what others\n",
    "    do, nor what state they are in.\"\"\"\n",
    "    state_action = models['state_action']\n",
    "    current_state, action_profile = state_action.split(\":\")\n",
    "    action_tuple = string_to_tuple(action_profile)\n",
    "    action_count = dict(zip(*np.unique(action_tuple, return_counts=True)))\n",
    "    n_players = len(action_tuple)\n",
    "    n_cooperators = action_count.get(1, 0) + action_count.get(3, 0)\n",
    "    if (current_state == '0'\n",
    "        and n_cooperators == n_players):\n",
    "        strategy = {\"A3\": 0.05, \"A4\": 0.95}\n",
    "    elif (current_state == '0'\n",
    "          and n_cooperators != n_players):\n",
    "        strategy = {\"A3\": 0.05, \"A4\": 0.95}\n",
    "    elif (current_state == '1'\n",
    "          and n_cooperators == n_players):\n",
    "        strategy = {\"A3\": 0.05, \"A4\": 0.95}\n",
    "    elif (current_state == '1'\n",
    "          and n_cooperators != n_players):\n",
    "        strategy = {\"A3\": 0.05, \"A4\": 0.95}\n",
    "    return strategy"
   ]
  },
  {
   "cell_type": "markdown",
   "id": "4a87fe69",
   "metadata": {},
   "source": [
    "#### Model in full"
   ]
  },
  {
   "cell_type": "code",
   "execution_count": 7,
   "id": "7d00f99e",
   "metadata": {},
   "outputs": [
    {
     "name": "stderr",
     "output_type": "stream",
     "text": [
      "/mnt/d/Paolo-Work/git/gh-pages-example/gh_pages_example/methods.py:260: ComplexWarning: Casting complex values to real discards the imaginary part\n",
      "  ergodic = np.array(V.transpose(0, 2, 1)[y], dtype=float)\n"
     ]
    }
   ],
   "source": [
    "Z = {\"S2\": 50, \"S1\": 50}\n",
    "β = 1\n",
    "# In this case the sector strategies for the full stochsatic game happen to\n",
    "# coincide with the actions allowed each period.\n",
    "sector_strategies = {\"S1\": [\"1\", \"2\"],\n",
    "                     \"S2\": [\"3\", \"4\"]}\n",
    "allowed_sectors = {\"P1\": [\"S1\", \"S2\"],\n",
    "                   \"P2\": [\"S1\", \"S2\"]}\n",
    "models = {\"allowed_sectors\": allowed_sectors,\n",
    "          \"sector_strategies\": sector_strategies,\n",
    "          \"profiles_rule\": \"anonymous\", }\n",
    "action_profiles = create_profiles(models)[\"profiles\"]\n",
    "n_states = 2\n",
    "state_actions = [f\"{state}:{a}\"\n",
    "                 for a in action_profiles\n",
    "                 for state in range(n_states)]\n",
    "\n",
    "strategy_keys = [\"ex1_rich_cooperator\",\n",
    "                 \"ex1_rich_defector\",\n",
    "                 \"ex1_poor_cooperator\",\n",
    "                 \"ex1_poor_defector\", ]\n",
    "models = {**models,\n",
    "          \"strategy_keys\": strategy_keys,\n",
    "          \"state_actions\": state_actions}\n",
    "strategies = build_strategies(models)['strategies']\n",
    "models = {**models,\n",
    "          \"payoffs_flow_key\": \"vasconcelos_2014_flow\",\n",
    "          \"payoffs_key\": \"flow_payoffs_wrapper\",\n",
    "          \"state_actions\": state_actions,\n",
    "          \"strategies\": strategies,\n",
    "          'n_states': n_states,\n",
    "          'state_transition_key': 'ex1',\n",
    "          'compute_transition_key': \"anonymous_actions\",\n",
    "          **model_builder({'c': np.arange(0,1,0.02),\n",
    "                           'T': 1,\n",
    "                           'b_r': 4,\n",
    "                           'b_p': 2,\n",
    "                           'r': np.arange(0.5, 1, 0.02),\n",
    "                           'g': np.arange(1, 2, 0.2),\n",
    "                           \"β\": β,})\n",
    "          }\n",
    "models\n",
    "models = build_state_transitions(models)\n",
    "models = build_payoffs(models)\n",
    "models = {**models,\n",
    "          \"payoffs_key\": \"payoff_function_wrapper\",\n",
    "          \"profile_payoffs_key\": \"stochastic-no-discounting\",\n",
    "          \"dispatch-type\": 'multiple-populations',\n",
    "          \"Z\": Z, }\n",
    "models = build_payoffs(models)"
   ]
  },
  {
   "cell_type": "code",
   "execution_count": 8,
   "id": "faff7108",
   "metadata": {},
   "outputs": [
    {
     "name": "stderr",
     "output_type": "stream",
     "text": [
      "/mnt/d/Paolo-Work/git/gh-pages-example/gh_pages_example/model_utils.py:299: FutureWarning: elementwise comparison failed; returning scalar instead, but in the future will perform elementwise comparison\n",
      "  if (ind not in allowed_inds) and (str(ind) not in allowed_inds):\n",
      "/mnt/d/Paolo-Work/git/gh-pages-example/gh_pages_example/methods.py:311: RuntimeWarning: Some of the entries in the transition matrix are close to 1 (with a tolerance of 1e-11). This could result in more than one eigenvalue of magnitute 1 (the Markov Chain is degenerate), so please be careful when analysing the results.\n",
      "  warn(\n"
     ]
    }
   ],
   "source": [
    "results = thread_macro(models,\n",
    "                       create_profiles,\n",
    "                       apply_profile_filters,\n",
    "                       build_transition_matrix,\n",
    "                       calculate_sd_helper,\n",
    "                       )\n",
    "\n",
    "df = thread_macro(results,\n",
    "                  results_to_dataframe_egt,)"
   ]
  },
  {
   "cell_type": "code",
   "execution_count": 9,
   "id": "b3ac8ed3",
   "metadata": {},
   "outputs": [
    {
     "data": {
      "text/html": [
       "<div>\n",
       "<style scoped>\n",
       "    .dataframe tbody tr th:only-of-type {\n",
       "        vertical-align: middle;\n",
       "    }\n",
       "\n",
       "    .dataframe tbody tr th {\n",
       "        vertical-align: top;\n",
       "    }\n",
       "\n",
       "    .dataframe thead th {\n",
       "        text-align: right;\n",
       "    }\n",
       "</style>\n",
       "<table border=\"1\" class=\"dataframe\">\n",
       "  <thead>\n",
       "    <tr style=\"text-align: right;\">\n",
       "      <th></th>\n",
       "      <th>c</th>\n",
       "      <th>r</th>\n",
       "      <th>g</th>\n",
       "      <th>T</th>\n",
       "      <th>b_r</th>\n",
       "      <th>b_p</th>\n",
       "      <th>β</th>\n",
       "      <th>3-1_frequency</th>\n",
       "      <th>3-2_frequency</th>\n",
       "      <th>4-1_frequency</th>\n",
       "      <th>4-2_frequency</th>\n",
       "    </tr>\n",
       "  </thead>\n",
       "  <tbody>\n",
       "    <tr>\n",
       "      <th>0</th>\n",
       "      <td>0.00</td>\n",
       "      <td>0.50</td>\n",
       "      <td>1.0</td>\n",
       "      <td>1</td>\n",
       "      <td>4</td>\n",
       "      <td>2</td>\n",
       "      <td>1</td>\n",
       "      <td>1.000000</td>\n",
       "      <td>1.273387e-27</td>\n",
       "      <td>5.675685e-14</td>\n",
       "      <td>2.548105e-40</td>\n",
       "    </tr>\n",
       "    <tr>\n",
       "      <th>1</th>\n",
       "      <td>0.00</td>\n",
       "      <td>0.50</td>\n",
       "      <td>1.2</td>\n",
       "      <td>1</td>\n",
       "      <td>4</td>\n",
       "      <td>2</td>\n",
       "      <td>1</td>\n",
       "      <td>1.000000</td>\n",
       "      <td>0.000000e+00</td>\n",
       "      <td>0.000000e+00</td>\n",
       "      <td>0.000000e+00</td>\n",
       "    </tr>\n",
       "    <tr>\n",
       "      <th>2</th>\n",
       "      <td>0.00</td>\n",
       "      <td>0.50</td>\n",
       "      <td>1.4</td>\n",
       "      <td>1</td>\n",
       "      <td>4</td>\n",
       "      <td>2</td>\n",
       "      <td>1</td>\n",
       "      <td>1.000000</td>\n",
       "      <td>0.000000e+00</td>\n",
       "      <td>0.000000e+00</td>\n",
       "      <td>0.000000e+00</td>\n",
       "    </tr>\n",
       "    <tr>\n",
       "      <th>3</th>\n",
       "      <td>0.00</td>\n",
       "      <td>0.50</td>\n",
       "      <td>1.6</td>\n",
       "      <td>1</td>\n",
       "      <td>4</td>\n",
       "      <td>2</td>\n",
       "      <td>1</td>\n",
       "      <td>1.000000</td>\n",
       "      <td>0.000000e+00</td>\n",
       "      <td>0.000000e+00</td>\n",
       "      <td>0.000000e+00</td>\n",
       "    </tr>\n",
       "    <tr>\n",
       "      <th>4</th>\n",
       "      <td>0.00</td>\n",
       "      <td>0.50</td>\n",
       "      <td>1.8</td>\n",
       "      <td>1</td>\n",
       "      <td>4</td>\n",
       "      <td>2</td>\n",
       "      <td>1</td>\n",
       "      <td>1.000000</td>\n",
       "      <td>0.000000e+00</td>\n",
       "      <td>0.000000e+00</td>\n",
       "      <td>0.000000e+00</td>\n",
       "    </tr>\n",
       "    <tr>\n",
       "      <th>...</th>\n",
       "      <td>...</td>\n",
       "      <td>...</td>\n",
       "      <td>...</td>\n",
       "      <td>...</td>\n",
       "      <td>...</td>\n",
       "      <td>...</td>\n",
       "      <td>...</td>\n",
       "      <td>...</td>\n",
       "      <td>...</td>\n",
       "      <td>...</td>\n",
       "      <td>...</td>\n",
       "    </tr>\n",
       "    <tr>\n",
       "      <th>6245</th>\n",
       "      <td>0.98</td>\n",
       "      <td>0.98</td>\n",
       "      <td>1.0</td>\n",
       "      <td>1</td>\n",
       "      <td>4</td>\n",
       "      <td>2</td>\n",
       "      <td>1</td>\n",
       "      <td>0.259223</td>\n",
       "      <td>2.468767e-01</td>\n",
       "      <td>2.529745e-01</td>\n",
       "      <td>2.409258e-01</td>\n",
       "    </tr>\n",
       "    <tr>\n",
       "      <th>6246</th>\n",
       "      <td>0.98</td>\n",
       "      <td>0.98</td>\n",
       "      <td>1.2</td>\n",
       "      <td>1</td>\n",
       "      <td>4</td>\n",
       "      <td>2</td>\n",
       "      <td>1</td>\n",
       "      <td>0.259626</td>\n",
       "      <td>2.468674e-01</td>\n",
       "      <td>2.533661e-01</td>\n",
       "      <td>2.401401e-01</td>\n",
       "    </tr>\n",
       "    <tr>\n",
       "      <th>6247</th>\n",
       "      <td>0.98</td>\n",
       "      <td>0.98</td>\n",
       "      <td>1.4</td>\n",
       "      <td>1</td>\n",
       "      <td>4</td>\n",
       "      <td>2</td>\n",
       "      <td>1</td>\n",
       "      <td>0.260031</td>\n",
       "      <td>2.468563e-01</td>\n",
       "      <td>2.537558e-01</td>\n",
       "      <td>2.393572e-01</td>\n",
       "    </tr>\n",
       "    <tr>\n",
       "      <th>6248</th>\n",
       "      <td>0.98</td>\n",
       "      <td>0.98</td>\n",
       "      <td>1.6</td>\n",
       "      <td>1</td>\n",
       "      <td>4</td>\n",
       "      <td>2</td>\n",
       "      <td>1</td>\n",
       "      <td>0.260436</td>\n",
       "      <td>2.468436e-01</td>\n",
       "      <td>2.541437e-01</td>\n",
       "      <td>2.385769e-01</td>\n",
       "    </tr>\n",
       "    <tr>\n",
       "      <th>6249</th>\n",
       "      <td>0.98</td>\n",
       "      <td>0.98</td>\n",
       "      <td>1.8</td>\n",
       "      <td>1</td>\n",
       "      <td>4</td>\n",
       "      <td>2</td>\n",
       "      <td>1</td>\n",
       "      <td>0.260842</td>\n",
       "      <td>2.468291e-01</td>\n",
       "      <td>2.545297e-01</td>\n",
       "      <td>2.377994e-01</td>\n",
       "    </tr>\n",
       "  </tbody>\n",
       "</table>\n",
       "<p>6250 rows × 11 columns</p>\n",
       "</div>"
      ],
      "text/plain": [
       "         c     r    g  T  b_r  b_p  β  3-1_frequency  3-2_frequency  \\\n",
       "0     0.00  0.50  1.0  1    4    2  1       1.000000   1.273387e-27   \n",
       "1     0.00  0.50  1.2  1    4    2  1       1.000000   0.000000e+00   \n",
       "2     0.00  0.50  1.4  1    4    2  1       1.000000   0.000000e+00   \n",
       "3     0.00  0.50  1.6  1    4    2  1       1.000000   0.000000e+00   \n",
       "4     0.00  0.50  1.8  1    4    2  1       1.000000   0.000000e+00   \n",
       "...    ...   ...  ... ..  ...  ... ..            ...            ...   \n",
       "6245  0.98  0.98  1.0  1    4    2  1       0.259223   2.468767e-01   \n",
       "6246  0.98  0.98  1.2  1    4    2  1       0.259626   2.468674e-01   \n",
       "6247  0.98  0.98  1.4  1    4    2  1       0.260031   2.468563e-01   \n",
       "6248  0.98  0.98  1.6  1    4    2  1       0.260436   2.468436e-01   \n",
       "6249  0.98  0.98  1.8  1    4    2  1       0.260842   2.468291e-01   \n",
       "\n",
       "      4-1_frequency  4-2_frequency  \n",
       "0      5.675685e-14   2.548105e-40  \n",
       "1      0.000000e+00   0.000000e+00  \n",
       "2      0.000000e+00   0.000000e+00  \n",
       "3      0.000000e+00   0.000000e+00  \n",
       "4      0.000000e+00   0.000000e+00  \n",
       "...             ...            ...  \n",
       "6245   2.529745e-01   2.409258e-01  \n",
       "6246   2.533661e-01   2.401401e-01  \n",
       "6247   2.537558e-01   2.393572e-01  \n",
       "6248   2.541437e-01   2.385769e-01  \n",
       "6249   2.545297e-01   2.377994e-01  \n",
       "\n",
       "[6250 rows x 11 columns]"
      ]
     },
     "execution_count": 9,
     "metadata": {},
     "output_type": "execute_result"
    }
   ],
   "source": [
    "df"
   ]
  },
  {
   "cell_type": "code",
   "execution_count": 10,
   "id": "4b77d5b9",
   "metadata": {},
   "outputs": [],
   "source": [
    "var = \"g\""
   ]
  },
  {
   "cell_type": "code",
   "execution_count": 11,
   "id": "9fe37494",
   "metadata": {},
   "outputs": [
    {
     "data": {
      "application/vnd.jupyter.widget-view+json": {
       "model_id": "ae423ffa840646579b9ff12c3aae57ba",
       "version_major": 2,
       "version_minor": 0
      },
      "text/plain": [
       "interactive(children=(Dropdown(description='v', options=(1.0, 1.2, 1.4, 1.5999999999999999, 1.7999999999999998…"
      ]
     },
     "metadata": {},
     "output_type": "display_data"
    }
   ],
   "source": [
    "@interact\n",
    "def plot_heatmap_data(v=df[var].unique()):\n",
    "    plot_data = df[df[var]==v]\n",
    "    table = plot_data.pivot_table(index='r', columns='c', values='3-1_frequency')\n",
    "    plot_heatmap(table,\n",
    "                    xlabel='Contribution cost',\n",
    "                    ylabel='Risk',\n",
    "                    zlabel='Frequency of full cooperation',\n",
    "                    cmap='inferno',\n",
    "                    interpolation=\"nearest\"\n",
    "                    )"
   ]
  },
  {
   "cell_type": "markdown",
   "id": "17a55edf-d4cc-4f89-90ac-35c6af087d5a",
   "metadata": {},
   "source": [
    "#| hide\n",
    "\n",
    "# References"
   ]
  },
  {
   "cell_type": "code",
   "execution_count": 13,
   "id": "2c50b416-290c-4b5a-ab60-4a84f50f24c9",
   "metadata": {},
   "outputs": [],
   "source": [
    "#| hide\n",
    "# import nbdev; nbdev.nbdev_export()"
   ]
  }
 ],
 "metadata": {
  "kernelspec": {
   "display_name": "base",
   "language": "python",
   "name": "python3"
  },
  "language_info": {
   "codemirror_mode": {
    "name": "ipython",
    "version": 3
   },
   "file_extension": ".py",
   "mimetype": "text/x-python",
   "name": "python",
   "nbconvert_exporter": "python",
   "pygments_lexer": "ipython3",
   "version": "3.10.6"
  },
  "vscode": {
   "interpreter": {
    "hash": "5844494aa8caf4c1a0a05d85746d5381f91a25fadc32ae63a73a248c881db361"
   }
  },
  "widgets": {
   "application/vnd.jupyter.widget-state+json": {
    "state": {
     "4e19c2c9924641ae9f33c4c2c9b58de9": {
      "model_module": "@jupyter-widgets/base",
      "model_module_version": "2.0.0",
      "model_name": "LayoutModel",
      "state": {}
     },
     "7a0de6071b394041baaa490d95de168f": {
      "model_module": "@jupyter-widgets/output",
      "model_module_version": "1.0.0",
      "model_name": "OutputModel",
      "state": {
       "layout": "IPY_MODEL_8cec13c388594e728381ab28c1fb9700",
       "outputs": [
        {
         "data": {
          "image/png": "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\n",
          "text/plain": "<Figure size 640x480 with 2 Axes>"
         },
         "metadata": {},
         "output_type": "display_data"
        }
       ]
      }
     },
     "8a8531a5a2e34441bab8ff825b4f33a0": {
      "model_module": "@jupyter-widgets/base",
      "model_module_version": "2.0.0",
      "model_name": "LayoutModel",
      "state": {}
     },
     "8cec13c388594e728381ab28c1fb9700": {
      "model_module": "@jupyter-widgets/base",
      "model_module_version": "2.0.0",
      "model_name": "LayoutModel",
      "state": {}
     },
     "ae423ffa840646579b9ff12c3aae57ba": {
      "model_module": "@jupyter-widgets/controls",
      "model_module_version": "2.0.0",
      "model_name": "VBoxModel",
      "state": {
       "_dom_classes": [
        "widget-interact"
       ],
       "children": [
        "IPY_MODEL_d38963fff90041f887d7c18c1e38763f",
        "IPY_MODEL_7a0de6071b394041baaa490d95de168f"
       ],
       "layout": "IPY_MODEL_4e19c2c9924641ae9f33c4c2c9b58de9"
      }
     },
     "d38963fff90041f887d7c18c1e38763f": {
      "model_module": "@jupyter-widgets/controls",
      "model_module_version": "2.0.0",
      "model_name": "DropdownModel",
      "state": {
       "_options_labels": [
        "1.0",
        "1.2",
        "1.4",
        "1.5999999999999999",
        "1.7999999999999998"
       ],
       "description": "v",
       "index": 0,
       "layout": "IPY_MODEL_8a8531a5a2e34441bab8ff825b4f33a0",
       "style": "IPY_MODEL_e20b1c7f34534a198df82f6e32ebf870"
      }
     },
     "e20b1c7f34534a198df82f6e32ebf870": {
      "model_module": "@jupyter-widgets/controls",
      "model_module_version": "2.0.0",
      "model_name": "DescriptionStyleModel",
      "state": {
       "description_width": ""
      }
     }
    },
    "version_major": 2,
    "version_minor": 0
   }
  }
 },
 "nbformat": 4,
 "nbformat_minor": 5
}
