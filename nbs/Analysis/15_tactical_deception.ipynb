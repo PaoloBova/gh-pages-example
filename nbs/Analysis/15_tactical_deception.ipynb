{
 "cells": [
  {
   "cell_type": "markdown",
   "metadata": {},
   "source": [
    "# Tactical Deception Model\n",
    "\n",
    "> A replication and extension of the paper (Luke McNally and Andrew L. Jackson, 2013): Cooperation creates selection for tactical deception "
   ]
  },
  {
   "cell_type": "code",
   "execution_count": 2,
   "metadata": {},
   "outputs": [],
   "source": [
    "#| default_exp tactical_deception"
   ]
  },
  {
   "cell_type": "code",
   "execution_count": 1,
   "metadata": {},
   "outputs": [
    {
     "name": "stderr",
     "output_type": "stream",
     "text": [
      "/home/ethos/git/gh-pages-example/gh_pages_example/model_utils.py:299: FutureWarning: elementwise comparison failed; returning scalar instead, but in the future will perform elementwise comparison\n",
      "  if (ind not in allowed_inds) and (str(ind) not in allowed_inds):\n",
      "/home/ethos/git/gh-pages-example/gh_pages_example/methods.py:260: ComplexWarning: Casting complex values to real discards the imaginary part\n",
      "  ergodic = np.array(V.transpose(0, 2, 1)[y], dtype=float)\n"
     ]
    }
   ],
   "source": [
    "#| hide\n",
    "#| export\n",
    "from gh_pages_example.conditions import *\n",
    "from gh_pages_example.data_utils import *\n",
    "from gh_pages_example.methods import *\n",
    "from gh_pages_example.models import *\n",
    "from gh_pages_example.model_utils import *\n",
    "from gh_pages_example.payoffs import *\n",
    "from gh_pages_example.plot_utils import *\n",
    "from gh_pages_example.types import *\n",
    "from gh_pages_example.utils import *\n",
    "\n",
    "import copy\n",
    "import typing\n",
    "import warnings\n",
    "\n",
    "import chaospy\n",
    "import fastcore.test\n",
    "import ipywidgets\n",
    "from ipywidgets import interact\n",
    "import matplotlib as mpl\n",
    "import matplotlib.pyplot as plt\n",
    "from nbdev.showdoc import *\n",
    "import nptyping\n",
    "import numpy as np\n",
    "import pandas\n",
    "import scipy\n",
    "import seaborn as sns"
   ]
  },
  {
   "cell_type": "code",
   "execution_count": 70,
   "metadata": {},
   "outputs": [],
   "source": [
    "@multi\n",
    "def build_payoffs(models: dict):\n",
    "    return models.get('payoffs_key')\n",
    "\n",
    "@method(build_payoffs, 'tactical_deception_v1')\n",
    "def build_payoffs(models: dict):\n",
    "    names = ['population_state', \"profile\", \"player\",]\n",
    "    population_state, profile, player = [models[k] for k in names]\n",
    "    names = 'c', 'b', 's', 'd'\n",
    "    c, b, s, d = [models[k] for k in names]\n",
    "    strategy_counts = population_state[\"strategy_counts\"]\n",
    "    assert len(string_to_tuple(profile))==2\n",
    "    assert player in [\"P1\", \"P2\"]\n",
    "    x_td = (strategy_counts.get(\"3\", 0)\n",
    "            / (strategy_counts.get(\"1\", 0)\n",
    "               + strategy_counts.get(\"2\", 0)\n",
    "               + strategy_counts.get(\"3\", 0)))\n",
    "    # 1 is a conditional cooperator (CC)\n",
    "    # 2 is a honest defector (HD)\n",
    "    # 3 is a tactical deceiver (TD)\n",
    "    # Conditional cooperators fail to identify defectors with chance s\n",
    "    # and cooperate with defectors with chance s\n",
    "    # Conditional cooperators fail to identify tactical deceivers with chance q\n",
    "    # and cooperate with tactical deceives with chance q + s - q*s\n",
    "    # q is frequency dependent. The higher density of tactical deceivers in the\n",
    "    # population, x_td, the smaller q is\n",
    "    q = 1 - x_td\n",
    "    \n",
    "    # Assume that b – c > sb > 0, q > 0, s < 1 and c > d > 0,\n",
    "    # This ensures bistability between CC and HD\n",
    "    # CCs do not dominate TDs, and HDs dominate TDs\n",
    "    primitives = {\"1-1\": {\"P1\": b-c, \"P2\": b-c},\n",
    "                  \"1-2\": {\"P1\": -c*s, \"P2\": b*s},\n",
    "                  \"1-3\": {\"P1\": -c*(q + s - q*s),\n",
    "                          \"P2\": b*(q + s - q*s) - d},\n",
    "                  \"2-1\": {\"P1\": b*s, \"P2\": -c*s},\n",
    "                  \"2-2\": {\"P1\": 0, \"P2\": 0},\n",
    "                  \"2-3\": {\"P1\": 0, \"P2\": -d},\n",
    "                  \"3-1\": {\"P1\": b*(q + s - q*s) - d,\n",
    "                          \"P2\": -c*(q + s - q*s)},\n",
    "                  \"3-2\": {\"P1\": -d, \"P2\": 0},\n",
    "                  \"3-3\": {\"P1\": -d, \"P2\": -d},}\n",
    "    payoff = primitives[profile][player]\n",
    "    return payoff\n",
    "\n",
    "def payoffs_tactical_deception_v1(models: dict):\n",
    "    return build_payoffs(assoc(models, \"payoffs_key\", 'tactical_deception_v1'))"
   ]
  },
  {
   "cell_type": "code",
   "execution_count": 71,
   "metadata": {},
   "outputs": [],
   "source": [
    "Z = {\"S1\": 50}\n",
    "β = 1\n",
    "sector_strategies = {\"S1\": [1, 2, 3],}\n",
    "allowed_sectors = {\"P2\": [\"S1\"],\n",
    "                   \"P1\": [\"S1\"], }\n",
    "models_base = {\"payoffs_key\": \"tactical_deception_v1\",\n",
    "               \"payoffs_function\": payoffs_tactical_deception_v1,\n",
    "               \"dispatch-type\": 'multiple-populations',\n",
    "               \"compute_success_rule\": \"functional\",\n",
    "               \"sd-method\": \"quantecon\",\n",
    "               \"β\": β,\n",
    "               \"Z\": Z,\n",
    "               \"allowed_sectors\": allowed_sectors,\n",
    "               \"sector_strategies\": sector_strategies,\n",
    "               }"
   ]
  },
  {
   "cell_type": "code",
   "execution_count": 72,
   "metadata": {},
   "outputs": [],
   "source": [
    "args = {\"b\": np.arange(0, 10, 0.5),\n",
    "        \"c\": np.arange(0, 2, 0.1),\n",
    "        \"s\": [0, 0.01, 0.05],\n",
    "        \"d\": [0, 0.01, 0.05],\n",
    "        \"β\": [1],\n",
    "        }\n",
    "\n",
    "models = {**models_base,\n",
    "          **model_builder(args)}\n",
    "models[\"n_models\"] = models[\"β\"].shape[0]\n",
    "models[\"payoffs\"] = {\"1-1\": {\"P1\": 0 }} # Dummy payoffs we won't use\n",
    "models['β'] = {\"S1\": models['β'],}"
   ]
  },
  {
   "cell_type": "code",
   "execution_count": 73,
   "metadata": {},
   "outputs": [
    {
     "data": {
      "text/plain": [
       "{'b': (3600,), 'c': (3600,), 's': (3600,), 'd': (3600,)}"
      ]
     },
     "execution_count": 73,
     "metadata": {},
     "output_type": "execute_result"
    }
   ],
   "source": [
    "{k:v.shape for k, v in models.items() if isinstance(v, np.ndarray)}"
   ]
  },
  {
   "cell_type": "code",
   "execution_count": 74,
   "metadata": {},
   "outputs": [
    {
     "data": {
      "text/plain": [
       "{'payoffs_key': 'tactical_deception_v1',\n",
       " 'payoffs_function': <function __main__.payoffs_tactical_deception_v1(models: dict)>,\n",
       " 'dispatch-type': 'multiple-populations',\n",
       " 'compute_success_rule': 'functional',\n",
       " 'sd-method': 'quantecon',\n",
       " 'β': {'S1': array([1., 1., 1., ..., 1., 1., 1.])},\n",
       " 'Z': {'S1': 50},\n",
       " 'allowed_sectors': {'P2': ['S1'], 'P1': ['S1']},\n",
       " 'sector_strategies': {'S1': [1, 2, 3]},\n",
       " 'b': array([0. , 0. , 0. , ..., 9.5, 9.5, 9.5]),\n",
       " 'c': array([0. , 0. , 0. , ..., 1.9, 1.9, 1.9]),\n",
       " 's': array([0.  , 0.  , 0.  , ..., 0.05, 0.05, 0.05]),\n",
       " 'd': array([0.  , 0.01, 0.05, ..., 0.  , 0.01, 0.05]),\n",
       " 'n_models': 3600,\n",
       " 'payoffs': {'1-1': {'P1': 0}}}"
      ]
     },
     "execution_count": 74,
     "metadata": {},
     "output_type": "execute_result"
    }
   ],
   "source": [
    "models"
   ]
  },
  {
   "cell_type": "code",
   "execution_count": 75,
   "metadata": {},
   "outputs": [
    {
     "name": "stderr",
     "output_type": "stream",
     "text": [
      "/home/ethos/git/gh-pages-example/gh_pages_example/methods.py:1452: VisibleDeprecationWarning: Creating an ndarray from ragged nested sequences (which is a list-or-tuple of lists-or-tuples-or ndarrays with different lengths or shapes) is deprecated. If you meant to do this, you must specify 'dtype=object' when creating the ndarray.\n",
      "  ΠB.append(np.dot(np.array(payoffsB).T, likelihoodsB))\n"
     ]
    },
    {
     "name": "stderr",
     "output_type": "stream",
     "text": [
      "/home/ethos/git/gh-pages-example/gh_pages_example/methods.py:1442: VisibleDeprecationWarning: Creating an ndarray from ragged nested sequences (which is a list-or-tuple of lists-or-tuples-or ndarrays with different lengths or shapes) is deprecated. If you meant to do this, you must specify 'dtype=object' when creating the ndarray.\n",
      "  ΠA.append(np.dot(np.array(payoffsA).T, likelihoodsA))\n",
      "/home/ethos/git/gh-pages-example/gh_pages_example/methods.py:260: ComplexWarning: Casting complex values to real discards the imaginary part\n",
      "  ergodic = np.array(V.transpose(0, 2, 1)[y], dtype=float)\n",
      "/home/ethos/git/gh-pages-example/gh_pages_example/methods.py:492: RuntimeWarning: Some of the entries in the transition matrix are close to 1 (with a tolerance of 1e-11). This could result in more than one eigenvalue of magnitute 1 (the Markov Chain is degenerate), so please be careful when analysing the results.\n",
      "  warn(\n"
     ]
    }
   ],
   "source": [
    "results = thread_macro(models,\n",
    "                        create_profiles,\n",
    "                        apply_profile_filters,\n",
    "                        build_transition_matrix,\n",
    "                        find_ergodic_distribution,\n",
    "                        calculate_sd_helper,\n",
    "                        )\n",
    "df = thread_macro(results,\n",
    "                  results_to_dataframe_egt,)"
   ]
  },
  {
   "cell_type": "code",
   "execution_count": 76,
   "metadata": {},
   "outputs": [
    {
     "data": {
      "text/html": [
       "<div>\n",
       "<style scoped>\n",
       "    .dataframe tbody tr th:only-of-type {\n",
       "        vertical-align: middle;\n",
       "    }\n",
       "\n",
       "    .dataframe tbody tr th {\n",
       "        vertical-align: top;\n",
       "    }\n",
       "\n",
       "    .dataframe thead th {\n",
       "        text-align: right;\n",
       "    }\n",
       "</style>\n",
       "<table border=\"1\" class=\"dataframe\">\n",
       "  <thead>\n",
       "    <tr style=\"text-align: right;\">\n",
       "      <th></th>\n",
       "      <th>b</th>\n",
       "      <th>c</th>\n",
       "      <th>s</th>\n",
       "      <th>d</th>\n",
       "      <th>1_frequency</th>\n",
       "      <th>2_frequency</th>\n",
       "      <th>3_frequency</th>\n",
       "    </tr>\n",
       "  </thead>\n",
       "  <tbody>\n",
       "    <tr>\n",
       "      <th>0</th>\n",
       "      <td>0.0</td>\n",
       "      <td>0.0</td>\n",
       "      <td>0.00</td>\n",
       "      <td>0.00</td>\n",
       "      <td>0.333333</td>\n",
       "      <td>3.333333e-01</td>\n",
       "      <td>3.333333e-01</td>\n",
       "    </tr>\n",
       "    <tr>\n",
       "      <th>1</th>\n",
       "      <td>0.0</td>\n",
       "      <td>0.0</td>\n",
       "      <td>0.00</td>\n",
       "      <td>0.01</td>\n",
       "      <td>0.332220</td>\n",
       "      <td>3.322204e-01</td>\n",
       "      <td>3.355592e-01</td>\n",
       "    </tr>\n",
       "    <tr>\n",
       "      <th>2</th>\n",
       "      <td>0.0</td>\n",
       "      <td>0.0</td>\n",
       "      <td>0.00</td>\n",
       "      <td>0.05</td>\n",
       "      <td>0.327732</td>\n",
       "      <td>3.277323e-01</td>\n",
       "      <td>3.445355e-01</td>\n",
       "    </tr>\n",
       "    <tr>\n",
       "      <th>3</th>\n",
       "      <td>0.0</td>\n",
       "      <td>0.0</td>\n",
       "      <td>0.01</td>\n",
       "      <td>0.00</td>\n",
       "      <td>0.333333</td>\n",
       "      <td>3.333333e-01</td>\n",
       "      <td>3.333333e-01</td>\n",
       "    </tr>\n",
       "    <tr>\n",
       "      <th>4</th>\n",
       "      <td>0.0</td>\n",
       "      <td>0.0</td>\n",
       "      <td>0.01</td>\n",
       "      <td>0.01</td>\n",
       "      <td>0.332220</td>\n",
       "      <td>3.322204e-01</td>\n",
       "      <td>3.355592e-01</td>\n",
       "    </tr>\n",
       "    <tr>\n",
       "      <th>...</th>\n",
       "      <td>...</td>\n",
       "      <td>...</td>\n",
       "      <td>...</td>\n",
       "      <td>...</td>\n",
       "      <td>...</td>\n",
       "      <td>...</td>\n",
       "      <td>...</td>\n",
       "    </tr>\n",
       "    <tr>\n",
       "      <th>3595</th>\n",
       "      <td>9.5</td>\n",
       "      <td>1.9</td>\n",
       "      <td>0.01</td>\n",
       "      <td>0.01</td>\n",
       "      <td>1.000000</td>\n",
       "      <td>3.296594e-81</td>\n",
       "      <td>1.498552e-82</td>\n",
       "    </tr>\n",
       "    <tr>\n",
       "      <th>3596</th>\n",
       "      <td>9.5</td>\n",
       "      <td>1.9</td>\n",
       "      <td>0.01</td>\n",
       "      <td>0.05</td>\n",
       "      <td>1.000000</td>\n",
       "      <td>3.292152e-81</td>\n",
       "      <td>1.529114e-82</td>\n",
       "    </tr>\n",
       "    <tr>\n",
       "      <th>3597</th>\n",
       "      <td>9.5</td>\n",
       "      <td>1.9</td>\n",
       "      <td>0.05</td>\n",
       "      <td>0.00</td>\n",
       "      <td>1.000000</td>\n",
       "      <td>3.783886e-86</td>\n",
       "      <td>1.298902e-87</td>\n",
       "    </tr>\n",
       "    <tr>\n",
       "      <th>3598</th>\n",
       "      <td>9.5</td>\n",
       "      <td>1.9</td>\n",
       "      <td>0.05</td>\n",
       "      <td>0.01</td>\n",
       "      <td>1.000000</td>\n",
       "      <td>3.783089e-86</td>\n",
       "      <td>1.305517e-87</td>\n",
       "    </tr>\n",
       "    <tr>\n",
       "      <th>3599</th>\n",
       "      <td>9.5</td>\n",
       "      <td>1.9</td>\n",
       "      <td>0.05</td>\n",
       "      <td>0.05</td>\n",
       "      <td>1.000000</td>\n",
       "      <td>3.779876e-86</td>\n",
       "      <td>1.332187e-87</td>\n",
       "    </tr>\n",
       "  </tbody>\n",
       "</table>\n",
       "<p>3600 rows × 7 columns</p>\n",
       "</div>"
      ],
      "text/plain": [
       "        b    c     s     d  1_frequency   2_frequency   3_frequency\n",
       "0     0.0  0.0  0.00  0.00     0.333333  3.333333e-01  3.333333e-01\n",
       "1     0.0  0.0  0.00  0.01     0.332220  3.322204e-01  3.355592e-01\n",
       "2     0.0  0.0  0.00  0.05     0.327732  3.277323e-01  3.445355e-01\n",
       "3     0.0  0.0  0.01  0.00     0.333333  3.333333e-01  3.333333e-01\n",
       "4     0.0  0.0  0.01  0.01     0.332220  3.322204e-01  3.355592e-01\n",
       "...   ...  ...   ...   ...          ...           ...           ...\n",
       "3595  9.5  1.9  0.01  0.01     1.000000  3.296594e-81  1.498552e-82\n",
       "3596  9.5  1.9  0.01  0.05     1.000000  3.292152e-81  1.529114e-82\n",
       "3597  9.5  1.9  0.05  0.00     1.000000  3.783886e-86  1.298902e-87\n",
       "3598  9.5  1.9  0.05  0.01     1.000000  3.783089e-86  1.305517e-87\n",
       "3599  9.5  1.9  0.05  0.05     1.000000  3.779876e-86  1.332187e-87\n",
       "\n",
       "[3600 rows x 7 columns]"
      ]
     },
     "execution_count": 76,
     "metadata": {},
     "output_type": "execute_result"
    }
   ],
   "source": [
    "df"
   ]
  },
  {
   "cell_type": "code",
   "execution_count": null,
   "metadata": {},
   "outputs": [],
   "source": [
    "df['coop_frequency'] = df[\"1_frequency\"] + df[\"2_frequency\"] + df[\"4_frequency\"] + df[\"7_frequency\"]\n",
    "df_filtered = df[(df[\"err_p\"]==0.01)]\n",
    "table = df_filtered.pivot_table(index='ca', columns='b', values='coop_frequency')\n",
    "plot_heatmap(table, xlabel=\"b\", ylabel=\"ca\", zlabel=\"coop_frequency\")\n",
    "\n",
    "plot_strategy_distribution(df_filtered, strategy_set=[f\"{i}\" for i in range(1,10)], x=\"b\")"
   ]
  },
  {
   "cell_type": "code",
   "execution_count": null,
   "metadata": {},
   "outputs": [],
   "source": []
  }
 ],
 "metadata": {
  "kernelspec": {
   "display_name": "base",
   "language": "python",
   "name": "python3"
  },
  "language_info": {
   "codemirror_mode": {
    "name": "ipython",
    "version": 3
   },
   "file_extension": ".py",
   "mimetype": "text/x-python",
   "name": "python",
   "nbconvert_exporter": "python",
   "pygments_lexer": "ipython3",
   "version": "3.10.8"
  },
  "orig_nbformat": 4
 },
 "nbformat": 4,
 "nbformat_minor": 2
}
