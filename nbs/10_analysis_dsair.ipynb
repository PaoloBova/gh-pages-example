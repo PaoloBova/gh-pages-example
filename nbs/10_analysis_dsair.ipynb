{
 "cells": [
  {
   "cell_type": "markdown",
   "id": "8663e504-288d-4d04-bea2-ec3d8e6aceb6",
   "metadata": {},
   "source": [
    "# Analysis of the DSAIR model\n",
    "\n",
    "> A number of replications and extensions of The Anh et al.'s analysis of their DSAIR model."
   ]
  },
  {
   "cell_type": "code",
   "execution_count": null,
   "id": "e4ca64e1-4ca6-4b66-80d6-2361849047c5",
   "metadata": {},
   "outputs": [],
   "source": [
    "#| default_exp analysis_dsair"
   ]
  },
  {
   "cell_type": "code",
   "execution_count": null,
   "id": "039a6fa5-e85d-468c-a3d0-8f314547c6fd",
   "metadata": {},
   "outputs": [],
   "source": [
    "#| hide\n",
    "#| export\n",
    "from nbdev.showdoc import *\n",
    "from fastcore.test import test_eq\n",
    "from gh_pages_example.utils import *\n",
    "from gh_pages_example.methods import *\n",
    "from gh_pages_example.payoffs import *\n",
    "from gh_pages_example.conditions import *\n",
    "import typing\n",
    "\n",
    "import numpy as np\n",
    "import nptyping"
   ]
  },
  {
   "cell_type": "markdown",
   "id": "7d6ac3f1-dd2d-4685-a3e3-c85baff0dd2b",
   "metadata": {},
   "source": [
    "This notebook contains a number of analyses of different versions of the DSAIR model.\n",
    "\n",
    "Each analysis involves a number of steps:\n",
    "\n",
    "1. Create parameter space\n",
    "2. Run the model\n",
    "3. Process the results\n",
    "4. Visualise the results\n",
    "5. Explain the patterns observed"
   ]
  },
  {
   "cell_type": "markdown",
   "id": "3055f551-02e7-417e-82b7-0efc1f7ed194",
   "metadata": {},
   "source": [
    "## Analysis of the baseline DSAIR model"
   ]
  },
  {
   "cell_type": "markdown",
   "id": "c476f8fe-d8a1-432c-b061-eb2af2c25b58",
   "metadata": {},
   "source": [
    "### Create parameter space"
   ]
  },
  {
   "cell_type": "code",
   "execution_count": null,
   "id": "b5cc21a7-9231-49fd-929e-9c9ebecb96ba",
   "metadata": {},
   "outputs": [],
   "source": [
    "#| export\n",
    "def fig1_data(b=4, c=1, B=10**4, W=100, β=0.01, Z=100, S=['A','B'], gamma=1):\n",
    "    \"\"\"Create parameter grid for the baseline DSAIR model, Figure 1,\n",
    "    The Anh et al. 2020.\"\"\"\n",
    "    namesofvalues=['s','b','c','p','B','W','β','gamma']\n",
    "    matchingvalues = np.array([[s,b,c,p,B,W,β,gamma]\n",
    "                               for s in np.arange(1,5.1,0.1)\n",
    "                               for p in np.arange(0,1.02,0.02)])\n",
    "    models = {k:v[:, None, None]\n",
    "              for k, v in zip(namesofvalues, matchingvalues.T)}\n",
    "    models = {**models,\n",
    "              'Z':Z, # Z should be a scalar\n",
    "              'strategy_set':S # S should be a list of strings\n",
    "             }\n",
    "    return models"
   ]
  },
  {
   "cell_type": "code",
   "execution_count": null,
   "id": "f15003aa-ccf7-42c6-931b-4b1a22fcf463",
   "metadata": {},
   "outputs": [],
   "source": [
    "b=4; c=1; B=10**4; W=100; β=0.1; Z=100; S=[\"AS\", \"AU\"]; gamma=1\n",
    "models = fig1_data(b=b, c=c, B=B, W=W, β=β, Z=Z, S=S, gamma=1)"
   ]
  },
  {
   "cell_type": "markdown",
   "id": "66b11d3e-ec4e-4810-abe7-f2206180348a",
   "metadata": {},
   "source": [
    "### Run the model"
   ]
  },
  {
   "cell_type": "code",
   "execution_count": null,
   "id": "34170d30-e5ae-4bbb-b629-10ceaf86c541",
   "metadata": {},
   "outputs": [],
   "source": [
    "results = thread_macro(models,\n",
    "                       payoffs_sr,\n",
    "                       payoffs_lr,\n",
    "                       threshold_society_prefers_safety_dsair,\n",
    "                       threshold_risk_dominant_safety_dsair,\n",
    "                       # markov_chain\n",
    "                      )"
   ]
  },
  {
   "cell_type": "markdown",
   "id": "40d5ad71-88ea-4a7a-b761-f6046a697fdd",
   "metadata": {},
   "source": [
    "### Process the results"
   ]
  },
  {
   "cell_type": "code",
   "execution_count": null,
   "id": "bb627850-0835-48df-8801-706c5dacab6b",
   "metadata": {},
   "outputs": [],
   "source": [
    "# flat_results = {k:results[k][:,0,0] for k in ['s','b','c','p','B','W','β']}\n",
    "# flat_results['pr'] = np.round(1 - flat_results['p'], 2)\n",
    "# flat_results['s'] = np.round(flat_results['s'], 2)\n",
    "# for i, strategy in enumerate([\"AS\", \"AU\"]):\n",
    "#     flat_results[strategy + \"_frequency\"] = results['ergodic'][:,i]"
   ]
  },
  {
   "cell_type": "code",
   "execution_count": null,
   "id": "8c93bfeb-7ea8-487a-9ead-c9dcb5087976",
   "metadata": {},
   "outputs": [],
   "source": [
    "# df = pandas.DataFrame(flat_results)"
   ]
  },
  {
   "cell_type": "markdown",
   "id": "34e3817d-f2b1-4b1c-a91b-c81c9e6fd7f0",
   "metadata": {},
   "source": [
    "### Visualise the results"
   ]
  },
  {
   "cell_type": "code",
   "execution_count": null,
   "id": "b72e1d45-46e9-4cce-a26f-b6e1cd4ba02b",
   "metadata": {},
   "outputs": [],
   "source": [
    "# fig = go.Figure(data=go.Heatmap(z=df.AU_frequency, x=df.s, y=df.pr,colorscale=px.colors.sequential.Bluered))\n",
    "# fig.update_layout(font_size=20, legend_title=\"AU Frequency\", xaxis_title=\"Development speed, s\", yaxis_title=\"Disaster risk, pr\")\n",
    "# # fig.update_annotations(font_size=20)\n",
    "\n",
    "# s = 1.5\n",
    "# df = df.rename(columns={'AU_frequency':'AU', 'AS_frequency':'AS'})\n",
    "# dfplot = pandas.melt(df[['s', 'pr', 'AU', 'AS']], id_vars=['s', 'pr'], value_vars=['AU', 'AS'])\n",
    "# dfplot = dfplot[dfplot.s==s]\n",
    "# fig = px.area(dfplot, x=\"pr\", y=\"value\", color=\"variable\")\n",
    "# fig.update_layout(font_size=20, legend_title=\"Strategies\", xaxis_title=\"Disaster risk, pr\", yaxis_title=\"Frequencies\")\n",
    "# # fig.update_annotations(font_size=20)"
   ]
  },
  {
   "cell_type": "markdown",
   "id": "b673a3ec-e041-49ec-a938-6871a7d3803d",
   "metadata": {},
   "source": [
    "### Explain the patterns observed"
   ]
  },
  {
   "cell_type": "markdown",
   "id": "97bbd1bc-191b-46c9-9807-a978b195027a",
   "metadata": {},
   "source": []
  }
 ],
 "metadata": {
  "kernelspec": {
   "display_name": "Python 3 (ipykernel)",
   "language": "python",
   "name": "python3"
  }
 },
 "nbformat": 4,
 "nbformat_minor": 5
}
