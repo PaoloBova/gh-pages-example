{
 "cells": [
  {
   "cell_type": "markdown",
   "id": "8663e504-288d-4d04-bea2-ec3d8e6aceb6",
   "metadata": {},
   "source": [
    "# Analysis of the DSAIR model\n",
    "\n",
    "> A number of replications and extensions of The Anh et al.'s analysis of their DSAIR model."
   ]
  },
  {
   "cell_type": "code",
   "execution_count": null,
   "id": "e4ca64e1-4ca6-4b66-80d6-2361849047c5",
   "metadata": {},
   "outputs": [],
   "source": [
    "#| default_exp analysis_dsair"
   ]
  },
  {
   "cell_type": "code",
   "execution_count": null,
   "id": "039a6fa5-e85d-468c-a3d0-8f314547c6fd",
   "metadata": {},
   "outputs": [],
   "source": [
    "#| hide\n",
    "#| export\n",
    "from nbdev.showdoc import *\n",
    "from fastcore.test import test_eq\n",
    "from gh_pages_example.utils import *\n",
    "from gh_pages_example.methods import *\n",
    "from gh_pages_example.payoffs import *\n",
    "from gh_pages_example.conditions import *\n",
    "import typing\n",
    "\n",
    "import numpy as np\n",
    "import nptyping"
   ]
  },
  {
   "cell_type": "markdown",
   "id": "7d6ac3f1-dd2d-4685-a3e3-c85baff0dd2b",
   "metadata": {},
   "source": [
    "This notebook contains a number of analyses of different versions of the DSAIR model.\n",
    "\n",
    "Each analysis involves a number of steps:\n",
    "\n",
    "1. Create parameter space\n",
    "2. Run the model\n",
    "3. Process the results\n",
    "4. Visualise the results\n",
    "5. Explain the patterns observed"
   ]
  },
  {
   "cell_type": "markdown",
   "id": "3055f551-02e7-417e-82b7-0efc1f7ed194",
   "metadata": {},
   "source": [
    "## Analysis of the baseline DSAIR model"
   ]
  },
  {
   "cell_type": "markdown",
   "id": "c476f8fe-d8a1-432c-b061-eb2af2c25b58",
   "metadata": {},
   "source": [
    "### Create parameter space"
   ]
  },
  {
   "cell_type": "code",
   "execution_count": null,
   "id": "b5cc21a7-9231-49fd-929e-9c9ebecb96ba",
   "metadata": {},
   "outputs": [],
   "source": [
    "#| export\n",
    "def fig1_data(b=4, c=1, B=10**4, W=100, β=0.01, Z=100, S=['A','B'], gamma=1):\n",
    "    \"\"\"Create parameter grid for the baseline DSAIR model, Figure 1,\n",
    "    The Anh et al. 2020.\"\"\"\n",
    "    namesofvalues=['s','b','c','p','B','W','β','gamma']\n",
    "    matchingvalues = np.array([[s,b,c,p,B,W,β,gamma]\n",
    "                               for s in np.arange(1,5.1,0.1)\n",
    "                               for p in np.arange(0,1.02,0.02)])\n",
    "    models = {k:v for k, v in zip(namesofvalues, matchingvalues.T)}\n",
    "    models = {**models,\n",
    "              'Z':Z, # Z should be a scalar\n",
    "              'strategy_set':S # S should be a list of strings\n",
    "             }\n",
    "    return models"
   ]
  },
  {
   "cell_type": "code",
   "execution_count": null,
   "id": "f15003aa-ccf7-42c6-931b-4b1a22fcf463",
   "metadata": {},
   "outputs": [],
   "source": [
    "b=4; c=1; B=10**4; W=100; β=0.1; Z=100; S=[\"AS\", \"AU\"]; gamma=1\n",
    "models = fig1_data(b=b, c=c, B=B, W=W, β=β, Z=Z, S=S, gamma=1)"
   ]
  },
  {
   "cell_type": "markdown",
   "id": "66b11d3e-ec4e-4810-abe7-f2206180348a",
   "metadata": {},
   "source": [
    "### Run the model"
   ]
  },
  {
   "cell_type": "code",
   "execution_count": null,
   "id": "2080baa9-cd6d-4fb5-9ed7-2f49cad72980",
   "metadata": {},
   "outputs": [],
   "source": [
    "πAA = np.array([2, 2])\n",
    "πAB = np.array([0, 0])\n",
    "πBA = np.array([3, 3])\n",
    "πBB = np.array([1, 1])\n",
    "πAA = πAA[:, None, None]\n",
    "πAB = πAB[:, None, None]\n",
    "πBA = πBA[:, None, None]\n",
    "πBB = πBB[:, None, None]\n",
    "x = np.block([[πAA, πAB],\n",
    "              [πBA, πBB]])"
   ]
  },
  {
   "cell_type": "code",
   "execution_count": null,
   "id": "8d4babfa-b4d1-4167-bfa6-ce2b62a6eaa5",
   "metadata": {},
   "outputs": [
    {
     "data": {
      "text/plain": [
       "(2, 2, 2)"
      ]
     },
     "execution_count": null,
     "metadata": {},
     "output_type": "execute_result"
    }
   ],
   "source": [
    "x.shape"
   ]
  },
  {
   "cell_type": "code",
   "execution_count": null,
   "id": "780fd482-49f7-4580-8090-0d01805d5b58",
   "metadata": {},
   "outputs": [
    {
     "data": {
      "text/plain": [
       "{'s': array([1., 1., 1., ..., 5., 5., 5.]),\n",
       " 'b': array([4., 4., 4., ..., 4., 4., 4.]),\n",
       " 'c': array([1., 1., 1., ..., 1., 1., 1.]),\n",
       " 'p': array([0.  , 0.02, 0.04, ..., 0.96, 0.98, 1.  ]),\n",
       " 'B': array([10000., 10000., 10000., ..., 10000., 10000., 10000.]),\n",
       " 'W': array([100., 100., 100., ..., 100., 100., 100.]),\n",
       " 'β': array([0.1, 0.1, 0.1, ..., 0.1, 0.1, 0.1]),\n",
       " 'gamma': array([1., 1., 1., ..., 1., 1., 1.]),\n",
       " 'Z': 100,\n",
       " 'strategy_set': ['AS', 'AU']}"
      ]
     },
     "execution_count": null,
     "metadata": {},
     "output_type": "execute_result"
    }
   ],
   "source": [
    "models"
   ]
  },
  {
   "cell_type": "code",
   "execution_count": null,
   "id": "28b9a66c-d022-4203-827e-3e2fb8baf2f9",
   "metadata": {},
   "outputs": [
    {
     "data": {
      "text/plain": [
       "(2091, 2, 2)"
      ]
     },
     "execution_count": null,
     "metadata": {},
     "output_type": "execute_result"
    }
   ],
   "source": [
    "payoffs_sr(models)['payoffs_sr'].shape"
   ]
  },
  {
   "cell_type": "code",
   "execution_count": null,
   "id": "8d293b93-a2e1-47fe-a015-93110ca9850b",
   "metadata": {},
   "outputs": [],
   "source": []
  },
  {
   "cell_type": "code",
   "execution_count": null,
   "id": "9f35f952-2bdb-4457-b283-7854e6c72178",
   "metadata": {},
   "outputs": [
    {
     "data": {
      "text/plain": [
       "<function gh_pages_example.payoffs.payoffs_sr(models)>"
      ]
     },
     "execution_count": null,
     "metadata": {},
     "output_type": "execute_result"
    }
   ],
   "source": []
  },
  {
   "cell_type": "code",
   "execution_count": null,
   "id": "34170d30-e5ae-4bbb-b629-10ceaf86c541",
   "metadata": {},
   "outputs": [
    {
     "ename": "ValueError",
     "evalue": "Mismatched array shapes in block along axis 1.",
     "output_type": "error",
     "traceback": [
      "\u001b[0;31m---------------------------------------------------------------------------\u001b[0m",
      "\u001b[0;31mValueError\u001b[0m                                Traceback (most recent call last)",
      "Cell \u001b[0;32mIn [10], line 1\u001b[0m\n\u001b[0;32m----> 1\u001b[0m results \u001b[38;5;241m=\u001b[39m \u001b[43mthread_macro\u001b[49m\u001b[43m(\u001b[49m\u001b[43mmodels\u001b[49m\u001b[43m,\u001b[49m\n\u001b[1;32m      2\u001b[0m \u001b[43m                       \u001b[49m\u001b[43mpayoffs_sr\u001b[49m\u001b[43m,\u001b[49m\n\u001b[1;32m      3\u001b[0m \u001b[43m                       \u001b[49m\u001b[43mpayoffs_lr\u001b[49m\u001b[43m,\u001b[49m\n\u001b[1;32m      4\u001b[0m \u001b[43m                       \u001b[49m\u001b[38;5;66;43;03m# threshold_society_prefers_safety_dsair,\u001b[39;49;00m\n\u001b[1;32m      5\u001b[0m \u001b[43m                       \u001b[49m\u001b[38;5;66;43;03m# threshold_risk_dominant_safety_dsair,\u001b[39;49;00m\n\u001b[1;32m      6\u001b[0m \u001b[43m                       \u001b[49m\u001b[38;5;66;43;03m# markov_chain\u001b[39;49;00m\n\u001b[1;32m      7\u001b[0m \u001b[43m                      \u001b[49m\u001b[43m)\u001b[49m\n",
      "File \u001b[0;32m/mnt/d/coding/git/gh-pages-example/gh_pages_example/utils.py:35\u001b[0m, in \u001b[0;36mthread_macro\u001b[0;34m(current_value, identifier, *funcs)\u001b[0m\n\u001b[1;32m     33\u001b[0m         current_value \u001b[38;5;241m=\u001b[39m func(\u001b[38;5;241m*\u001b[39margs1, current_value, \u001b[38;5;241m*\u001b[39margs2)\n\u001b[1;32m     34\u001b[0m     \u001b[38;5;28;01melse\u001b[39;00m:\n\u001b[0;32m---> 35\u001b[0m         current_value \u001b[38;5;241m=\u001b[39m \u001b[43mfunc\u001b[49m\u001b[43m(\u001b[49m\u001b[43mcurrent_value\u001b[49m\u001b[43m)\u001b[49m\n\u001b[1;32m     36\u001b[0m \u001b[38;5;28;01mreturn\u001b[39;00m current_value\n",
      "File \u001b[0;32m/mnt/d/coding/git/gh-pages-example/gh_pages_example/payoffs.py:80\u001b[0m, in \u001b[0;36mpayoffs_lr\u001b[0;34m(model)\u001b[0m\n\u001b[1;32m     78\u001b[0m πBA \u001b[38;5;241m=\u001b[39m p\u001b[38;5;241m*\u001b[39m(s\u001b[38;5;241m*\u001b[39mB\u001b[38;5;241m/\u001b[39mW \u001b[38;5;241m+\u001b[39m πBA)\n\u001b[1;32m     79\u001b[0m πBB \u001b[38;5;241m=\u001b[39m p\u001b[38;5;241m*\u001b[39m(s\u001b[38;5;241m*\u001b[39mB\u001b[38;5;241m/\u001b[39m(\u001b[38;5;241m2\u001b[39m\u001b[38;5;241m*\u001b[39mW) \u001b[38;5;241m+\u001b[39m πBB)\n\u001b[0;32m---> 80\u001b[0m payoffs \u001b[38;5;241m=\u001b[39m \u001b[43mnp\u001b[49m\u001b[38;5;241;43m.\u001b[39;49m\u001b[43mblock\u001b[49m\u001b[43m(\u001b[49m\u001b[43m[\u001b[49m\u001b[43m[\u001b[49m\u001b[43mπAA\u001b[49m\u001b[43m,\u001b[49m\u001b[43m \u001b[49m\u001b[43mπAB\u001b[49m\u001b[43m]\u001b[49m\u001b[43m,\u001b[49m\n\u001b[1;32m     81\u001b[0m \u001b[43m                    \u001b[49m\u001b[43m[\u001b[49m\u001b[43mπBA\u001b[49m\u001b[43m,\u001b[49m\u001b[43m \u001b[49m\u001b[43mπBB\u001b[49m\u001b[43m]\u001b[49m\u001b[43m]\u001b[49m\u001b[43m)\u001b[49m\n\u001b[1;32m     82\u001b[0m \u001b[38;5;28;01mreturn\u001b[39;00m {\u001b[38;5;241m*\u001b[39m\u001b[38;5;241m*\u001b[39mmodel, \u001b[38;5;124m'\u001b[39m\u001b[38;5;124mpayoffs\u001b[39m\u001b[38;5;124m'\u001b[39m: payoffs}\n",
      "File \u001b[0;32m<__array_function__ internals>:180\u001b[0m, in \u001b[0;36mblock\u001b[0;34m(*args, **kwargs)\u001b[0m\n",
      "File \u001b[0;32m~/mambaforge/lib/python3.10/site-packages/numpy/core/shape_base.py:845\u001b[0m, in \u001b[0;36mblock\u001b[0;34m(arrays)\u001b[0m\n\u001b[1;32m    830\u001b[0m \u001b[38;5;66;03m# It was found through benchmarking that making an array of final size\u001b[39;00m\n\u001b[1;32m    831\u001b[0m \u001b[38;5;66;03m# around 256x256 was faster by straight concatenation on a\u001b[39;00m\n\u001b[1;32m    832\u001b[0m \u001b[38;5;66;03m# i7-7700HQ processor and dual channel ram 2400MHz.\u001b[39;00m\n\u001b[0;32m   (...)\u001b[0m\n\u001b[1;32m    842\u001b[0m \u001b[38;5;66;03m# algorithm is implemented which would likely be faster than the python\u001b[39;00m\n\u001b[1;32m    843\u001b[0m \u001b[38;5;66;03m# version.\u001b[39;00m\n\u001b[1;32m    844\u001b[0m \u001b[38;5;28;01mif\u001b[39;00m list_ndim \u001b[38;5;241m*\u001b[39m final_size \u001b[38;5;241m>\u001b[39m (\u001b[38;5;241m2\u001b[39m \u001b[38;5;241m*\u001b[39m \u001b[38;5;241m512\u001b[39m \u001b[38;5;241m*\u001b[39m \u001b[38;5;241m512\u001b[39m):\n\u001b[0;32m--> 845\u001b[0m     \u001b[38;5;28;01mreturn\u001b[39;00m \u001b[43m_block_slicing\u001b[49m\u001b[43m(\u001b[49m\u001b[43marrays\u001b[49m\u001b[43m,\u001b[49m\u001b[43m \u001b[49m\u001b[43mlist_ndim\u001b[49m\u001b[43m,\u001b[49m\u001b[43m \u001b[49m\u001b[43mresult_ndim\u001b[49m\u001b[43m)\u001b[49m\n\u001b[1;32m    846\u001b[0m \u001b[38;5;28;01melse\u001b[39;00m:\n\u001b[1;32m    847\u001b[0m     \u001b[38;5;28;01mreturn\u001b[39;00m _block_concatenate(arrays, list_ndim, result_ndim)\n",
      "File \u001b[0;32m~/mambaforge/lib/python3.10/site-packages/numpy/core/shape_base.py:872\u001b[0m, in \u001b[0;36m_block_slicing\u001b[0;34m(arrays, list_ndim, result_ndim)\u001b[0m\n\u001b[1;32m    871\u001b[0m \u001b[38;5;28;01mdef\u001b[39;00m \u001b[38;5;21m_block_slicing\u001b[39m(arrays, list_ndim, result_ndim):\n\u001b[0;32m--> 872\u001b[0m     shape, slices, arrays \u001b[38;5;241m=\u001b[39m \u001b[43m_block_info_recursion\u001b[49m\u001b[43m(\u001b[49m\n\u001b[1;32m    873\u001b[0m \u001b[43m        \u001b[49m\u001b[43marrays\u001b[49m\u001b[43m,\u001b[49m\u001b[43m \u001b[49m\u001b[43mlist_ndim\u001b[49m\u001b[43m,\u001b[49m\u001b[43m \u001b[49m\u001b[43mresult_ndim\u001b[49m\u001b[43m)\u001b[49m\n\u001b[1;32m    874\u001b[0m     dtype \u001b[38;5;241m=\u001b[39m _nx\u001b[38;5;241m.\u001b[39mresult_type(\u001b[38;5;241m*\u001b[39m[arr\u001b[38;5;241m.\u001b[39mdtype \u001b[38;5;28;01mfor\u001b[39;00m arr \u001b[38;5;129;01min\u001b[39;00m arrays])\n\u001b[1;32m    876\u001b[0m     \u001b[38;5;66;03m# Test preferring F only in the case that all input arrays are F\u001b[39;00m\n",
      "File \u001b[0;32m~/mambaforge/lib/python3.10/site-packages/numpy/core/shape_base.py:628\u001b[0m, in \u001b[0;36m_block_info_recursion\u001b[0;34m(arrays, max_depth, result_ndim, depth)\u001b[0m\n\u001b[1;32m    623\u001b[0m shapes, slices, arrays \u001b[38;5;241m=\u001b[39m \u001b[38;5;28mzip\u001b[39m(\n\u001b[1;32m    624\u001b[0m     \u001b[38;5;241m*\u001b[39m[_block_info_recursion(arr, max_depth, result_ndim, depth\u001b[38;5;241m+\u001b[39m\u001b[38;5;241m1\u001b[39m)\n\u001b[1;32m    625\u001b[0m       \u001b[38;5;28;01mfor\u001b[39;00m arr \u001b[38;5;129;01min\u001b[39;00m arrays])\n\u001b[1;32m    627\u001b[0m axis \u001b[38;5;241m=\u001b[39m result_ndim \u001b[38;5;241m-\u001b[39m max_depth \u001b[38;5;241m+\u001b[39m depth\n\u001b[0;32m--> 628\u001b[0m shape, slice_prefixes \u001b[38;5;241m=\u001b[39m \u001b[43m_concatenate_shapes\u001b[49m\u001b[43m(\u001b[49m\u001b[43mshapes\u001b[49m\u001b[43m,\u001b[49m\u001b[43m \u001b[49m\u001b[43maxis\u001b[49m\u001b[43m)\u001b[49m\n\u001b[1;32m    630\u001b[0m \u001b[38;5;66;03m# Prepend the slice prefix and flatten the slices\u001b[39;00m\n\u001b[1;32m    631\u001b[0m slices \u001b[38;5;241m=\u001b[39m [slice_prefix \u001b[38;5;241m+\u001b[39m the_slice\n\u001b[1;32m    632\u001b[0m           \u001b[38;5;28;01mfor\u001b[39;00m slice_prefix, inner_slices \u001b[38;5;129;01min\u001b[39;00m \u001b[38;5;28mzip\u001b[39m(slice_prefixes, slices)\n\u001b[1;32m    633\u001b[0m           \u001b[38;5;28;01mfor\u001b[39;00m the_slice \u001b[38;5;129;01min\u001b[39;00m inner_slices]\n",
      "File \u001b[0;32m~/mambaforge/lib/python3.10/site-packages/numpy/core/shape_base.py:583\u001b[0m, in \u001b[0;36m_concatenate_shapes\u001b[0;34m(shapes, axis)\u001b[0m\n\u001b[1;32m    579\u001b[0m first_shape_post \u001b[38;5;241m=\u001b[39m first_shape[axis\u001b[38;5;241m+\u001b[39m\u001b[38;5;241m1\u001b[39m:]\n\u001b[1;32m    581\u001b[0m \u001b[38;5;28;01mif\u001b[39;00m \u001b[38;5;28many\u001b[39m(shape[:axis] \u001b[38;5;241m!=\u001b[39m first_shape_pre \u001b[38;5;129;01mor\u001b[39;00m\n\u001b[1;32m    582\u001b[0m        shape[axis\u001b[38;5;241m+\u001b[39m\u001b[38;5;241m1\u001b[39m:] \u001b[38;5;241m!=\u001b[39m first_shape_post \u001b[38;5;28;01mfor\u001b[39;00m shape \u001b[38;5;129;01min\u001b[39;00m shapes):\n\u001b[0;32m--> 583\u001b[0m     \u001b[38;5;28;01mraise\u001b[39;00m \u001b[38;5;167;01mValueError\u001b[39;00m(\n\u001b[1;32m    584\u001b[0m         \u001b[38;5;124m'\u001b[39m\u001b[38;5;124mMismatched array shapes in block along axis \u001b[39m\u001b[38;5;132;01m{}\u001b[39;00m\u001b[38;5;124m.\u001b[39m\u001b[38;5;124m'\u001b[39m\u001b[38;5;241m.\u001b[39mformat(axis))\n\u001b[1;32m    586\u001b[0m shape \u001b[38;5;241m=\u001b[39m (first_shape_pre \u001b[38;5;241m+\u001b[39m (\u001b[38;5;28msum\u001b[39m(shape_at_axis),) \u001b[38;5;241m+\u001b[39m first_shape[axis\u001b[38;5;241m+\u001b[39m\u001b[38;5;241m1\u001b[39m:])\n\u001b[1;32m    588\u001b[0m offsets_at_axis \u001b[38;5;241m=\u001b[39m _accumulate(shape_at_axis)\n",
      "\u001b[0;31mValueError\u001b[0m: Mismatched array shapes in block along axis 1."
     ]
    }
   ],
   "source": [
    "results = thread_macro(models,\n",
    "                       payoffs_sr,\n",
    "                       payoffs_lr,\n",
    "                       # threshold_society_prefers_safety_dsair,\n",
    "                       # threshold_risk_dominant_safety_dsair,\n",
    "                       # markov_chain\n",
    "                      )"
   ]
  },
  {
   "cell_type": "markdown",
   "id": "40d5ad71-88ea-4a7a-b761-f6046a697fdd",
   "metadata": {},
   "source": [
    "### Process the results"
   ]
  },
  {
   "cell_type": "code",
   "execution_count": null,
   "id": "bb627850-0835-48df-8801-706c5dacab6b",
   "metadata": {},
   "outputs": [],
   "source": [
    "# flat_results = {k:results[k][:,0,0] for k in ['s','b','c','p','B','W','β']}\n",
    "# flat_results['pr'] = np.round(1 - flat_results['p'], 2)\n",
    "# flat_results['s'] = np.round(flat_results['s'], 2)\n",
    "# for i, strategy in enumerate([\"AS\", \"AU\"]):\n",
    "#     flat_results[strategy + \"_frequency\"] = results['ergodic'][:,i]"
   ]
  },
  {
   "cell_type": "code",
   "execution_count": null,
   "id": "8c93bfeb-7ea8-487a-9ead-c9dcb5087976",
   "metadata": {},
   "outputs": [],
   "source": [
    "# df = pandas.DataFrame(flat_results)"
   ]
  },
  {
   "cell_type": "markdown",
   "id": "34e3817d-f2b1-4b1c-a91b-c81c9e6fd7f0",
   "metadata": {},
   "source": [
    "### Visualise the results"
   ]
  },
  {
   "cell_type": "code",
   "execution_count": null,
   "id": "b72e1d45-46e9-4cce-a26f-b6e1cd4ba02b",
   "metadata": {},
   "outputs": [],
   "source": [
    "# fig = go.Figure(data=go.Heatmap(z=df.AU_frequency, x=df.s, y=df.pr,colorscale=px.colors.sequential.Bluered))\n",
    "# fig.update_layout(font_size=20, legend_title=\"AU Frequency\", xaxis_title=\"Development speed, s\", yaxis_title=\"Disaster risk, pr\")\n",
    "# # fig.update_annotations(font_size=20)\n",
    "\n",
    "# s = 1.5\n",
    "# df = df.rename(columns={'AU_frequency':'AU', 'AS_frequency':'AS'})\n",
    "# dfplot = pandas.melt(df[['s', 'pr', 'AU', 'AS']], id_vars=['s', 'pr'], value_vars=['AU', 'AS'])\n",
    "# dfplot = dfplot[dfplot.s==s]\n",
    "# fig = px.area(dfplot, x=\"pr\", y=\"value\", color=\"variable\")\n",
    "# fig.update_layout(font_size=20, legend_title=\"Strategies\", xaxis_title=\"Disaster risk, pr\", yaxis_title=\"Frequencies\")\n",
    "# # fig.update_annotations(font_size=20)"
   ]
  },
  {
   "cell_type": "markdown",
   "id": "b673a3ec-e041-49ec-a938-6871a7d3803d",
   "metadata": {},
   "source": [
    "### Explain the patterns observed"
   ]
  },
  {
   "cell_type": "markdown",
   "id": "17a55edf-d4cc-4f89-90ac-35c6af087d5a",
   "metadata": {},
   "source": [
    "# Notebook Footer"
   ]
  },
  {
   "cell_type": "code",
   "execution_count": null,
   "id": "2c50b416-290c-4b5a-ab60-4a84f50f24c9",
   "metadata": {},
   "outputs": [
    {
     "name": "stderr",
     "output_type": "stream",
     "text": [
      "/home/paololaptop/mambaforge/lib/python3.10/site-packages/nbdev/export.py:54: UserWarning: Notebook '/mnt/d/coding/git/gh-pages-example/nbs/types.ipynb' uses `#|export` without `#|default_exp` cell.\n",
      "Note nbdev2 no longer supports nbdev1 syntax. Run `nbdev_migrate` to upgrade.\n",
      "See https://nbdev.fast.ai/getting_started.html for more information.\n",
      "  warn(f\"Notebook '{nbname}' uses `#|export` without `#|default_exp` cell.\\n\"\n"
     ]
    }
   ],
   "source": [
    "#| hide\n",
    "import nbdev; nbdev.nbdev_export()"
   ]
  },
  {
   "cell_type": "code",
   "execution_count": null,
   "id": "fa38ed81-f948-40c2-973f-b60e207473ca",
   "metadata": {},
   "outputs": [],
   "source": []
  }
 ],
 "metadata": {
  "kernelspec": {
   "display_name": "Python 3 (ipykernel)",
   "language": "python",
   "name": "python3"
  }
 },
 "nbformat": 4,
 "nbformat_minor": 5
}
