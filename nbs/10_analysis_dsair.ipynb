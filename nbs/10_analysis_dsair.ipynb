{
 "cells": [
  {
   "cell_type": "markdown",
   "id": "8663e504-288d-4d04-bea2-ec3d8e6aceb6",
   "metadata": {},
   "source": [
    "# Analysis of the DSAIR model\n",
    "\n",
    "> A number of replications and extensions of the models provided in Han et al. ([2020](https://doi.org/10.1613/jair.1.12225) , [2021](https://doi.org/10.1371/journal.pone.0244592), [2022](https://doi.org/10.1016/j.techsoc.2021.101843) )"
   ]
  },
  {
   "cell_type": "code",
   "execution_count": null,
   "id": "e4ca64e1-4ca6-4b66-80d6-2361849047c5",
   "metadata": {},
   "outputs": [],
   "source": [
    "#| default_exp analysis_dsair"
   ]
  },
  {
   "cell_type": "code",
   "execution_count": null,
   "id": "039a6fa5-e85d-468c-a3d0-8f314547c6fd",
   "metadata": {},
   "outputs": [],
   "source": [
    "#| hide\n",
    "#| export\n",
    "from gh_pages_example.conditions import *\n",
    "from gh_pages_example.methods import *\n",
    "from gh_pages_example.payoffs import *\n",
    "from gh_pages_example.types import *\n",
    "from gh_pages_example.utils import *\n",
    "\n",
    "import typing\n",
    "\n",
    "import fastcore.test\n",
    "import matplotlib as mpl\n",
    "import matplotlib.pyplot as plt\n",
    "from nbdev.showdoc import *\n",
    "import nptyping\n",
    "import numpy as np\n",
    "import pandas\n",
    "import seaborn as sns "
   ]
  },
  {
   "cell_type": "markdown",
   "id": "7d6ac3f1-dd2d-4685-a3e3-c85baff0dd2b",
   "metadata": {},
   "source": [
    "This notebook contains a number of analyses of different versions of the DSAIR model.\n",
    "\n",
    "Each analysis involves a number of steps:\n",
    "\n",
    "1. Create parameter space\n",
    "2. Run the model\n",
    "3. Process the results\n",
    "4. Visualise results and explain what we observe"
   ]
  },
  {
   "cell_type": "markdown",
   "id": "3055f551-02e7-417e-82b7-0efc1f7ed194",
   "metadata": {},
   "source": [
    "## Baseline DSAIR model"
   ]
  },
  {
   "cell_type": "markdown",
   "id": "c476f8fe-d8a1-432c-b061-eb2af2c25b58",
   "metadata": {},
   "source": [
    "### Create parameter space"
   ]
  },
  {
   "cell_type": "code",
   "execution_count": null,
   "id": "02c6a971-a734-4a0c-a2c3-259fc7ecdc7b",
   "metadata": {},
   "outputs": [],
   "source": [
    "#| hide\n",
    "valid_dtypes = float|list[float]|np.ndarray|dict"
   ]
  },
  {
   "cell_type": "code",
   "execution_count": null,
   "id": "b5cc21a7-9231-49fd-929e-9c9ebecb96ba",
   "metadata": {},
   "outputs": [],
   "source": [
    "#| export\n",
    "def build_DSAIR(b:valid_dtypes=4, # benefit: The size of the per round benefit of leading the AI development race, b>0\n",
    "                c:valid_dtypes=1, # cost: The cost of implementing safety recommendations per round, c>0\n",
    "                s:valid_dtypes={\"start\":1, # speed: The speed advantage from choosing to ignore safety recommendations, s>1\n",
    "                                \"stop\":5.1,\n",
    "                                \"step\":0.1}, \n",
    "                p:valid_dtypes={\"start\":0, # avoid_risk: The probability that unsafe firms avoid an AI disaster, p ∈ [0, 1]\n",
    "                                \"stop\":1.02,\n",
    "                                \"step\":0.02}, \n",
    "                B:valid_dtypes=10**4, # prize: The size of the prize from winning the AI development race, B>>b\n",
    "                W:valid_dtypes=100, # timeline: The anticipated timeline until the development race has a winner if everyone behaves safely, W ∈ [10, 10**6]\n",
    "                pfo:valid_dtypes=0, # detection risk: The probability that firms who ignore safety precautions are found out, pfo ∈ [0, 1]\n",
    "                α:valid_dtypes=0, # the cost of rewarding/punishing a peer\n",
    "                γ:valid_dtypes=0, # the effect of a reward/punishment on a developer's speed\n",
    "                ϵ:valid_dtypes=0, # commitment_cost: The cost of setting up and maintaining a voluntary commitment, ϵ > 0\n",
    "                ω:valid_dtypes=0, # noise: Noise in arranging an agreement, with some probability they fail to succeed in making an agreement, ω ∈ [0, 1]\n",
    "                collective:valid_dtypes=1, # collective_risk: the likelihood that a disaster affects all actors\n",
    "                β:valid_dtypes=0.01, # learning_rate: the rate at which players imitate each other\n",
    "                Z:int=100, # population_size: the number of players in the evolutionary game\n",
    "                strategy_set:list[str]=[\"AS\", \"AU\"], # the set of available strategies\n",
    "                exclude_args:list[str]=['Z', 'strategy_set'], # a list of arguments that should be returned as they are\n",
    "                override:bool=False, # whether to build the grid if it is very large\n",
    "                drop_args:list[str]=['override', 'exclude_args', 'drop_args'], # a list of arguments to drop from the final result\n",
    "               ) -> dict: # A dictionary containing items from `ModelTypeDSAIR` and `ModelTypeEGT`\n",
    "    \"\"\"Initialise baseline DSAIR models for all combinations of the provided\n",
    "    parameter valules. By default, we create models for replicating Figure 1\n",
    "    of Han et al. 2021.\"\"\"\n",
    "    \n",
    "    saved_args = locals()\n",
    "    models = model_builder(saved_args,\n",
    "                           exclude_args=exclude_args,\n",
    "                           override=override,\n",
    "                           drop_args=drop_args)\n",
    "    return models"
   ]
  },
  {
   "cell_type": "code",
   "execution_count": null,
   "id": "4aa5cfd7-2b4b-4a33-ba50-64a180df568d",
   "metadata": {},
   "outputs": [
    {
     "data": {
      "text/markdown": [
       "---\n",
       "\n",
       "### build_DSAIR\n",
       "\n",
       ">      build_DSAIR (b:float|list[float]|numpy.ndarray|dict=4,\n",
       ">                   c:float|list[float]|numpy.ndarray|dict=1,\n",
       ">                   s:float|list[float]|numpy.ndarray|dict={'start': 1, 'stop':\n",
       ">                   5.1, 'step': 0.1},\n",
       ">                   p:float|list[float]|numpy.ndarray|dict={'start': 0, 'stop':\n",
       ">                   1.02, 'step': 0.02},\n",
       ">                   B:float|list[float]|numpy.ndarray|dict=10000,\n",
       ">                   W:float|list[float]|numpy.ndarray|dict=100,\n",
       ">                   pfo:float|list[float]|numpy.ndarray|dict=0,\n",
       ">                   α:float|list[float]|numpy.ndarray|dict=0,\n",
       ">                   γ:float|list[float]|numpy.ndarray|dict=0,\n",
       ">                   ε:float|list[float]|numpy.ndarray|dict=0,\n",
       ">                   ω:float|list[float]|numpy.ndarray|dict=0,\n",
       ">                   collective:float|list[float]|numpy.ndarray|dict=1,\n",
       ">                   β:float|list[float]|numpy.ndarray|dict=0.01, Z:int=100,\n",
       ">                   strategy_set:list[str]=['AS', 'AU'],\n",
       ">                   exclude_args:list[str]=['Z', 'strategy_set'],\n",
       ">                   override:bool=False, drop_args:list[str]=['override',\n",
       ">                   'exclude_args', 'drop_args'])\n",
       "\n",
       "Initialise baseline DSAIR models for all combinations of the provided\n",
       "parameter valules. By default, we create models for replicating Figure 1\n",
       "of Han et al. 2021.\n",
       "\n",
       "|    | **Type** | **Default** | **Details** |\n",
       "| -- | -------- | ----------- | ----------- |\n",
       "| b | float \\| list[float] \\| numpy.ndarray \\| dict | 4 | benefit: The size of the per round benefit of leading the AI development race, b>0 |\n",
       "| c | float \\| list[float] \\| numpy.ndarray \\| dict | 1 | cost: The cost of implementing safety recommendations per round, c>0 |\n",
       "| s | float \\| list[float] \\| numpy.ndarray \\| dict | {'start': 1, 'stop': 5.1, 'step': 0.1} | speed: The speed advantage from choosing to ignore safety recommendations, s>1 |\n",
       "| p | float \\| list[float] \\| numpy.ndarray \\| dict | {'start': 0, 'stop': 1.02, 'step': 0.02} | avoid_risk: The probability that unsafe firms avoid an AI disaster, p ∈ [0, 1] |\n",
       "| B | float \\| list[float] \\| numpy.ndarray \\| dict | 10000 | prize: The size of the prize from winning the AI development race, B>>b |\n",
       "| W | float \\| list[float] \\| numpy.ndarray \\| dict | 100 | timeline: The anticipated timeline until the development race has a winner if everyone behaves safely, W ∈ [10, 10**6] |\n",
       "| pfo | float \\| list[float] \\| numpy.ndarray \\| dict | 0 | detection risk: The probability that firms who ignore safety precautions are found out, pfo ∈ [0, 1] |\n",
       "| α | float \\| list[float] \\| numpy.ndarray \\| dict | 0 | the cost of rewarding/punishing a peer |\n",
       "| γ | float \\| list[float] \\| numpy.ndarray \\| dict | 0 | the effect of a reward/punishment on a developer's speed |\n",
       "| ε | float \\| list[float] \\| numpy.ndarray \\| dict | 0 | commitment_cost: The cost of setting up and maintaining a voluntary commitment, ϵ > 0 |\n",
       "| ω | float \\| list[float] \\| numpy.ndarray \\| dict | 0 | noise: Noise in arranging an agreement, with some probability they fail to succeed in making an agreement, ω ∈ [0, 1] |\n",
       "| collective | float \\| list[float] \\| numpy.ndarray \\| dict | 1 | collective_risk: the likelihood that a disaster affects all actors |\n",
       "| β | float \\| list[float] \\| numpy.ndarray \\| dict | 0.01 | learning_rate: the rate at which players imitate each other |\n",
       "| Z | int | 100 | population_size: the number of players in the evolutionary game |\n",
       "| strategy_set | list | ['AS', 'AU'] | the set of available strategies |\n",
       "| exclude_args | list | ['Z', 'strategy_set'] | a list of arguments that should be returned as they are |\n",
       "| override | bool | False | whether to build the grid if it is very large |\n",
       "| drop_args | list | ['override', 'exclude_args', 'drop_args'] | a list of arguments to drop from the final result |\n",
       "| **Returns** | **dict** |  | **A dictionary containing items from `ModelTypeDSAIR` and `ModelTypeEGT`** |"
      ],
      "text/plain": [
       "---\n",
       "\n",
       "### build_DSAIR\n",
       "\n",
       ">      build_DSAIR (b:float|list[float]|numpy.ndarray|dict=4,\n",
       ">                   c:float|list[float]|numpy.ndarray|dict=1,\n",
       ">                   s:float|list[float]|numpy.ndarray|dict={'start': 1, 'stop':\n",
       ">                   5.1, 'step': 0.1},\n",
       ">                   p:float|list[float]|numpy.ndarray|dict={'start': 0, 'stop':\n",
       ">                   1.02, 'step': 0.02},\n",
       ">                   B:float|list[float]|numpy.ndarray|dict=10000,\n",
       ">                   W:float|list[float]|numpy.ndarray|dict=100,\n",
       ">                   pfo:float|list[float]|numpy.ndarray|dict=0,\n",
       ">                   α:float|list[float]|numpy.ndarray|dict=0,\n",
       ">                   γ:float|list[float]|numpy.ndarray|dict=0,\n",
       ">                   ε:float|list[float]|numpy.ndarray|dict=0,\n",
       ">                   ω:float|list[float]|numpy.ndarray|dict=0,\n",
       ">                   collective:float|list[float]|numpy.ndarray|dict=1,\n",
       ">                   β:float|list[float]|numpy.ndarray|dict=0.01, Z:int=100,\n",
       ">                   strategy_set:list[str]=['AS', 'AU'],\n",
       ">                   exclude_args:list[str]=['Z', 'strategy_set'],\n",
       ">                   override:bool=False, drop_args:list[str]=['override',\n",
       ">                   'exclude_args', 'drop_args'])\n",
       "\n",
       "Initialise baseline DSAIR models for all combinations of the provided\n",
       "parameter valules. By default, we create models for replicating Figure 1\n",
       "of Han et al. 2021.\n",
       "\n",
       "|    | **Type** | **Default** | **Details** |\n",
       "| -- | -------- | ----------- | ----------- |\n",
       "| b | float \\| list[float] \\| numpy.ndarray \\| dict | 4 | benefit: The size of the per round benefit of leading the AI development race, b>0 |\n",
       "| c | float \\| list[float] \\| numpy.ndarray \\| dict | 1 | cost: The cost of implementing safety recommendations per round, c>0 |\n",
       "| s | float \\| list[float] \\| numpy.ndarray \\| dict | {'start': 1, 'stop': 5.1, 'step': 0.1} | speed: The speed advantage from choosing to ignore safety recommendations, s>1 |\n",
       "| p | float \\| list[float] \\| numpy.ndarray \\| dict | {'start': 0, 'stop': 1.02, 'step': 0.02} | avoid_risk: The probability that unsafe firms avoid an AI disaster, p ∈ [0, 1] |\n",
       "| B | float \\| list[float] \\| numpy.ndarray \\| dict | 10000 | prize: The size of the prize from winning the AI development race, B>>b |\n",
       "| W | float \\| list[float] \\| numpy.ndarray \\| dict | 100 | timeline: The anticipated timeline until the development race has a winner if everyone behaves safely, W ∈ [10, 10**6] |\n",
       "| pfo | float \\| list[float] \\| numpy.ndarray \\| dict | 0 | detection risk: The probability that firms who ignore safety precautions are found out, pfo ∈ [0, 1] |\n",
       "| α | float \\| list[float] \\| numpy.ndarray \\| dict | 0 | the cost of rewarding/punishing a peer |\n",
       "| γ | float \\| list[float] \\| numpy.ndarray \\| dict | 0 | the effect of a reward/punishment on a developer's speed |\n",
       "| ε | float \\| list[float] \\| numpy.ndarray \\| dict | 0 | commitment_cost: The cost of setting up and maintaining a voluntary commitment, ϵ > 0 |\n",
       "| ω | float \\| list[float] \\| numpy.ndarray \\| dict | 0 | noise: Noise in arranging an agreement, with some probability they fail to succeed in making an agreement, ω ∈ [0, 1] |\n",
       "| collective | float \\| list[float] \\| numpy.ndarray \\| dict | 1 | collective_risk: the likelihood that a disaster affects all actors |\n",
       "| β | float \\| list[float] \\| numpy.ndarray \\| dict | 0.01 | learning_rate: the rate at which players imitate each other |\n",
       "| Z | int | 100 | population_size: the number of players in the evolutionary game |\n",
       "| strategy_set | list | ['AS', 'AU'] | the set of available strategies |\n",
       "| exclude_args | list | ['Z', 'strategy_set'] | a list of arguments that should be returned as they are |\n",
       "| override | bool | False | whether to build the grid if it is very large |\n",
       "| drop_args | list | ['override', 'exclude_args', 'drop_args'] | a list of arguments to drop from the final result |\n",
       "| **Returns** | **dict** |  | **A dictionary containing items from `ModelTypeDSAIR` and `ModelTypeEGT`** |"
      ]
     },
     "execution_count": null,
     "metadata": {},
     "output_type": "execute_result"
    }
   ],
   "source": [
    "show_doc(build_DSAIR)"
   ]
  },
  {
   "cell_type": "code",
   "execution_count": null,
   "id": "990af254-8051-4b86-b0ae-d5985dbc240a",
   "metadata": {},
   "outputs": [],
   "source": [
    "#| export\n",
    "models = build_DSAIR()"
   ]
  },
  {
   "cell_type": "code",
   "execution_count": null,
   "id": "87f3128a-8c61-407b-821e-7ca192fdf1c4",
   "metadata": {},
   "outputs": [
    {
     "data": {
      "text/plain": [
       "{'s': array([1., 1., 1., ..., 5., 5., 5.]),\n",
       " 'p': array([0.  , 0.02, 0.04, ..., 0.96, 0.98, 1.  ]),\n",
       " 'b': array([4, 4, 4, ..., 4, 4, 4]),\n",
       " 'c': array([1, 1, 1, ..., 1, 1, 1]),\n",
       " 'B': array([10000, 10000, 10000, ..., 10000, 10000, 10000]),\n",
       " 'W': array([100, 100, 100, ..., 100, 100, 100]),\n",
       " 'pfo': array([0, 0, 0, ..., 0, 0, 0]),\n",
       " 'α': array([0, 0, 0, ..., 0, 0, 0]),\n",
       " 'γ': array([0, 0, 0, ..., 0, 0, 0]),\n",
       " 'ε': array([0, 0, 0, ..., 0, 0, 0]),\n",
       " 'ω': array([0, 0, 0, ..., 0, 0, 0]),\n",
       " 'collective': array([1, 1, 1, ..., 1, 1, 1]),\n",
       " 'β': array([0.01, 0.01, 0.01, ..., 0.01, 0.01, 0.01]),\n",
       " 'Z': 100,\n",
       " 'strategy_set': ['AS', 'AU']}"
      ]
     },
     "execution_count": null,
     "metadata": {},
     "output_type": "execute_result"
    }
   ],
   "source": [
    "#| hide\n",
    "models"
   ]
  },
  {
   "cell_type": "code",
   "execution_count": null,
   "id": "576ce43e-241c-4868-80f2-0d08bd8290dd",
   "metadata": {},
   "outputs": [
    {
     "data": {
      "text/plain": [
       "{'s': (2091,),\n",
       " 'p': (2091,),\n",
       " 'b': (2091,),\n",
       " 'c': (2091,),\n",
       " 'B': (2091,),\n",
       " 'W': (2091,),\n",
       " 'pfo': (2091,),\n",
       " 'α': (2091,),\n",
       " 'γ': (2091,),\n",
       " 'ε': (2091,),\n",
       " 'ω': (2091,),\n",
       " 'collective': (2091,),\n",
       " 'β': (2091,)}"
      ]
     },
     "execution_count": null,
     "metadata": {},
     "output_type": "execute_result"
    }
   ],
   "source": [
    "#| hide\n",
    "{k:v.shape for k,v in models.items() if isinstance(v, np.ndarray)}"
   ]
  },
  {
   "cell_type": "markdown",
   "id": "66b11d3e-ec4e-4810-abe7-f2206180348a",
   "metadata": {},
   "source": [
    "### Run the model"
   ]
  },
  {
   "cell_type": "code",
   "execution_count": null,
   "id": "34170d30-e5ae-4bbb-b629-10ceaf86c541",
   "metadata": {},
   "outputs": [],
   "source": [
    "#| export\n",
    "#| echo:true\n",
    "results = thread_macro(models,\n",
    "                       payoffs_sr,\n",
    "                       payoffs_lr,\n",
    "                       threshold_society_prefers_safety_dsair,\n",
    "                       threshold_risk_dominant_safety_dsair,\n",
    "                       markov_chain,\n",
    "                      )"
   ]
  },
  {
   "cell_type": "code",
   "execution_count": null,
   "id": "df96df66-79ae-457d-8069-f18a79cafabc",
   "metadata": {},
   "outputs": [
    {
     "data": {
      "text/plain": [
       "{'s': (2091,),\n",
       " 'p': (2091,),\n",
       " 'b': (2091,),\n",
       " 'c': (2091,),\n",
       " 'B': (2091,),\n",
       " 'W': (2091,),\n",
       " 'pfo': (2091,),\n",
       " 'α': (2091,),\n",
       " 'γ': (2091,),\n",
       " 'ε': (2091,),\n",
       " 'ω': (2091,),\n",
       " 'collective': (2091,),\n",
       " 'β': (2091,),\n",
       " 'payoffs_sr': (2091, 2, 2),\n",
       " 'payoffs': (2091, 2, 2),\n",
       " 'threshold_society_prefers_safety': (2091,),\n",
       " 'threshold_risk_dominant_safety': (2091,),\n",
       " 'transition_matrix': (2091, 2, 2),\n",
       " 'ergodic': (2091, 2)}"
      ]
     },
     "execution_count": null,
     "metadata": {},
     "output_type": "execute_result"
    }
   ],
   "source": [
    "#| hide\n",
    "{k:v.shape for k,v in results.items() if isinstance(v, np.ndarray)}"
   ]
  },
  {
   "cell_type": "markdown",
   "id": "40d5ad71-88ea-4a7a-b761-f6046a697fdd",
   "metadata": {},
   "source": [
    "### Process the results"
   ]
  },
  {
   "cell_type": "markdown",
   "id": "6526b240-610a-4a04-91e7-4610d90115cf",
   "metadata": {},
   "source": [
    "Now that we have collected some results, we need to process them so that we can display what we want to.\n",
    "\n",
    "The general approach I follow is to flatten the `results` dictionary and convert it into a [pandas](https://pandas.pydata.org/pandas-docs/stable/index.html) dataframe.\n",
    "\n",
    "Here, we also compute the risk of an AI related disaster, $p_{risk} = 1 - p$"
   ]
  },
  {
   "cell_type": "code",
   "execution_count": null,
   "id": "bb627850-0835-48df-8801-706c5dacab6b",
   "metadata": {},
   "outputs": [],
   "source": [
    "#| hide\n",
    "#| export\n",
    "\n",
    "flat_results = {k:results[k] for k in ['s','b','c','p','B','W','β',\n",
    "                                       'threshold_society_prefers_safety',\n",
    "                                       'threshold_risk_dominant_safety']}\n",
    "flat_results['pr'] = np.round(1 - flat_results['p'], 2)\n",
    "flat_results['s'] = np.round(flat_results['s'], 2)\n",
    "for i, strategy in enumerate([\"AS\", \"AU\"]):\n",
    "    flat_results[strategy + \"_frequency\"] = results['ergodic'][:,i]\n",
    "    \n",
    "df = pandas.DataFrame(flat_results)"
   ]
  },
  {
   "cell_type": "code",
   "execution_count": null,
   "id": "c42e253b-0b38-4f91-a276-fb1aad5092fc",
   "metadata": {},
   "outputs": [
    {
     "data": {
      "text/html": [
       "<div>\n",
       "<style scoped>\n",
       "    .dataframe tbody tr th:only-of-type {\n",
       "        vertical-align: middle;\n",
       "    }\n",
       "\n",
       "    .dataframe tbody tr th {\n",
       "        vertical-align: top;\n",
       "    }\n",
       "\n",
       "    .dataframe thead th {\n",
       "        text-align: right;\n",
       "    }\n",
       "</style>\n",
       "<table border=\"1\" class=\"dataframe\">\n",
       "  <thead>\n",
       "    <tr style=\"text-align: right;\">\n",
       "      <th></th>\n",
       "      <th>s</th>\n",
       "      <th>b</th>\n",
       "      <th>c</th>\n",
       "      <th>p</th>\n",
       "      <th>B</th>\n",
       "      <th>W</th>\n",
       "      <th>β</th>\n",
       "      <th>threshold_society_prefers_safety</th>\n",
       "      <th>threshold_risk_dominant_safety</th>\n",
       "      <th>pr</th>\n",
       "      <th>AS_frequency</th>\n",
       "      <th>AU_frequency</th>\n",
       "    </tr>\n",
       "  </thead>\n",
       "  <tbody>\n",
       "    <tr>\n",
       "      <th>0</th>\n",
       "      <td>1.0</td>\n",
       "      <td>4</td>\n",
       "      <td>1</td>\n",
       "      <td>0.00</td>\n",
       "      <td>10000</td>\n",
       "      <td>100</td>\n",
       "      <td>0.01</td>\n",
       "      <td>0.019231</td>\n",
       "      <td>0.662338</td>\n",
       "      <td>1.00</td>\n",
       "      <td>1.000000e+00</td>\n",
       "      <td>8.508121e-12</td>\n",
       "    </tr>\n",
       "    <tr>\n",
       "      <th>1</th>\n",
       "      <td>1.0</td>\n",
       "      <td>4</td>\n",
       "      <td>1</td>\n",
       "      <td>0.02</td>\n",
       "      <td>10000</td>\n",
       "      <td>100</td>\n",
       "      <td>0.01</td>\n",
       "      <td>0.019231</td>\n",
       "      <td>0.662338</td>\n",
       "      <td>0.98</td>\n",
       "      <td>1.000000e+00</td>\n",
       "      <td>3.927629e-11</td>\n",
       "    </tr>\n",
       "    <tr>\n",
       "      <th>2</th>\n",
       "      <td>1.0</td>\n",
       "      <td>4</td>\n",
       "      <td>1</td>\n",
       "      <td>0.04</td>\n",
       "      <td>10000</td>\n",
       "      <td>100</td>\n",
       "      <td>0.01</td>\n",
       "      <td>0.019231</td>\n",
       "      <td>0.662338</td>\n",
       "      <td>0.96</td>\n",
       "      <td>1.000000e+00</td>\n",
       "      <td>1.813123e-10</td>\n",
       "    </tr>\n",
       "    <tr>\n",
       "      <th>3</th>\n",
       "      <td>1.0</td>\n",
       "      <td>4</td>\n",
       "      <td>1</td>\n",
       "      <td>0.06</td>\n",
       "      <td>10000</td>\n",
       "      <td>100</td>\n",
       "      <td>0.01</td>\n",
       "      <td>0.019231</td>\n",
       "      <td>0.662338</td>\n",
       "      <td>0.94</td>\n",
       "      <td>1.000000e+00</td>\n",
       "      <td>8.369975e-10</td>\n",
       "    </tr>\n",
       "    <tr>\n",
       "      <th>4</th>\n",
       "      <td>1.0</td>\n",
       "      <td>4</td>\n",
       "      <td>1</td>\n",
       "      <td>0.08</td>\n",
       "      <td>10000</td>\n",
       "      <td>100</td>\n",
       "      <td>0.01</td>\n",
       "      <td>0.019231</td>\n",
       "      <td>0.662338</td>\n",
       "      <td>0.92</td>\n",
       "      <td>1.000000e+00</td>\n",
       "      <td>3.863857e-09</td>\n",
       "    </tr>\n",
       "    <tr>\n",
       "      <th>...</th>\n",
       "      <td>...</td>\n",
       "      <td>...</td>\n",
       "      <td>...</td>\n",
       "      <td>...</td>\n",
       "      <td>...</td>\n",
       "      <td>...</td>\n",
       "      <td>...</td>\n",
       "      <td>...</td>\n",
       "      <td>...</td>\n",
       "      <td>...</td>\n",
       "      <td>...</td>\n",
       "      <td>...</td>\n",
       "    </tr>\n",
       "    <tr>\n",
       "      <th>2086</th>\n",
       "      <td>5.0</td>\n",
       "      <td>4</td>\n",
       "      <td>1</td>\n",
       "      <td>0.92</td>\n",
       "      <td>10000</td>\n",
       "      <td>100</td>\n",
       "      <td>0.01</td>\n",
       "      <td>0.797619</td>\n",
       "      <td>0.932921</td>\n",
       "      <td>0.08</td>\n",
       "      <td>0.000000e+00</td>\n",
       "      <td>1.000000e+00</td>\n",
       "    </tr>\n",
       "    <tr>\n",
       "      <th>2087</th>\n",
       "      <td>5.0</td>\n",
       "      <td>4</td>\n",
       "      <td>1</td>\n",
       "      <td>0.94</td>\n",
       "      <td>10000</td>\n",
       "      <td>100</td>\n",
       "      <td>0.01</td>\n",
       "      <td>0.797619</td>\n",
       "      <td>0.932921</td>\n",
       "      <td>0.06</td>\n",
       "      <td>0.000000e+00</td>\n",
       "      <td>1.000000e+00</td>\n",
       "    </tr>\n",
       "    <tr>\n",
       "      <th>2088</th>\n",
       "      <td>5.0</td>\n",
       "      <td>4</td>\n",
       "      <td>1</td>\n",
       "      <td>0.96</td>\n",
       "      <td>10000</td>\n",
       "      <td>100</td>\n",
       "      <td>0.01</td>\n",
       "      <td>0.797619</td>\n",
       "      <td>0.932921</td>\n",
       "      <td>0.04</td>\n",
       "      <td>1.694743e-18</td>\n",
       "      <td>1.000000e+00</td>\n",
       "    </tr>\n",
       "    <tr>\n",
       "      <th>2089</th>\n",
       "      <td>5.0</td>\n",
       "      <td>4</td>\n",
       "      <td>1</td>\n",
       "      <td>0.98</td>\n",
       "      <td>10000</td>\n",
       "      <td>100</td>\n",
       "      <td>0.01</td>\n",
       "      <td>0.797619</td>\n",
       "      <td>0.932921</td>\n",
       "      <td>0.02</td>\n",
       "      <td>0.000000e+00</td>\n",
       "      <td>1.000000e+00</td>\n",
       "    </tr>\n",
       "    <tr>\n",
       "      <th>2090</th>\n",
       "      <td>5.0</td>\n",
       "      <td>4</td>\n",
       "      <td>1</td>\n",
       "      <td>1.00</td>\n",
       "      <td>10000</td>\n",
       "      <td>100</td>\n",
       "      <td>0.01</td>\n",
       "      <td>0.797619</td>\n",
       "      <td>0.932921</td>\n",
       "      <td>0.00</td>\n",
       "      <td>0.000000e+00</td>\n",
       "      <td>1.000000e+00</td>\n",
       "    </tr>\n",
       "  </tbody>\n",
       "</table>\n",
       "<p>2091 rows × 12 columns</p>\n",
       "</div>"
      ],
      "text/plain": [
       "        s  b  c     p      B    W     β  threshold_society_prefers_safety  \\\n",
       "0     1.0  4  1  0.00  10000  100  0.01                          0.019231   \n",
       "1     1.0  4  1  0.02  10000  100  0.01                          0.019231   \n",
       "2     1.0  4  1  0.04  10000  100  0.01                          0.019231   \n",
       "3     1.0  4  1  0.06  10000  100  0.01                          0.019231   \n",
       "4     1.0  4  1  0.08  10000  100  0.01                          0.019231   \n",
       "...   ... .. ..   ...    ...  ...   ...                               ...   \n",
       "2086  5.0  4  1  0.92  10000  100  0.01                          0.797619   \n",
       "2087  5.0  4  1  0.94  10000  100  0.01                          0.797619   \n",
       "2088  5.0  4  1  0.96  10000  100  0.01                          0.797619   \n",
       "2089  5.0  4  1  0.98  10000  100  0.01                          0.797619   \n",
       "2090  5.0  4  1  1.00  10000  100  0.01                          0.797619   \n",
       "\n",
       "      threshold_risk_dominant_safety    pr  AS_frequency  AU_frequency  \n",
       "0                           0.662338  1.00  1.000000e+00  8.508121e-12  \n",
       "1                           0.662338  0.98  1.000000e+00  3.927629e-11  \n",
       "2                           0.662338  0.96  1.000000e+00  1.813123e-10  \n",
       "3                           0.662338  0.94  1.000000e+00  8.369975e-10  \n",
       "4                           0.662338  0.92  1.000000e+00  3.863857e-09  \n",
       "...                              ...   ...           ...           ...  \n",
       "2086                        0.932921  0.08  0.000000e+00  1.000000e+00  \n",
       "2087                        0.932921  0.06  0.000000e+00  1.000000e+00  \n",
       "2088                        0.932921  0.04  1.694743e-18  1.000000e+00  \n",
       "2089                        0.932921  0.02  0.000000e+00  1.000000e+00  \n",
       "2090                        0.932921  0.00  0.000000e+00  1.000000e+00  \n",
       "\n",
       "[2091 rows x 12 columns]"
      ]
     },
     "execution_count": null,
     "metadata": {},
     "output_type": "execute_result"
    }
   ],
   "source": [
    "#| echo:false\n",
    "df"
   ]
  },
  {
   "cell_type": "markdown",
   "id": "34e3817d-f2b1-4b1c-a91b-c81c9e6fd7f0",
   "metadata": {},
   "source": [
    "### Visualise results and explain what we observe"
   ]
  },
  {
   "cell_type": "markdown",
   "id": "7b4ec6b8-18a4-42c8-8ed2-22b5a8cb0fd4",
   "metadata": {},
   "source": [
    "I am using the [Matplotlib](https://matplotlib.org/stable/index.html) library to visualize our data."
   ]
  },
  {
   "cell_type": "markdown",
   "id": "f4d4b10d-ca62-403e-b08f-e2f9dfd25d25",
   "metadata": {},
   "source": [
    "#| hide\n",
    "\n",
    ":::{.callout-note}\n",
    "Note that there are five types of callouts, including: \n",
    "`note`, `tip`, `warning`, `caution`, and `important`.\n",
    ":::"
   ]
  },
  {
   "cell_type": "code",
   "execution_count": null,
   "id": "8986e9da-dc79-443d-b575-e673106c91f0",
   "metadata": {},
   "outputs": [],
   "source": [
    "#| hide\n",
    "sns.set_theme(style='darkgrid',palette='deep' ,font='sans-serif', font_scale=1.4)\n",
    "plt.rcParams[\"axes.grid\"] = False"
   ]
  },
  {
   "cell_type": "markdown",
   "id": "899b278d-39b1-4d62-b553-56ce68a9d4fc",
   "metadata": {},
   "source": [
    "I first replicate the Figure 1 from The Anh Han et al. 2021\n",
    "\n",
    "The figure describes how the the frequency of Always Unsafe (**AU**) varies with both the speed advantage given to those who play **AU**, $s$, and the risk that such firms cause an AI disaster, $p_{risk}$. We have also plotted two lines, the lower line shows the boundary where society is indifferent between the two strategies. A greater risk or a slower speed advantage from this boundary implies society prefers players to play Always Safe (**AS**). The higher line shows the threshold for which **AU** is risk dominant over **AS**. For this baseline model, risk dominance implies that the strategy will be selected for by evolution (which is why the line follows the boundary where players switch from **AU** to **AS**). As with the lower line, any higher risk or lower speed implies that **AS** will instead by risk dominant over **AU**.\n",
    "\n",
    "These lines therefore split the heatmap into 3 regions. \n",
    "(i) Society prefers **AS** and **AS** is selected by social learning.\n",
    "(ii) Society prefers **AS** but **AU** is selected by social learning\n",
    "(iii) Society prefers **AU** and **AU** is selected by social learning\n",
    "\n",
    "In region (i) companies will be alligned with Society's preference for safety. In region (iii), society is willing to accept the risks as they anticipate greater benefits from innovation. In region (ii), we see a dilemma where all players are choosing to play **AU**, even though society prefers them to play **AS**. We can refer to this region as the *Dilemma zone*."
   ]
  },
  {
   "cell_type": "code",
   "execution_count": null,
   "id": "31a3a581-d18d-44b6-8980-beedbddfb39d",
   "metadata": {},
   "outputs": [
    {
     "data": {
      "image/png": "[encoded data removed]",
      "text/plain": [
       "<Figure size 640x480 with 2 Axes>"
      ]
     },
     "metadata": {},
     "output_type": "display_data"
    }
   ],
   "source": [
    "#| echo:false\n",
    "table = df.pivot_table(index='pr', columns='s', values='AU_frequency')\n",
    "\n",
    "heatmap, ax = plt.subplots()\n",
    "im = ax.imshow(table.values,\n",
    "               cmap='inferno',\n",
    "               extent=[table.columns.min(),\n",
    "                       table.columns.max(),\n",
    "                       table.index.min(),\n",
    "                       table.index.max()],\n",
    "               interpolation='nearest',\n",
    "               origin='lower',\n",
    "               aspect='auto')\n",
    "ax.set(xlabel='Speed avantage, s',\n",
    "       ylabel='Risk of an AI disaster, pr')\n",
    "\n",
    "cbar = heatmap.colorbar(im)\n",
    "cbar.ax.set_ylabel('AU Frequency')\n",
    "\n",
    "# Add threshold boundaries to convey dilemma region\n",
    "plt.plot(table.columns, df[df.pr==1]['threshold_society_prefers_safety'])\n",
    "plt.plot(table.columns, df[df.pr==1]['threshold_risk_dominant_safety']);"
   ]
  },
  {
   "cell_type": "markdown",
   "id": "e5377847-ac06-4684-b6ef-2171709c8e7c",
   "metadata": {},
   "source": [
    ":::{.callout-caution}\n",
    "Note that this model is illustrative only: at best here, society refers to the collection of all firms.\n",
    "\n",
    "We could instead explicitly model society's preferences over safety and innovation, distinct from the companies. Such a model will still have the 3 regions we are currently discussing, though the negative externalities of an AI disaster will likely lead to a greater *dillemma zone*. \n",
    "\n",
    "Another insight that such an extension would communicate is that companies may have incentive to work together to make sure their preferences are weighted more highly than the rest of society. It would be interesting to see whether we can observe this in pracitse, for examle in the European AI Act. The main challenge this task presents us is how to determine whether companies are working together to have their voices heard or whether they each already have strong enough incentives to uniltaterally influence policy.\n",
    ":::"
   ]
  },
  {
   "cell_type": "markdown",
   "id": "236d9089-feb3-49b0-9a5d-212fe9efadaf",
   "metadata": {},
   "source": [
    "I have also plotted a cross-section of the above heatmap for speed advantage, $s=1.5$. This plot shows how players are distributed between the 2 available strategies, $AU$ and $AS$. Here, the blue area represents the proportion of players who follow $AU$ for each level of risk, whereas the red area tells us the proportion who play $AS$. I also mark the 3 regions discussed above.\n",
    "\n",
    "We will often make use of this cross-section plot in more complex models when we want to show the relative frequencies of more than 2 strategies. "
   ]
  },
  {
   "cell_type": "code",
   "execution_count": null,
   "id": "80dc11b7-2058-4e36-9e36-1878b5406d16",
   "metadata": {},
   "outputs": [
    {
     "data": {
      "image/png": "[encoded data removed]",
      "text/plain": [
       "<Figure size 640x480 with 1 Axes>"
      ]
     },
     "metadata": {},
     "output_type": "display_data"
    }
   ],
   "source": [
    "#| echo:false\n",
    "dfplot2 = df[df.s==1.5]\n",
    "x = dfplot2.pr.values\n",
    "y1 = dfplot2.AU_frequency.values\n",
    "y2 = dfplot2.AS_frequency.values\n",
    "\n",
    "fig, ax = plt.subplots()\n",
    "ax.stackplot(x,\n",
    "             [y1, y2],\n",
    "             labels=['AU', 'AS'],\n",
    "             alpha=0.8)\n",
    "ax.legend(loc='upper left')\n",
    "ax.set_title('Strategy distribution')\n",
    "ax.set_xlabel('Risk of an AI disaster, pr')\n",
    "ax.set_ylabel('Proportion')\n",
    "\n",
    "# Add threshold boundaries to convey dilemma region\n",
    "plt.vlines([dfplot2[dfplot2.pr==1]['threshold_society_prefers_safety'],\n",
    "            dfplot2[dfplot2.pr==1]['threshold_risk_dominant_safety']],\n",
    "           0,\n",
    "           0.995,\n",
    "           colors=['C2', 'C3'],\n",
    "           linewidth=3,\n",
    "           label='pr*');"
   ]
  },
  {
   "cell_type": "markdown",
   "id": "012eb823-4d31-4732-b0f7-37fd31bf77b7",
   "metadata": {},
   "source": [
    "## DSAIR with punishment"
   ]
  },
  {
   "cell_type": "code",
   "execution_count": null,
   "id": "70c2d0df-93ba-461b-941e-76780a215862",
   "metadata": {},
   "outputs": [],
   "source": [
    "#| export\n",
    "models = build_DSAIR(b=4,\n",
    "                   c=1,\n",
    "                   B=10**4,\n",
    "                   W=100,\n",
    "                   β=0.01,\n",
    "                   Z=100,\n",
    "                   strategy_set=[\"AS\", \"AU\"],\n",
    "                   collective=1)"
   ]
  },
  {
   "cell_type": "code",
   "execution_count": null,
   "id": "08c6a882-2005-47e1-9d80-e36ceefd9b83",
   "metadata": {},
   "outputs": [],
   "source": []
  },
  {
   "cell_type": "markdown",
   "id": "17a55edf-d4cc-4f89-90ac-35c6af087d5a",
   "metadata": {},
   "source": [
    "#| hide\n",
    "\n",
    "# References"
   ]
  },
  {
   "cell_type": "code",
   "execution_count": null,
   "id": "2c50b416-290c-4b5a-ab60-4a84f50f24c9",
   "metadata": {},
   "outputs": [],
   "source": [
    "#| hide\n",
    "import nbdev; nbdev.nbdev_export()"
   ]
  }
 ],
 "metadata": {
  "kernelspec": {
   "display_name": "Python 3 (ipykernel)",
   "language": "python",
   "name": "python3"
  }
 },
 "nbformat": 4,
 "nbformat_minor": 5
}
