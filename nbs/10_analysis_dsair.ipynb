{
 "cells": [
  {
   "cell_type": "markdown",
   "id": "8663e504-288d-4d04-bea2-ec3d8e6aceb6",
   "metadata": {},
   "source": [
    "# Analysis of the DSAIR model\n",
    "\n",
    "> A number of replications and extensions of The Anh et al.'s analysis of their DSAIR model."
   ]
  },
  {
   "cell_type": "code",
   "execution_count": null,
   "id": "e4ca64e1-4ca6-4b66-80d6-2361849047c5",
   "metadata": {},
   "outputs": [],
   "source": [
    "#| default_exp analysis_dsair"
   ]
  },
  {
   "cell_type": "code",
   "execution_count": null,
   "id": "039a6fa5-e85d-468c-a3d0-8f314547c6fd",
   "metadata": {},
   "outputs": [],
   "source": [
    "#| hide\n",
    "#| export\n",
    "from gh_pages_example.conditions import *\n",
    "from gh_pages_example.methods import *\n",
    "from gh_pages_example.payoffs import *\n",
    "from gh_pages_example.types import *\n",
    "from gh_pages_example.utils import *\n",
    "\n",
    "import typing\n",
    "\n",
    "import fastcore.test\n",
    "import matplotlib as mpl\n",
    "import matplotlib.pyplot as plt\n",
    "from nbdev.showdoc import *\n",
    "import nptyping\n",
    "import numpy as np\n",
    "import pandas\n",
    "import seaborn as sns "
   ]
  },
  {
   "cell_type": "markdown",
   "id": "7d6ac3f1-dd2d-4685-a3e3-c85baff0dd2b",
   "metadata": {},
   "source": [
    "This notebook contains a number of analyses of different versions of the DSAIR model.\n",
    "\n",
    "Each analysis involves a number of steps:\n",
    "\n",
    "1. Create parameter space\n",
    "2. Run the model\n",
    "3. Process the results\n",
    "4. Visualise the results\n",
    "5. Explain the patterns observed"
   ]
  },
  {
   "cell_type": "markdown",
   "id": "3055f551-02e7-417e-82b7-0efc1f7ed194",
   "metadata": {},
   "source": [
    "## Analysis of the baseline DSAIR model"
   ]
  },
  {
   "cell_type": "markdown",
   "id": "c476f8fe-d8a1-432c-b061-eb2af2c25b58",
   "metadata": {},
   "source": [
    "### Create parameter space"
   ]
  },
  {
   "cell_type": "code",
   "execution_count": null,
   "id": "b5cc21a7-9231-49fd-929e-9c9ebecb96ba",
   "metadata": {},
   "outputs": [],
   "source": [
    "#| export\n",
    "def fig1_data(b=4, c=1, B=10**4, W=100, β=0.01, Z=100, S=['A','B'], gamma=1):\n",
    "    \"\"\"Create parameter grid for the baseline DSAIR model, Figure 1,\n",
    "    The Anh et al. 2020.\"\"\"\n",
    "    namesofvalues=['s','b','c','p','B','W','β','gamma']\n",
    "    matchingvalues = np.array([[s,b,c,p,B,W,β,gamma]\n",
    "                               for s in np.arange(1,5.1,0.1)\n",
    "                               for p in np.arange(0,1.02,0.02)])\n",
    "    models = {k:v for k, v in zip(namesofvalues, matchingvalues.T)}\n",
    "    models = {**models,\n",
    "              'Z':Z, # Z should be a scalar\n",
    "              'strategy_set':S # S should be a list of strings\n",
    "             }\n",
    "    return models"
   ]
  },
  {
   "cell_type": "code",
   "execution_count": null,
   "id": "f15003aa-ccf7-42c6-931b-4b1a22fcf463",
   "metadata": {},
   "outputs": [],
   "source": [
    "#| export\n",
    "b=4; c=1; B=10**4; W=100; β=0.1; Z=100; S=[\"AS\", \"AU\"]; gamma=1\n",
    "models = fig1_data(b=b, c=c, B=B, W=W, β=β, Z=Z, S=S, gamma=1)"
   ]
  },
  {
   "cell_type": "markdown",
   "id": "66b11d3e-ec4e-4810-abe7-f2206180348a",
   "metadata": {},
   "source": [
    "### Run the model"
   ]
  },
  {
   "cell_type": "code",
   "execution_count": null,
   "id": "34170d30-e5ae-4bbb-b629-10ceaf86c541",
   "metadata": {},
   "outputs": [
    {
     "name": "stderr",
     "output_type": "stream",
     "text": [
      "/home/paololaptop/mambaforge/lib/python3.10/site-packages/numpy/core/fromnumeric.py:86: RuntimeWarning: overflow encountered in reduce\n",
      "  return ufunc.reduce(obj, axis, dtype, out, **passkwargs)\n"
     ]
    }
   ],
   "source": [
    "#| export\n",
    "results = thread_macro(models,\n",
    "                       payoffs_sr,\n",
    "                       payoffs_lr,\n",
    "                       threshold_society_prefers_safety_dsair,\n",
    "                       threshold_risk_dominant_safety_dsair,\n",
    "                       markov_chain,\n",
    "                      )"
   ]
  },
  {
   "cell_type": "code",
   "execution_count": null,
   "id": "df96df66-79ae-457d-8069-f18a79cafabc",
   "metadata": {},
   "outputs": [
    {
     "data": {
      "text/plain": [
       "{'s': (2091,),\n",
       " 'b': (2091,),\n",
       " 'c': (2091,),\n",
       " 'p': (2091,),\n",
       " 'B': (2091,),\n",
       " 'W': (2091,),\n",
       " 'β': (2091,),\n",
       " 'gamma': (2091,),\n",
       " 'payoffs_sr': (2091, 2, 2),\n",
       " 'payoffs': (2091, 2, 2),\n",
       " 'threshold_society_prefers_safety': (2091,),\n",
       " 'threshold_risk_dominant_safety': (2091,),\n",
       " 'transition_matrix': (2091, 2, 2),\n",
       " 'ergodic': (2091, 2)}"
      ]
     },
     "execution_count": null,
     "metadata": {},
     "output_type": "execute_result"
    }
   ],
   "source": [
    "#| hide\n",
    "{k:v.shape for k,v in results.items() if isinstance(v, np.ndarray)}"
   ]
  },
  {
   "cell_type": "markdown",
   "id": "40d5ad71-88ea-4a7a-b761-f6046a697fdd",
   "metadata": {},
   "source": [
    "### Process the results"
   ]
  },
  {
   "cell_type": "markdown",
   "id": "6526b240-610a-4a04-91e7-4610d90115cf",
   "metadata": {},
   "source": [
    "Now that we have collected some results, we need to process them so that we can display what we want to.\n",
    "\n",
    "The general approach I follow is to flatten the `results` dictionary and convert it into a [pandas](https://pandas.pydata.org/pandas-docs/stable/index.html) dataframe.\n",
    "\n",
    "Here, we also compute the risk of an AI related disaster, $p_{risk} = 1 - p$"
   ]
  },
  {
   "cell_type": "code",
   "execution_count": null,
   "id": "bb627850-0835-48df-8801-706c5dacab6b",
   "metadata": {},
   "outputs": [],
   "source": [
    "#| hide\n",
    "#| export\n",
    "\n",
    "flat_results = {k:results[k] for k in ['s','b','c','p','B','W','β']}\n",
    "flat_results['pr'] = np.round(1 - flat_results['p'], 2)\n",
    "flat_results['s'] = np.round(flat_results['s'], 2)\n",
    "for i, strategy in enumerate([\"AS\", \"AU\"]):\n",
    "    flat_results[strategy + \"_frequency\"] = results['ergodic'][:,i]\n",
    "    \n",
    "df = pandas.DataFrame(flat_results)"
   ]
  },
  {
   "cell_type": "code",
   "execution_count": null,
   "id": "c42e253b-0b38-4f91-a276-fb1aad5092fc",
   "metadata": {},
   "outputs": [
    {
     "data": {
      "text/html": [
       "<div>\n",
       "<style scoped>\n",
       "    .dataframe tbody tr th:only-of-type {\n",
       "        vertical-align: middle;\n",
       "    }\n",
       "\n",
       "    .dataframe tbody tr th {\n",
       "        vertical-align: top;\n",
       "    }\n",
       "\n",
       "    .dataframe thead th {\n",
       "        text-align: right;\n",
       "    }\n",
       "</style>\n",
       "<table border=\"1\" class=\"dataframe\">\n",
       "  <thead>\n",
       "    <tr style=\"text-align: right;\">\n",
       "      <th></th>\n",
       "      <th>s</th>\n",
       "      <th>b</th>\n",
       "      <th>c</th>\n",
       "      <th>p</th>\n",
       "      <th>B</th>\n",
       "      <th>W</th>\n",
       "      <th>β</th>\n",
       "      <th>pr</th>\n",
       "      <th>AS_frequency</th>\n",
       "      <th>AU_frequency</th>\n",
       "    </tr>\n",
       "  </thead>\n",
       "  <tbody>\n",
       "    <tr>\n",
       "      <th>0</th>\n",
       "      <td>1.0</td>\n",
       "      <td>4.0</td>\n",
       "      <td>1.0</td>\n",
       "      <td>0.00</td>\n",
       "      <td>10000.0</td>\n",
       "      <td>100.0</td>\n",
       "      <td>0.1</td>\n",
       "      <td>1.00</td>\n",
       "      <td>1.0</td>\n",
       "      <td>0.0</td>\n",
       "    </tr>\n",
       "    <tr>\n",
       "      <th>1</th>\n",
       "      <td>1.0</td>\n",
       "      <td>4.0</td>\n",
       "      <td>1.0</td>\n",
       "      <td>0.02</td>\n",
       "      <td>10000.0</td>\n",
       "      <td>100.0</td>\n",
       "      <td>0.1</td>\n",
       "      <td>0.98</td>\n",
       "      <td>1.0</td>\n",
       "      <td>0.0</td>\n",
       "    </tr>\n",
       "    <tr>\n",
       "      <th>2</th>\n",
       "      <td>1.0</td>\n",
       "      <td>4.0</td>\n",
       "      <td>1.0</td>\n",
       "      <td>0.04</td>\n",
       "      <td>10000.0</td>\n",
       "      <td>100.0</td>\n",
       "      <td>0.1</td>\n",
       "      <td>0.96</td>\n",
       "      <td>1.0</td>\n",
       "      <td>0.0</td>\n",
       "    </tr>\n",
       "    <tr>\n",
       "      <th>3</th>\n",
       "      <td>1.0</td>\n",
       "      <td>4.0</td>\n",
       "      <td>1.0</td>\n",
       "      <td>0.06</td>\n",
       "      <td>10000.0</td>\n",
       "      <td>100.0</td>\n",
       "      <td>0.1</td>\n",
       "      <td>0.94</td>\n",
       "      <td>1.0</td>\n",
       "      <td>0.0</td>\n",
       "    </tr>\n",
       "    <tr>\n",
       "      <th>4</th>\n",
       "      <td>1.0</td>\n",
       "      <td>4.0</td>\n",
       "      <td>1.0</td>\n",
       "      <td>0.08</td>\n",
       "      <td>10000.0</td>\n",
       "      <td>100.0</td>\n",
       "      <td>0.1</td>\n",
       "      <td>0.92</td>\n",
       "      <td>1.0</td>\n",
       "      <td>0.0</td>\n",
       "    </tr>\n",
       "    <tr>\n",
       "      <th>...</th>\n",
       "      <td>...</td>\n",
       "      <td>...</td>\n",
       "      <td>...</td>\n",
       "      <td>...</td>\n",
       "      <td>...</td>\n",
       "      <td>...</td>\n",
       "      <td>...</td>\n",
       "      <td>...</td>\n",
       "      <td>...</td>\n",
       "      <td>...</td>\n",
       "    </tr>\n",
       "    <tr>\n",
       "      <th>2086</th>\n",
       "      <td>5.0</td>\n",
       "      <td>4.0</td>\n",
       "      <td>1.0</td>\n",
       "      <td>0.92</td>\n",
       "      <td>10000.0</td>\n",
       "      <td>100.0</td>\n",
       "      <td>0.1</td>\n",
       "      <td>0.08</td>\n",
       "      <td>0.0</td>\n",
       "      <td>1.0</td>\n",
       "    </tr>\n",
       "    <tr>\n",
       "      <th>2087</th>\n",
       "      <td>5.0</td>\n",
       "      <td>4.0</td>\n",
       "      <td>1.0</td>\n",
       "      <td>0.94</td>\n",
       "      <td>10000.0</td>\n",
       "      <td>100.0</td>\n",
       "      <td>0.1</td>\n",
       "      <td>0.06</td>\n",
       "      <td>0.0</td>\n",
       "      <td>1.0</td>\n",
       "    </tr>\n",
       "    <tr>\n",
       "      <th>2088</th>\n",
       "      <td>5.0</td>\n",
       "      <td>4.0</td>\n",
       "      <td>1.0</td>\n",
       "      <td>0.96</td>\n",
       "      <td>10000.0</td>\n",
       "      <td>100.0</td>\n",
       "      <td>0.1</td>\n",
       "      <td>0.04</td>\n",
       "      <td>0.0</td>\n",
       "      <td>1.0</td>\n",
       "    </tr>\n",
       "    <tr>\n",
       "      <th>2089</th>\n",
       "      <td>5.0</td>\n",
       "      <td>4.0</td>\n",
       "      <td>1.0</td>\n",
       "      <td>0.98</td>\n",
       "      <td>10000.0</td>\n",
       "      <td>100.0</td>\n",
       "      <td>0.1</td>\n",
       "      <td>0.02</td>\n",
       "      <td>0.0</td>\n",
       "      <td>1.0</td>\n",
       "    </tr>\n",
       "    <tr>\n",
       "      <th>2090</th>\n",
       "      <td>5.0</td>\n",
       "      <td>4.0</td>\n",
       "      <td>1.0</td>\n",
       "      <td>1.00</td>\n",
       "      <td>10000.0</td>\n",
       "      <td>100.0</td>\n",
       "      <td>0.1</td>\n",
       "      <td>0.00</td>\n",
       "      <td>0.0</td>\n",
       "      <td>1.0</td>\n",
       "    </tr>\n",
       "  </tbody>\n",
       "</table>\n",
       "<p>2091 rows × 10 columns</p>\n",
       "</div>"
      ],
      "text/plain": [
       "        s    b    c     p        B      W    β    pr  AS_frequency  \\\n",
       "0     1.0  4.0  1.0  0.00  10000.0  100.0  0.1  1.00           1.0   \n",
       "1     1.0  4.0  1.0  0.02  10000.0  100.0  0.1  0.98           1.0   \n",
       "2     1.0  4.0  1.0  0.04  10000.0  100.0  0.1  0.96           1.0   \n",
       "3     1.0  4.0  1.0  0.06  10000.0  100.0  0.1  0.94           1.0   \n",
       "4     1.0  4.0  1.0  0.08  10000.0  100.0  0.1  0.92           1.0   \n",
       "...   ...  ...  ...   ...      ...    ...  ...   ...           ...   \n",
       "2086  5.0  4.0  1.0  0.92  10000.0  100.0  0.1  0.08           0.0   \n",
       "2087  5.0  4.0  1.0  0.94  10000.0  100.0  0.1  0.06           0.0   \n",
       "2088  5.0  4.0  1.0  0.96  10000.0  100.0  0.1  0.04           0.0   \n",
       "2089  5.0  4.0  1.0  0.98  10000.0  100.0  0.1  0.02           0.0   \n",
       "2090  5.0  4.0  1.0  1.00  10000.0  100.0  0.1  0.00           0.0   \n",
       "\n",
       "      AU_frequency  \n",
       "0              0.0  \n",
       "1              0.0  \n",
       "2              0.0  \n",
       "3              0.0  \n",
       "4              0.0  \n",
       "...            ...  \n",
       "2086           1.0  \n",
       "2087           1.0  \n",
       "2088           1.0  \n",
       "2089           1.0  \n",
       "2090           1.0  \n",
       "\n",
       "[2091 rows x 10 columns]"
      ]
     },
     "execution_count": null,
     "metadata": {},
     "output_type": "execute_result"
    }
   ],
   "source": [
    "#| export\n",
    "#| hide-input\n",
    "df"
   ]
  },
  {
   "cell_type": "markdown",
   "id": "34e3817d-f2b1-4b1c-a91b-c81c9e6fd7f0",
   "metadata": {},
   "source": [
    "### Visualise the results"
   ]
  },
  {
   "cell_type": "markdown",
   "id": "7b4ec6b8-18a4-42c8-8ed2-22b5a8cb0fd4",
   "metadata": {},
   "source": [
    "I am using the [Matplotlib](https://matplotlib.org/stable/index.html) library to visualize our data."
   ]
  },
  {
   "cell_type": "markdown",
   "id": "f4d4b10d-ca62-403e-b08f-e2f9dfd25d25",
   "metadata": {},
   "source": [
    "#| hide\n",
    "\n",
    ":::{.callout-note}\n",
    "Note that there are five types of callouts, including: \n",
    "`note`, `tip`, `warning`, `caution`, and `important`.\n",
    ":::"
   ]
  },
  {
   "cell_type": "code",
   "execution_count": null,
   "id": "8986e9da-dc79-443d-b575-e673106c91f0",
   "metadata": {},
   "outputs": [],
   "source": [
    "#| hide\n",
    "sns.set_theme(style='darkgrid',palette='deep' ,font='sans-serif', font_scale=1.4)\n",
    "plt.rcParams[\"axes.grid\"] = False"
   ]
  },
  {
   "cell_type": "code",
   "execution_count": null,
   "id": "31a3a581-d18d-44b6-8980-beedbddfb39d",
   "metadata": {},
   "outputs": [
    {
     "data": {
      "image/png": "[encoded data removed]",
      "text/plain": [
       "<Figure size 640x480 with 2 Axes>"
      ]
     },
     "metadata": {},
     "output_type": "display_data"
    }
   ],
   "source": [
    "#| echo:false\n",
    "table = df.pivot_table(index='pr', columns='s', values='AU_frequency')\n",
    "\n",
    "heatmap, ax = plt.subplots()\n",
    "im = ax.imshow(table.values,\n",
    "               cmap='inferno',\n",
    "               extent=[table.columns.min(),\n",
    "                       table.columns.max(),\n",
    "                       table.index.min(),\n",
    "                       table.index.max()],\n",
    "               interpolation='nearest',\n",
    "               origin='lower',\n",
    "               aspect='auto')\n",
    "ax.set(xlabel='Speed avantage, s',\n",
    "       ylabel='Risk of an AI disaster, pr')\n",
    "\n",
    "cbar = heatmap.colorbar(im)\n",
    "cbar.ax.set_ylabel('AU Frequency');"
   ]
  },
  {
   "cell_type": "code",
   "execution_count": null,
   "id": "80dc11b7-2058-4e36-9e36-1878b5406d16",
   "metadata": {},
   "outputs": [
    {
     "data": {
      "image/png": "[encoded data removed]",
      "text/plain": [
       "<Figure size 640x480 with 1 Axes>"
      ]
     },
     "metadata": {},
     "output_type": "display_data"
    }
   ],
   "source": [
    "#| echo:false\n",
    "dfplot2 = df[df.s==1.5]\n",
    "x = dfplot2.pr.values\n",
    "y1 = dfplot2.AU_frequency.values\n",
    "y2 = dfplot2.AS_frequency.values\n",
    "\n",
    "fig, ax = plt.subplots()\n",
    "ax.stackplot(x,\n",
    "             [y1, y2],\n",
    "             labels=['AU', 'AS'],\n",
    "             alpha=0.8)\n",
    "ax.legend(loc='upper left')\n",
    "ax.set_title('Strategy distribution')\n",
    "ax.set_xlabel('Risk of an AI disaster, pr')\n",
    "ax.set_ylabel('Proportion');"
   ]
  },
  {
   "cell_type": "markdown",
   "id": "b673a3ec-e041-49ec-a938-6871a7d3803d",
   "metadata": {},
   "source": [
    "#| hide\n",
    "\n",
    "### Explain the patterns observed"
   ]
  },
  {
   "cell_type": "markdown",
   "id": "17a55edf-d4cc-4f89-90ac-35c6af087d5a",
   "metadata": {},
   "source": [
    "#| hide\n",
    "\n",
    "# References"
   ]
  },
  {
   "cell_type": "code",
   "execution_count": null,
   "id": "2c50b416-290c-4b5a-ab60-4a84f50f24c9",
   "metadata": {},
   "outputs": [],
   "source": [
    "#| hide\n",
    "import nbdev; nbdev.nbdev_export()"
   ]
  }
 ],
 "metadata": {
  "kernelspec": {
   "display_name": "Python 3 (ipykernel)",
   "language": "python",
   "name": "python3"
  }
 },
 "nbformat": 4,
 "nbformat_minor": 5
}
