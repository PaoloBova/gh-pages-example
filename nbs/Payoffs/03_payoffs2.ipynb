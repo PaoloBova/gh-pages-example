{
 "cells": [
  {
   "cell_type": "markdown",
   "metadata": {},
   "source": [
    "# Payoff Matrices (part 2)\n",
    "\n",
    "> This module contains payoff matrices for different evolutionary games\n",
    ">\n",
    "> Part 2 contains payoff matrices for the following games\n",
    "> - Encanacao et al. 2016\n",
    "> - Vasconcelos et al. 2014"
   ]
  },
  {
   "cell_type": "code",
   "execution_count": 10,
   "metadata": {},
   "outputs": [],
   "source": [
    "#| default_exp `dummy_exp`"
   ]
  },
  {
   "cell_type": "code",
   "execution_count": 11,
   "metadata": {},
   "outputs": [],
   "source": [
    "#| hide\n",
    "# We could like to export all payoff matrices to the same module, `payoffs`.\n",
    "# However,  we must set a default_exp and if we use the same module as\n",
    "# another notebook, we will overwrite all existing exports with those in\n",
    "# this file. Hence we set a dummy default_exp, `dummy_exp`, and each time\n",
    "# we export a cell, we specify the `payoffs` module."
   ]
  },
  {
   "cell_type": "code",
   "execution_count": 12,
   "metadata": {},
   "outputs": [],
   "source": [
    "#| hide\n",
    "#| export\n",
    "from nbdev.showdoc import *\n",
    "from fastcore.test import test_eq, test_close\n",
    "from gh_pages_example.utils import *\n",
    "from gh_pages_example.types import *\n",
    "import typing\n",
    "\n",
    "import fastcore.test\n",
    "import numpy as np\n",
    "import nptyping"
   ]
  },
  {
   "cell_type": "code",
   "execution_count": 13,
   "metadata": {},
   "outputs": [],
   "source": [
    "np.set_printoptions(suppress=True) # don't use scientific notation"
   ]
  },
  {
   "cell_type": "code",
   "execution_count": 14,
   "metadata": {},
   "outputs": [],
   "source": [
    "#| export payoffs\n",
    "def payoffs_encanacao_2016(models):\n",
    "    names = ['b_r', 'b_s', 'c_s', 'c_t', 'σ']\n",
    "    b_r, b_s, c_s, c_t, σ = [models[k] for k in names]\n",
    "    payoffs = {}\n",
    "    n_players = 3\n",
    "    n_sectors = 3\n",
    "    n_strategies_per_sector = [2, 2, 2]\n",
    "    n_strategies_total = 6\n",
    "    index_min = \"0-0-0\" # All players are from the first sector, playing that sector's first strategy\n",
    "    index_max = \"5-5-5\" # All players are from the third sector, playing that sector's second strategy\n",
    "    # Note: The seperator makes it easy to represent games where n_strategies_total >= 10.\n",
    "    \n",
    "    # It is also trivial to define a vector which maps these indexes to strategy profiles\n",
    "    # As sector order is fixed we could neglect to mention suscripts for each sector\n",
    "    strategy_names = [\"D\", \"C\", \"D\", \"C\", \"D\", \"C\"]\n",
    "    \n",
    "    zero = np.zeros(b_r.shape[0])\n",
    "    # As in the main text\n",
    "    payoffs[\"C-C-C\"] = {\"P3\": b_r-2*c_s,\n",
    "                        \"P2\": σ+b_s-c_t,\n",
    "                        \"P1\": σ+b_s}\n",
    "    payoffs[\"C-C-D\"] = {\"P3\": -c_s,\n",
    "                        \"P2\": b_s-c_t,\n",
    "                        \"P1\": zero}\n",
    "    payoffs[\"C-D-C\"] = {\"P3\": b_r-c_s,\n",
    "                        \"P2\": zero,\n",
    "                        \"P1\": b_s}\n",
    "    payoffs[\"C-D-D\"] = {\"P3\": zero,\n",
    "                        \"P2\": σ,\n",
    "                        \"P1\": σ}\n",
    "    payoffs[\"D-C-C\"] = {\"P3\": zero,\n",
    "                        \"P2\": σ-c_t,\n",
    "                        \"P1\": σ}\n",
    "    payoffs[\"D-C-D\"] = {\"P3\": zero,\n",
    "                        \"P2\": -c_t,\n",
    "                        \"P1\": zero}\n",
    "    payoffs[\"D-D-C\"] = {\"P3\": zero,\n",
    "                        \"P2\": zero,\n",
    "                        \"P1\": zero}\n",
    "    payoffs[\"D-D-D\"] = {\"P3\": zero,\n",
    "                        \"P2\": σ,\n",
    "                        \"P1\": σ}\n",
    "    \n",
    "    # The following indexes capture all strategy profiles where each player is fixed to a unique sector\n",
    "    # (and player order does not matter, so we need only consider one ordering of sectors).\n",
    "    payoffs[\"4-2-0\"] = payoffs[\"D-D-D\"]\n",
    "    payoffs[\"4-2-1\"] = payoffs[\"D-D-C\"]\n",
    "    payoffs[\"4-3-0\"] = payoffs[\"D-C-D\"]\n",
    "    payoffs[\"4-3-1\"] = payoffs[\"D-C-C\"]\n",
    "    payoffs[\"5-2-0\"] = payoffs[\"C-D-D\"]\n",
    "    payoffs[\"5-2-1\"] = payoffs[\"C-D-C\"]\n",
    "    payoffs[\"5-3-0\"] = payoffs[\"C-C-D\"]\n",
    "    payoffs[\"5-3-1\"] = payoffs[\"C-C-C\"]\n",
    "    return {**models, \"payoffs\": payoffs}"
   ]
  },
  {
   "cell_type": "markdown",
   "metadata": {},
   "source": [
    "## Vasconselos et al. 2014"
   ]
  },
  {
   "cell_type": "markdown",
   "metadata": {},
   "source": [
    "They introduce a model of a Collective Risk Dilemma. It is a variant of the\n",
    "public goods game where players must achieve a target level of contributions\n",
    "to avoid risking a disaster which destroys the group's endowments.\n",
    "\n",
    "We compute payoffs when players contribute $0$ or a fixed $c$ proportion of\n",
    "their endowment as a contribution in\n",
    "a game with up to $n$ participants. To do this, we compute the payoffs as a\n",
    "function of the number of contributors, then use that function for each\n",
    "relevant strategy profile."
   ]
  },
  {
   "cell_type": "code",
   "execution_count": 15,
   "metadata": {},
   "outputs": [],
   "source": [
    "@multi\n",
    "def build_payoffs(models:dict):\n",
    "    return models.get('payoffs_key')\n",
    "\n",
    "@method(build_payoffs, 'vasconcelos_2014_primitives')\n",
    "def build_payoffs(models:dict):\n",
    "    names = ['payoffs_state', 'c', 'T', 'b_r', 'b_p', 'r']\n",
    "    payoffs_state, c, T, b_r, b_p, r = [models[k] for k in names]\n",
    "    strategy_counts = payoffs_state['strategy_counts']\n",
    "    n_r = strategy_counts[\"2\"]\n",
    "    n_p = strategy_counts[\"4\"]\n",
    "    risk = r * (n_r * c * b_r + n_p * c * b_p < T)\n",
    "    # The payoffs must be computed for each strategy type in the interaction.\n",
    "    # In games where we employ hypergeometric sampling, we usually do not\n",
    "    # care about player order in the interaction. If order did matter, then\n",
    "    # we would represent the payoffs per strategy still but it would capture\n",
    "    # the expected payoffs given how likely a player of that strategy was to\n",
    "    # play in each node of the extensive-form game. Non-players of type 0\n",
    "    # usually do not have payoffs.\n",
    "    payoffs = {\"1\": (1 - risk) * b_r,  # rich_free_rider\n",
    "               \"2\": (1 - risk) * c * b_r,  # rich_contributor\n",
    "               \"3\": (1 - risk) * b_p,  # poor_free_rider\n",
    "               \"4\": (1 - risk) * c * b_p}  # poor_contributor\n",
    "    return {**models, \"payoff_primitives\": payoffs}\n",
    "\n",
    "@method(build_payoffs, 'vasconcelos_2014')\n",
    "def build_payoffs(models:dict):\n",
    "    profiles = create_all_profiles({'n_players': models.get('n_players', 5),\n",
    "                                    'n_strategies': [2, 2]})['profiles']\n",
    "    payoffs = {}\n",
    "    for profile in profiles:\n",
    "        profile_tuple = thread_macro(profile,\n",
    "                                    (str.split, \"-\"),\n",
    "                                    (map, int, \"self\"),\n",
    "                                    list,\n",
    "                                    reversed,\n",
    "                                    list,\n",
    "                                    np.array,\n",
    "                                    )\n",
    "        strategy_counts = {f\"{i}\": np.sum(profile_tuple == i) for i in range(5)}\n",
    "        payoffs_state = {'strategy_counts': strategy_counts}\n",
    "        primitives = thread_macro(models,\n",
    "                                  (assoc,\n",
    "                                  'payoffs_state', payoffs_state,\n",
    "                                  'payoffs_key', \"vasconcelos_2014_primitives\"),\n",
    "                                  build_payoffs,\n",
    "                                  (get, \"payoff_primitives\"),\n",
    "                                  )\n",
    "        payoffs[profile] = {}\n",
    "        for i, strategy in enumerate(profile_tuple):\n",
    "            if strategy == 0:\n",
    "                continue\n",
    "            elif strategy == 1:\n",
    "                payoffs[profile][f\"P{i+1}\"] = primitives['1']\n",
    "            elif strategy == 2:\n",
    "                payoffs[profile][f\"P{i+1}\"] = primitives['2']\n",
    "            elif strategy == 3:\n",
    "                payoffs[profile][f\"P{i+1}\"] = primitives['3']\n",
    "            elif strategy == 4:\n",
    "                payoffs[profile][f\"P{i+1}\"] = primitives['4']\n",
    "            else:\n",
    "                continue\n",
    "    return {**models, \"payoffs\": payoffs}"
   ]
  },
  {
   "cell_type": "markdown",
   "metadata": {},
   "source": [
    "Here are a few simple tests of the payoff primitives for their model."
   ]
  },
  {
   "cell_type": "code",
   "execution_count": 16,
   "metadata": {},
   "outputs": [],
   "source": [
    "models = {'payoffs_state': {'strategy_counts': {\"2\": 2,\n",
    "                                                \"4\": 4}},\n",
    "          'c': 0.5,\n",
    "          'T': 2,\n",
    "          'b_r': 4,\n",
    "          'b_p': 2,\n",
    "          'r': 0.5,\n",
    "          'payoffs_key': 'vasconcelos_2014_primitives'}\n",
    "models = build_payoffs(models)\n",
    "fastcore.test.test_eq(models['payoff_primitives'],\n",
    "                      {'1': 4,\n",
    "                       '2': 2,\n",
    "                       '3': 2,\n",
    "                       '4': 1})\n",
    "models = {**models, \n",
    "          'payoffs_state': {'strategy_counts': {\"2\": 0,\n",
    "                                                \"4\": 1}},}\n",
    "models = build_payoffs(models)\n",
    "fastcore.test.test_eq(models['payoff_primitives'],\n",
    "                      {'1': 2,\n",
    "                       '2': 1,\n",
    "                       '3': 1,\n",
    "                       '4': 0.5})"
   ]
  },
  {
   "cell_type": "markdown",
   "metadata": {},
   "source": [
    "We quickly check that we can generate payoffs for each of the 5**5 possible\n",
    "interactions in their model."
   ]
  },
  {
   "cell_type": "code",
   "execution_count": 17,
   "metadata": {},
   "outputs": [],
   "source": [
    "models = {'c': 0.5,\n",
    "          'T': 2,\n",
    "          'b_r': 4,\n",
    "          'b_p': 2,\n",
    "          'r': 0.5,\n",
    "          'payoffs_key': 'vasconcelos_2014'}\n",
    "models = build_payoffs(models)\n",
    "fastcore.test.test_eq(len(models['payoffs']), 5**5)"
   ]
  },
  {
   "cell_type": "markdown",
   "metadata": {},
   "source": [
    "If we are unwilling to use the 5**5 possible strategy profiles for computing\n",
    "the transition matrices for the evolutionary system, we can always restrict\n",
    "our attention to the payoffs given the number of contributors from each sector.\n",
    "We often use hypergeometric sampling anyways when computing the success of\n",
    "each strategy in the evolutionary system.\n",
    "\n",
    "Note: we have yet to create a general method for hypergeometric sampling when\n",
    "computing the success of an arbitrary model."
   ]
  },
  {
   "cell_type": "code",
   "execution_count": 18,
   "metadata": {},
   "outputs": [],
   "source": [
    "#| hide\n",
    "import nbdev; nbdev.nbdev_export()"
   ]
  }
 ],
 "metadata": {
  "kernelspec": {
   "display_name": "Python 3.10.6 ('base')",
   "language": "python",
   "name": "python3"
  },
  "language_info": {
   "name": "python",
   "version": "3.10.6"
  },
  "vscode": {
   "interpreter": {
    "hash": "5844494aa8caf4c1a0a05d85746d5381f91a25fadc32ae63a73a248c881db361"
   }
  }
 },
 "nbformat": 4,
 "nbformat_minor": 2
}
