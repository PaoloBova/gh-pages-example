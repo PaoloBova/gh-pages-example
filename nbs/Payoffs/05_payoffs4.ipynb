{
 "cells": [
  {
   "attachments": {},
   "cell_type": "markdown",
   "metadata": {},
   "source": [
    "# Payoff Matrices (part 4)\n",
    "\n",
    "> This module contains payoff matrices for different evolutionary games\n",
    ">\n",
    "> Part 4 contains payoff matrices for the following games\n",
    "> - A public threat level model of AI races"
   ]
  },
  {
   "cell_type": "code",
   "execution_count": 1,
   "metadata": {},
   "outputs": [],
   "source": [
    "# | default_exp `dummy_exp_2`\n"
   ]
  },
  {
   "cell_type": "code",
   "execution_count": 2,
   "metadata": {},
   "outputs": [],
   "source": [
    "# | hide\n",
    "# We could like to export all payoff matrices to the same module, `payoffs`.\n",
    "# However,  we must set a default_exp and if we use the same module as\n",
    "# another notebook, we will overwrite all existing exports with those in\n",
    "# this file. Hence we set a dummy default_exp, `dummy_exp`, and each time\n",
    "# we export a cell, we specify the `payoffs` module.\n"
   ]
  },
  {
   "cell_type": "code",
   "execution_count": 3,
   "metadata": {},
   "outputs": [
    {
     "name": "stderr",
     "output_type": "stream",
     "text": [
      "/home/ethos/git/gh-pages-example/gh_pages_example/model_utils.py:299: FutureWarning: elementwise comparison failed; returning scalar instead, but in the future will perform elementwise comparison\n",
      "  if (ind not in allowed_inds) and (str(ind) not in allowed_inds):\n",
      "/home/ethos/git/gh-pages-example/gh_pages_example/methods.py:260: ComplexWarning: Casting complex values to real discards the imaginary part\n",
      "  ergodic = np.array(V.transpose(0, 2, 1)[y], dtype=float)\n"
     ]
    },
    {
     "ename": "NameError",
     "evalue": "name 'build_payoffs' is not defined",
     "output_type": "error",
     "traceback": [
      "\u001b[0;31m---------------------------------------------------------------------------\u001b[0m",
      "\u001b[0;31mNameError\u001b[0m                                 Traceback (most recent call last)",
      "Cell \u001b[0;32mIn[3], line 11\u001b[0m\n\u001b[1;32m      9\u001b[0m \u001b[39mfrom\u001b[39;00m \u001b[39mgh_pages_example\u001b[39;00m\u001b[39m.\u001b[39;00m\u001b[39mmethods\u001b[39;00m \u001b[39mimport\u001b[39;00m \u001b[39m*\u001b[39m\n\u001b[1;32m     10\u001b[0m \u001b[39mfrom\u001b[39;00m \u001b[39mgh_pages_example\u001b[39;00m\u001b[39m.\u001b[39;00m\u001b[39mmodel_utils\u001b[39;00m \u001b[39mimport\u001b[39;00m \u001b[39m*\u001b[39m\n\u001b[0;32m---> 11\u001b[0m \u001b[39mfrom\u001b[39;00m \u001b[39mgh_pages_example\u001b[39;00m\u001b[39m.\u001b[39;00m\u001b[39mpayoffs\u001b[39;00m \u001b[39mimport\u001b[39;00m \u001b[39m*\u001b[39m\n\u001b[1;32m     12\u001b[0m \u001b[39mimport\u001b[39;00m \u001b[39mcopy\u001b[39;00m\n\u001b[1;32m     13\u001b[0m \u001b[39mimport\u001b[39;00m \u001b[39mitertools\u001b[39;00m\n",
      "File \u001b[0;32m~/git/gh-pages-example/gh_pages_example/payoffs.py:266\u001b[0m\n\u001b[1;32m    263\u001b[0m     \u001b[39mreturn\u001b[39;00m {\u001b[39m*\u001b[39m\u001b[39m*\u001b[39mmodels, \u001b[39m'\u001b[39m\u001b[39mpayoffs\u001b[39m\u001b[39m'\u001b[39m:matrix}\n\u001b[1;32m    265\u001b[0m \u001b[39m# %% ../nbs/Payoffs/05_payoffs4.ipynb 5\u001b[39;00m\n\u001b[0;32m--> 266\u001b[0m \u001b[39m@method\u001b[39m(build_payoffs, \u001b[39m\"\u001b[39m\u001b[39mdsair_with_punishment_v1\u001b[39m\u001b[39m\"\u001b[39m)\n\u001b[1;32m    267\u001b[0m \u001b[39mdef\u001b[39;00m \u001b[39mbuild_payoffs\u001b[39m(models):\n\u001b[1;32m    268\u001b[0m \u001b[39m    \u001b[39m\u001b[39m\"\"\"The payoffs of a DSAIR race where punishments are levied.\"\"\"\u001b[39;00m\n\u001b[1;32m    269\u001b[0m     names1 \u001b[39m=\u001b[39m [\u001b[39m'\u001b[39m\u001b[39mb\u001b[39m\u001b[39m'\u001b[39m, \u001b[39m'\u001b[39m\u001b[39mc\u001b[39m\u001b[39m'\u001b[39m, \u001b[39m'\u001b[39m\u001b[39ms\u001b[39m\u001b[39m'\u001b[39m, \u001b[39m'\u001b[39m\u001b[39mp\u001b[39m\u001b[39m'\u001b[39m, \u001b[39m'\u001b[39m\u001b[39mB\u001b[39m\u001b[39m'\u001b[39m, \u001b[39m'\u001b[39m\u001b[39mW\u001b[39m\u001b[39m'\u001b[39m]\n",
      "\u001b[0;31mNameError\u001b[0m: name 'build_payoffs' is not defined"
     ]
    }
   ],
   "source": [
    "# | hide\n",
    "# | export\n",
    "from nbdev.showdoc import *\n",
    "from fastcore.test import test_eq, test_close\n",
    "import collections\n",
    "import functools\n",
    "from gh_pages_example.utils import *\n",
    "from gh_pages_example.types import *\n",
    "from gh_pages_example.methods import *\n",
    "from gh_pages_example.model_utils import *\n",
    "from gh_pages_example.payoffs import *\n",
    "import copy\n",
    "import itertools\n",
    "import math\n",
    "import typing\n",
    "\n",
    "import fastcore.test\n",
    "import more_itertools\n",
    "import numpy as np\n",
    "import nptyping\n"
   ]
  },
  {
   "cell_type": "code",
   "execution_count": null,
   "metadata": {},
   "outputs": [],
   "source": [
    "np.set_printoptions(suppress=True)  # don't use scientific notation"
   ]
  },
  {
   "cell_type": "code",
   "execution_count": null,
   "metadata": {},
   "outputs": [],
   "source": [
    "# | export payoffs\n",
    "@method(build_payoffs, \"dsair_with_punishment_v1\")\n",
    "def build_payoffs(models):\n",
    "    \"\"\"The payoffs of a DSAIR race where punishments are levied.\"\"\"\n",
    "    names1 = ['b', 'c', 's', 'p', 'B', 'W']\n",
    "    names2 = ['pfo_l', 'pfo_h', 'λ', 'r_l', 'r_h', 'g']\n",
    "    b, c, s, p, B, W = [models[k] for k in names1]\n",
    "    pfo_l, pfo_h, λ, r_l, r_h, g = [models[k] for k in names2]\n",
    "    collective_risk = models.get('collective_risk', 0)\n",
    "    risk_shared = (1 - (1-p)*collective_risk)\n",
    "    mix = models.get('incentive_mix', 0)\n",
    "    \n",
    "    k = models.get('decisiveness', 100)\n",
    "    # Speed impact of regulators when they catch 1 or 2 safety violators\n",
    "    phi_h = models.get('phi_h', 1/s)\n",
    "    phi2_h = models.get('phi2_h,', 1/s)\n",
    "    phi_l = models.get('phi_l', 1/s)\n",
    "    phi2_l = models.get('phi2_l', 1/s)\n",
    "    # Tullock contest to determine which firm wins after\n",
    "    # one safety violator is caught\n",
    "    caught_loses_h = ((s * phi_h)**k + 1)**(-1)\n",
    "    caught_loses_l = ((s * phi_l)**k + 1)**(-1)\n",
    "    # Tullock contest to determine whether any firm wins if they are both\n",
    "    # safety violators who were caught by the regulator\n",
    "    both_caught_fail_h = ((s * phi2_h)**k + 1)**(-1)\n",
    "    both_caught_fail_l = ((s * phi2_l)**k + 1)**(-1)\n",
    "    \n",
    "    Π_h11 = B / (2*W) + b/2 - c\n",
    "    Π_h12 = ((1 - pfo_h) * b / (s+1) * risk_shared\n",
    "             + pfo_h * caught_loses_h * (b + B / W)\n",
    "             - c)\n",
    "    Π_h21 = (p * (1 - pfo_h) * (s*b / (s + 1) + s * B / W)\n",
    "             + (pfo_h * (1 - caught_loses_h)\n",
    "                * B / W))\n",
    "    Π_h22 = (p * (1 - pfo_h**2) * (b/2 + s*B/(2*W)) * risk_shared\n",
    "             + (pfo_h**2 * (1 - both_caught_fail_h)\n",
    "                * B/(2*W)))\n",
    "    \n",
    "    payoffs = {}\n",
    "    payoffs['1-1'] = {'P1': Π_h11,\n",
    "                      'P2': Π_h11}\n",
    "    payoffs['1-2'] =  {'P1': Π_h21,\n",
    "                       'P2': Π_h12}\n",
    "    payoffs['2-1'] =  {'P1': Π_h12,\n",
    "                       'P2': Π_h21}\n",
    "    payoffs['2-2'] =  {'P1': Π_h22,\n",
    "                       'P2': Π_h22}\n",
    "    \n",
    "    return {**models, \"payoffs\": payoffs}\n"
   ]
  },
  {
   "cell_type": "code",
   "execution_count": null,
   "metadata": {},
   "outputs": [],
   "source": [
    "# | export payoffs\n",
    "@method(build_payoffs, \"public_threat_level_v1\")\n",
    "def build_payoffs(models):\n",
    "    \"\"\"The payoffs of a DSAIR race where punishments are levied when\n",
    "    the public threat level is sufficiently high. The public threat\n",
    "    level depends on the state of the population.\"\"\"\n",
    "    models1 = copy.deepcopy(models)\n",
    "    models2 = copy.deepcopy(models)\n",
    "    models1['phi_h'] = models.get('phi_h', 1/models[\"s\"])\n",
    "    models2['phi_h'] = models.get('phi_h', 1)\n",
    "    payoffs1 = thread_macro({**models1,\n",
    "                             \"payoffs-key\": \"dsair_with_punishment_v1\",},\n",
    "                            build_payoffs,\n",
    "                            (get, \"payoffs\"))\n",
    "    payoffs2 = thread_macro({**models2,\n",
    "                             \"payoffs-key\": \"dsair_with_punishment_v1\",},\n",
    "                            build_payoffs,\n",
    "                            (get, \"payoffs\"))\n",
    "    payoffs = {\"severity-1\": payoffs1, \"severity-2\": payoffs2}\n",
    "    return {**models, \"payoffs\": payoffs}\n",
    "\n",
    "@multi\n",
    "def evaluate_payoffs(models):\n",
    "    return models.get(\"payoffs_key\")\n",
    "\n",
    "@method(evaluate_payoffs, \"public_threat_level_v1\")\n",
    "def evaluate_payoffs(models):\n",
    "    names1 = [\"profile\", \"player\", \"payoffs\", \"population_state\"]\n",
    "    names2 = [\"Z\", \"severity\"]\n",
    "    profile, player, payoffs, population_state = [models[k] for k in names1]\n",
    "    Z, severity = [models[k] for k in names2]\n",
    "    strategy_counts = population_state['strategy_counts']\n",
    "    unsafe_frequency = strategy_counts.get(\"1\", 0)\n",
    "    if unsafe_frequency > severity * Z[\"S1\"]:\n",
    "        payoffs = payoffs[\"severity-1\"]\n",
    "    else:\n",
    "        payoffs = payoffs[\"severity-2\"]\n",
    "    return payoffs[profile][player]"
   ]
  },
  {
   "cell_type": "code",
   "execution_count": null,
   "metadata": {},
   "outputs": [],
   "source": []
  },
  {
   "cell_type": "code",
   "execution_count": 7,
   "metadata": {},
   "outputs": [],
   "source": [
    "# | hide\n",
    "import nbdev\n",
    "nbdev.nbdev_export()\n"
   ]
  }
 ],
 "metadata": {
  "kernelspec": {
   "display_name": "base",
   "language": "python",
   "name": "python3"
  },
  "language_info": {
   "codemirror_mode": {
    "name": "ipython",
    "version": 3
   },
   "file_extension": ".py",
   "mimetype": "text/x-python",
   "name": "python",
   "nbconvert_exporter": "python",
   "pygments_lexer": "ipython3",
   "version": "3.10.8"
  },
  "orig_nbformat": 4,
  "vscode": {
   "interpreter": {
    "hash": "b43365c91fa606555fcc696a7d6bcbc24abaca9a551987b870a6a0f0620f14e2"
   }
  }
 },
 "nbformat": 4,
 "nbformat_minor": 2
}
