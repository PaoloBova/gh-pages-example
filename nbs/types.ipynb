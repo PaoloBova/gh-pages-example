{
 "cells": [
  {
   "cell_type": "markdown",
   "id": "8c95a06d-0c51-49dc-a7e7-efbe7674abf3",
   "metadata": {},
   "source": [
    "# Types\n",
    "\n",
    "> A collection of type aliases I use for documenting arguments used throughout the project"
   ]
  },
  {
   "cell_type": "code",
   "execution_count": null,
   "id": "b9c84d94-798c-4b01-a422-bc2217d1028c",
   "metadata": {},
   "outputs": [],
   "source": [
    "#| default_exp types"
   ]
  },
  {
   "cell_type": "code",
   "execution_count": null,
   "id": "550f9cf1-6f5f-4857-ac2f-3c8a314bcec8",
   "metadata": {},
   "outputs": [],
   "source": [
    "#| export\n",
    "import typing\n",
    "import nptyping"
   ]
  },
  {
   "cell_type": "code",
   "execution_count": null,
   "id": "7f40cac8-6459-4157-bebf-9a23e29e8b6a",
   "metadata": {},
   "outputs": [],
   "source": [
    "#| export\n",
    "class Array1D():\n",
    "    \"\"\"An alias for a 1D numpy array.\"\"\"\n",
    "    def __init__(self,\n",
    "                 ModelVector: nptyping.NDArray[nptyping.Shape[\"N_models\"], typing.Any] # A 1D numpy array suitable for stacks of scalar parameter values\n",
    "                ):\n",
    "        pass"
   ]
  },
  {
   "cell_type": "code",
   "execution_count": null,
   "id": "07e5e633-5bd8-46bd-a9ed-e189422977e1",
   "metadata": {},
   "outputs": [],
   "source": [
    "#| export\n",
    "class Array2D():\n",
    "    \"\"\"An alias for a 2D numpy array.\"\"\"\n",
    "    def __init__(self,\n",
    "                Model2DArray: nptyping.NDArray[nptyping.Shape[\"N_models, N_states\"], typing.Any], # A 2D numpy array suitable for stacks of state vectors\n",
    "                ):\n",
    "        pass"
   ]
  },
  {
   "cell_type": "code",
   "execution_count": null,
   "id": "ed39414c-36e5-4ac7-a9a1-bc2beef8101d",
   "metadata": {},
   "outputs": [],
   "source": [
    "#| export\n",
    "class Array3D():\n",
    "    \"\"\"An alias for 3D numpy array, last two dimensions of equal size.\"\"\"\n",
    "    def __init__(self,\n",
    "                Model3DArray: nptyping.NDArray[nptyping.Shape[\"N_models, N_strategies, N_strategies\"], typing.Any] # A 3D numpy array suitable for stacks of payoff or transition matrices \n",
    "                ):\n",
    "        pass"
   ]
  },
  {
   "cell_type": "markdown",
   "id": "eaf402c5-f72d-42db-b8c1-bccf8cc59034",
   "metadata": {},
   "source": [
    "## Notebook Footer"
   ]
  },
  {
   "cell_type": "code",
   "execution_count": null,
   "id": "707cfe49-da89-4714-b6f6-ab7f29203cf7",
   "metadata": {},
   "outputs": [],
   "source": [
    "#| hide\n",
    "import nbdev; nbdev.nbdev_export()"
   ]
  }
 ],
 "metadata": {
  "kernelspec": {
   "display_name": "Python 3 (ipykernel)",
   "language": "python",
   "name": "python3"
  }
 },
 "nbformat": 4,
 "nbformat_minor": 5
}
