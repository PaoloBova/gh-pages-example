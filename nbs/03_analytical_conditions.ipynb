{
 "cells": [
  {
   "cell_type": "markdown",
   "id": "a99a3c63-f12b-4591-9509-d6c3448067e0",
   "metadata": {},
   "source": [
    "# Analytical conditions \n",
    "\n",
    "> A set of functions for expressing analytical conditions which are used to analyse the evolutionary models"
   ]
  },
  {
   "cell_type": "code",
   "execution_count": null,
   "id": "6f9f960d-3a36-4afc-a730-390a556c5e0b",
   "metadata": {},
   "outputs": [],
   "source": [
    "#| default_exp conditions"
   ]
  },
  {
   "cell_type": "code",
   "execution_count": null,
   "id": "c10db33a-6897-4226-96ea-f761dd8b47c7",
   "metadata": {},
   "outputs": [],
   "source": [
    "#| hide\n",
    "#| export\n",
    "from nbdev.showdoc import *\n",
    "from fastcore.test import test_eq\n",
    "from gh_pages_example.utils import *\n",
    "import typing\n",
    "\n",
    "import numpy as np\n",
    "import nptyping"
   ]
  },
  {
   "cell_type": "markdown",
   "id": "d24313d0-4a95-41a5-ae1d-a930cd2de522",
   "metadata": {},
   "source": [
    "## DSAIR models"
   ]
  },
  {
   "cell_type": "markdown",
   "id": "8b6ca8d5-28e7-4aa2-8e99-195f7daed75f",
   "metadata": {},
   "source": [
    "### DSAIR when Always Safe is collectively prefferred against Always Unsafe"
   ]
  },
  {
   "cell_type": "markdown",
   "id": "4bfaf14b-16a3-469c-a9ed-db676631b2cf",
   "metadata": {},
   "source": [
    "An equilibrium is collectively preferred if the sum of the payoffs to all players is greater than the alternative.\n",
    "\n",
    "**$\\Pi$(Always Safe, Always Safe) > $\\Pi$(Always Unsafe, Always Unsafe)**\n",
    "\n",
    "Using the payoffs defined in `gh_pages_example.payoffs` we can rewrite the corresponding equality in terms of $(1 - p)$.\n",
    "\n",
    "\\begin{equation}\n",
    "p_{risk} = (1 - p) = 1 - \\frac{\\pi_{11} + \\frac{B}{2 W}}{ \\pi_{22} + \\frac{s B}{2 W}}\n",
    "\\end{equation}\n",
    "\n",
    "We will often use the boundary of this inequality in our analysis."
   ]
  },
  {
   "cell_type": "code",
   "execution_count": null,
   "id": "432973bb-4ec3-42ea-865f-de3d0ca85523",
   "metadata": {},
   "outputs": [],
   "source": [
    "#| export\n",
    "def threshold_society_prefers_safety_dsair(models):\n",
    "    \"\"\"The threhsold value of AI risk for which society prefers firms to be\n",
    "    Always Safe in the DSAIR model.\"\"\"\n",
    "    s, B, W = [models[k]\n",
    "               for k in ['s', 'B', 'W']]\n",
    "    πAA, πAB, πBA, πBB = [models['payoffs_sr'][:, i, j]\n",
    "                          for i in range(2) for j in range(2)]\n",
    "    p_risk = 1 - ((πAA + B / (2 * W))\n",
    "                  / (πBB + s * B / (2 * W)))\n",
    "    return {**models, \"threshold_society_prefers_safety\": p_risk}"
   ]
  },
  {
   "cell_type": "markdown",
   "id": "ca91f9d5-a616-4dbf-8040-4df25ba3439d",
   "metadata": {},
   "source": [
    "### DSAIR risk dominance of Always Safe against Always Unsafe"
   ]
  },
  {
   "cell_type": "markdown",
   "id": "9140e872-406e-4835-b7d9-ab057895e4b6",
   "metadata": {},
   "source": [
    "An equilibrium is selected by evolution in 2-by-2 matrix games if it is risk dominant. Risk dominance requires that:\n",
    "\n",
    "**$\\Pi$(Always Safe, Always Safe) +  $\\Pi$(Always Safe, Always Unsafe) > $\\Pi$(Always Unsafe, Always Safe) + $\\Pi$(Always Unsafe, Always Unsafe)**\n",
    "\n",
    "Using the payoffs defined in `gh_pages_example.payoffs` we can rewrite the corresponding equality in terms of $(1 - p)$.\n",
    "\n",
    "\\begin{equation}\n",
    "p_{risk} = (1 - p) = 1 - \\frac{\\pi_{11} + \\pi_{12} + \\frac{B}{2 W}}{\\pi_{21} + \\pi_{22} + \\frac{3 s B}{2 W}}\n",
    "\\end{equation}\n",
    "\n",
    "We will often use this boundary in our analysis."
   ]
  },
  {
   "cell_type": "code",
   "execution_count": null,
   "id": "6884d3a2-1e81-4421-93b5-f55fa0e30ea0",
   "metadata": {},
   "outputs": [],
   "source": [
    "#| export\n",
    "def threshold_risk_dominant_safety_dsair(models):\n",
    "    \"\"\"The threshold value of AI risk for which Always Safe is risk dominant\n",
    "    against Always Unsafe in the DSAIR model.\"\"\"\n",
    "    s, B, W = [models[k]\n",
    "               for k in ['s', 'B', 'W']]\n",
    "    πAA, πAB, πBA, πBB = [models['payoffs_sr'][:, i, j]\n",
    "                          for i in range(2) for j in range(2)]\n",
    "    p_risk = 1 - ((πAA + πAB + B / (2 * W))\n",
    "                  / (πBA + πBB + 3 * s * B / (2 * W)))\n",
    "    return {**models, \"threshold_risk_dominant_safety\": p_risk}"
   ]
  },
  {
   "cell_type": "code",
   "execution_count": null,
   "id": "f20b61c5-5ce0-47a3-a058-53bdb3e5ff18",
   "metadata": {},
   "outputs": [],
   "source": []
  }
 ],
 "metadata": {
  "kernelspec": {
   "display_name": "Python 3 (ipykernel)",
   "language": "python",
   "name": "python3"
  }
 },
 "nbformat": 4,
 "nbformat_minor": 5
}
