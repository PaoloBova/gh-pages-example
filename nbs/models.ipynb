{
 "cells": [
  {
   "attachments": {},
   "cell_type": "markdown",
   "metadata": {},
   "source": [
    "# Models\n",
    "\n",
    "> Set of models containing all parameter definitions"
   ]
  },
  {
   "cell_type": "code",
   "execution_count": 1,
   "metadata": {},
   "outputs": [],
   "source": [
    "#| default_exp models"
   ]
  },
  {
   "cell_type": "code",
   "execution_count": 2,
   "metadata": {},
   "outputs": [
    {
     "name": "stderr",
     "output_type": "stream",
     "text": [
      "/mnt/d/Paolo-Work/git/gh-pages-example/gh_pages_example/model_utils.py:289: FutureWarning: elementwise comparison failed; returning scalar instead, but in the future will perform elementwise comparison\n",
      "  if (ind not in allowed_inds) and (str(ind) not in allowed_inds):\n"
     ]
    }
   ],
   "source": [
    "#| hide\n",
    "#| export\n",
    "from gh_pages_example.model_utils import *\n",
    "from gh_pages_example.types import *\n",
    "from gh_pages_example.utils import *\n",
    "\n",
    "import typing\n",
    "\n",
    "import fastcore.test\n",
    "from nbdev.showdoc import *\n",
    "import nptyping\n",
    "import numpy as np"
   ]
  },
  {
   "attachments": {},
   "cell_type": "markdown",
   "metadata": {},
   "source": [
    "## Regulatory Market model"
   ]
  },
  {
   "cell_type": "code",
   "execution_count": 3,
   "metadata": {},
   "outputs": [],
   "source": [
    "#| export\n",
    "valid_dtypes = typing.Union[float, list[float], np.ndarray, dict]\n",
    "def build_reg_market(b:valid_dtypes=4, # benefit: The size of the per round benefit of leading the AI development race, b>0\n",
    "                c:valid_dtypes=1, # cost: The cost of implementing safety recommendations per round, c>0\n",
    "                s:valid_dtypes={\"start\":1, # speed: The speed advantage from choosing to ignore safety recommendations, s>1\n",
    "                                \"stop\":5.1,\n",
    "                                \"step\":0.1}, \n",
    "                p:valid_dtypes={\"start\":0, # avoid_risk: The probability that unsafe firms avoid an AI disaster, p ∈ [0, 1]\n",
    "                                \"stop\":1.02,\n",
    "                                \"step\":0.02}, \n",
    "                B:valid_dtypes=10**4, # prize: The size of the prize from winning the AI development race, B>>b\n",
    "                W:valid_dtypes=100, # timeline: The anticipated timeline until the development race has a winner if everyone behaves safely, W ∈ [10, 10**6]\n",
    "                pfo_l:valid_dtypes=0, # detection_risk_lq: The probability that firms who ignore safety precautions are found out by high quality regulators, pfo_h ∈ [0, 1]\n",
    "                pfo_h:valid_dtypes=0.5, # detection_risk_hq: The probability that firms who ignore safety precautions are found out by low quality regulators, pfo_h ∈ [0, 1]\n",
    "                λ:valid_dtypes=0, # disaster_penalty: The penalty levied to regulators in case of a disaster\n",
    "                r_l:valid_dtypes=0, # profit_lq: profits for low quality regulators before including government incentives, r_l ∈ R\n",
    "                r_h:valid_dtypes=-1, # profit_hq: profits for high quality regulators before including government incentives, r_h ∈ R\n",
    "                g:valid_dtypes=1, # government budget allocated to regulators per firm regulated, g > 0\n",
    "                phi_h:valid_dtypes=0, # regulator_impact: how much do regulators punish unsafe firms they detect, by default detected firms always lose the race.\n",
    "                phi2_h:valid_dtypes=0, # regulator_impact: how much do regulators punish 2 unsafe firms they detect, by default detected firms always lose the race.\n",
    "                externality:valid_dtypes=0, # externality: damage caused to society when an AI disaster occurs\n",
    "                decisiveness:valid_dtypes=1, # How decisive the race is after a regulator gets involved\n",
    "                incentive_mix:valid_dtypes=1, # Composition of incentives, by default government always pays regulator but rescinds payment if unsafe company discovered\n",
    "                collective_risk:valid_dtypes=0, # The likelihood that a disaster affects all actors\n",
    "                β:valid_dtypes=1, # learning_rate: the rate at which players imitate each other\n",
    "                Z:dict={\"S1\": 50, \"S2\": 50}, # population_size: the number of firms and regulators\n",
    "                strategy_set:list[str]=[\"HQ-AS\", \"HQ-AU\", \"HQ-VS\",\n",
    "                                        \"LQ-AS\", \"LQ-AU\", \"LQ-VS\"], # the set of strategy combinations across all sectors\n",
    "                exclude_args:list[str]=['Z', 'strategy_set'], # a list of arguments that should be returned as they are\n",
    "                override:bool=False, # whether to build the grid if it is very large\n",
    "                drop_args:list[str]=['override', 'exclude_args', 'drop_args'], # a list of arguments to drop from the final result\n",
    "               ) -> dict: # A dictionary containing items from `ModelTypeRegMarket` and `ModelTypeEGT`\n",
    "    \"\"\"Initialise Regulatory Market models for all combinations of the provided\n",
    "    parameter valules.\"\"\"\n",
    "    \n",
    "    saved_args = locals()\n",
    "    models = model_builder(saved_args,\n",
    "                           exclude_args=exclude_args,\n",
    "                           override=override,\n",
    "                           drop_args=drop_args)\n",
    "    return models"
   ]
  },
  {
   "cell_type": "code",
   "execution_count": 4,
   "metadata": {},
   "outputs": [],
   "source": [
    "#| hide\n",
    "import nbdev; nbdev.nbdev_export()"
   ]
  }
 ],
 "metadata": {
  "kernelspec": {
   "display_name": "base",
   "language": "python",
   "name": "python3"
  },
  "language_info": {
   "codemirror_mode": {
    "name": "ipython",
    "version": 3
   },
   "file_extension": ".py",
   "mimetype": "text/x-python",
   "name": "python",
   "nbconvert_exporter": "python",
   "pygments_lexer": "ipython3",
   "version": "3.10.6"
  },
  "orig_nbformat": 4,
  "vscode": {
   "interpreter": {
    "hash": "5844494aa8caf4c1a0a05d85746d5381f91a25fadc32ae63a73a248c881db361"
   }
  }
 },
 "nbformat": 4,
 "nbformat_minor": 2
}
